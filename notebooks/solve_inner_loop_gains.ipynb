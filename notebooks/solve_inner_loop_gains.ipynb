{
 "cells": [
  {
   "cell_type": "markdown",
   "metadata": {},
   "source": [
    "This document describes an attempt to solve for the gains of the first two loops of this block diagram to ensure that at a pair of the poles end up in a desired location.\n",
    "\n",
    "![](http://moorepants.github.io/dissertation/_images/inner-loops.png)\n",
    "\n",
    "where\n",
    "\n",
    "$$G_{nm}(s) = \\frac{\\omega_{nm}^2}{s^2 + 2\\zeta_{nm}\\omega_{nm}s + \\omega_{nm}^2}$$\n",
    "\n",
    "and the bicycle block is the linearized Whipple model as presented in Meijaard 2007."
   ]
  },
  {
   "cell_type": "markdown",
   "metadata": {},
   "source": [
    "# Setup"
   ]
  },
  {
   "cell_type": "code",
   "execution_count": 1,
   "metadata": {
    "collapsed": false
   },
   "outputs": [],
   "source": [
    "import os\n",
    "import dill\n",
    "from IPython.display import display, Math\n",
    "from sympy import MatrixSymbol, Eq, simplify, Poly, det, latex, S, solve, cse\n",
    "from dtk import bicycle\n",
    "import bicycleparameters as bp"
   ]
  },
  {
   "cell_type": "markdown",
   "metadata": {},
   "source": [
    "The `roll_rate_loop.py` file builds the bicycle state space, the neuromuscular state space, and finally the state equations for the closed loop system when the steering angle and roll rate feedback loops are closed."
   ]
  },
  {
   "cell_type": "code",
   "execution_count": 2,
   "metadata": {
    "collapsed": false
   },
   "outputs": [],
   "source": [
    "%run ../src/roll_rate_loop.py"
   ]
  },
  {
   "cell_type": "markdown",
   "metadata": {},
   "source": [
    "# State Space Definitions\n",
    "\n",
    "The bicycle state equations take this general form:"
   ]
  },
  {
   "cell_type": "code",
   "execution_count": 3,
   "metadata": {
    "collapsed": false
   },
   "outputs": [
    {
     "data": {
      "image/png": "[encoded data removed]",
      "text/latex": [
       "$$\\left [ A_{b} = \\left[\\begin{matrix}0 & 0 & 1 & 0\\\\0 & 0 & 0 & 1\\\\a_{20} & a_{21} & a_{22} & a_{23}\\\\a_{30} & a_{31} & a_{32} & a_{33}\\end{matrix}\\right], \\quad x_{b} = \\left[\\begin{matrix}\\phi\\\\\\delta\\\\\\dot{\\phi}\\\\\\dot{\\delta}\\end{matrix}\\right], \\quad B_{b} = \\left[\\begin{matrix}0 & 0 & 0\\\\0 & 0 & 0\\\\b_{20} & b_{21} & b_{22}\\\\b_{30} & b_{31} & b_{32}\\end{matrix}\\right], \\quad u_{b} = \\left[\\begin{matrix}T_\\phi\\\\T_\\delta\\\\F_{B}\\end{matrix}\\right]\\right ]$$"
      ],
      "text/plain": [
       "⎡A_b = ⎡ 0    0    1    0 ⎤, x_b = ⎡     φ      ⎤, B_b = ⎡ 0    0    0 ⎤, u_b \n",
       "⎢      ⎢                  ⎥        ⎢            ⎥        ⎢             ⎥      \n",
       "⎢      ⎢ 0    0    0    1 ⎥        ⎢     δ      ⎥        ⎢ 0    0    0 ⎥      \n",
       "⎢      ⎢                  ⎥        ⎢            ⎥        ⎢             ⎥      \n",
       "⎢      ⎢a₂₀  a₂₁  a₂₂  a₂₃⎥        ⎢ \\dot{\\phi} ⎥        ⎢b₂₀  b₂₁  b₂₂⎥      \n",
       "⎢      ⎢                  ⎥        ⎢            ⎥        ⎢             ⎥      \n",
       "⎣      ⎣a₃₀  a₃₁  a₃₂  a₃₃⎦        ⎣\\dot{\\delta}⎦        ⎣b₃₀  b₃₁  b₃₂⎦      \n",
       "\n",
       "= ⎡ T_\\phi ⎤⎤\n",
       "  ⎢        ⎥⎥\n",
       "  ⎢T_\\delta⎥⎥\n",
       "  ⎢        ⎥⎥\n",
       "  ⎣  F_B   ⎦⎥\n",
       "            ⎥\n",
       "            ⎦"
      ]
     },
     "execution_count": 3,
     "metadata": {},
     "output_type": "execute_result"
    }
   ],
   "source": [
    "[Eq(MatrixSymbol('{}_b'.format(v), *b[v].shape), b[v]) for v in ['A', 'x', 'B', 'u']]"
   ]
  },
  {
   "cell_type": "markdown",
   "metadata": {},
   "source": [
    "The second order neuromuscular model can be put in this state space form:"
   ]
  },
  {
   "cell_type": "code",
   "execution_count": 4,
   "metadata": {
    "collapsed": false
   },
   "outputs": [
    {
     "data": {
      "image/png": "[encoded data removed]",
      "text/latex": [
       "$$\\left [ A_{nm} = \\left[\\begin{matrix}0 & 1\\\\- \\omega_{nm}^{2} & - 2 \\omega_{nm} \\zeta_{nm}\\end{matrix}\\right], \\quad x_{nm} = \\left[\\begin{matrix}T_\\delta\\\\\\dot{T}_\\delta\\end{matrix}\\right], \\quad B_{nm} = \\left[\\begin{matrix}0\\\\\\omega_{nm}^{2}\\end{matrix}\\right], \\quad u_{nm} = \\left[\\begin{matrix}k_\\delta \\left(- \\delta + k_{\\dot{\\phi}} \\left(- \\dot{\\phi} + \\dot{\\phi}_c\\right)\\right)\\end{matrix}\\right]\\right ]$$"
      ],
      "text/plain": [
       "⎡Aₙₘ = ⎡  0        1     ⎤, xₙₘ = ⎡   T_\\delta   ⎤, Bₙₘ = ⎡ 0  ⎤, uₙₘ = [k_\\de\n",
       "⎢      ⎢                 ⎥        ⎢              ⎥        ⎢    ⎥              \n",
       "⎢      ⎢    2            ⎥        ⎣\\dot{T}_\\delta⎦        ⎢   2⎥              \n",
       "⎣      ⎣-ωₙₘ   -2⋅ωₙₘ⋅ζₙₘ⎦                                ⎣ωₙₘ ⎦              \n",
       "\n",
       "lta⋅(-δ + k_{\\dot{\\phi}}⋅(-\\dot{\\phi} + \\dot{\\phi}_c))]⎤\n",
       "                                                       ⎥\n",
       "                                                       ⎥\n",
       "                                                       ⎦"
      ]
     },
     "execution_count": 4,
     "metadata": {},
     "output_type": "execute_result"
    }
   ],
   "source": [
    "[Eq(MatrixSymbol('{}_nm'.format(v), *n[v].shape), n[v]) for v in ['A', 'x', 'B', 'u']]"
   ]
  },
  {
   "cell_type": "markdown",
   "metadata": {},
   "source": [
    "The closed loop state equations for the first two loops that are closed around the combine neuromuscular and bicycle model then become:"
   ]
  },
  {
   "cell_type": "code",
   "execution_count": 5,
   "metadata": {
    "collapsed": false
   },
   "outputs": [
    {
     "data": {
      "image/png": "[encoded data removed]",
      "text/latex": [
       "$$\\left [ A_{cl} = \\left[\\begin{matrix}0 & 0 & 1 & 0 & 0 & 0\\\\0 & 0 & 0 & 1 & 0 & 0\\\\a_{20} & a_{21} & a_{22} & a_{23} & b_{21} & 0\\\\a_{30} & a_{31} & a_{32} & a_{33} & b_{31} & 0\\\\0 & 0 & 0 & 0 & 0 & 1\\\\0 & - k_\\delta \\omega_{nm}^{2} & - k_\\delta k_{\\dot{\\phi}} \\omega_{nm}^{2} & 0 & - \\omega_{nm}^{2} & - 2 \\omega_{nm} \\zeta_{nm}\\end{matrix}\\right], \\quad x_{cl} = \\left[\\begin{matrix}\\phi\\\\\\delta\\\\\\dot{\\phi}\\\\\\dot{\\delta}\\\\T_\\delta\\\\\\dot{T}_\\delta\\end{matrix}\\right], \\quad B_{cl} = \\left[\\begin{matrix}0 & 0 & 0\\\\0 & 0 & 0\\\\b_{20} & b_{22} & 0\\\\b_{30} & b_{32} & 0\\\\0 & 0 & 0\\\\0 & 0 & k_\\delta k_{\\dot{\\phi}} \\omega_{nm}^{2}\\end{matrix}\\right], \\quad u_{cl} = \\left[\\begin{matrix}T_\\phi\\\\F_{B}\\\\\\dot{\\phi}_c\\end{matrix}\\right]\\right ]$$"
      ],
      "text/plain": [
       "⎡A_cl = ⎡ 0         0                       1                 0     0        0\n",
       "⎢       ⎢                                                                     \n",
       "⎢       ⎢ 0         0                       0                 1     0        0\n",
       "⎢       ⎢                                                                     \n",
       "⎢       ⎢a₂₀       a₂₁                     a₂₂               a₂₃   b₂₁       0\n",
       "⎢       ⎢                                                                     \n",
       "⎢       ⎢a₃₀       a₃₁                     a₃₂               a₃₃   b₃₁       0\n",
       "⎢       ⎢                                                                     \n",
       "⎢       ⎢ 0         0                       0                 0     0        1\n",
       "⎢       ⎢                                                                     \n",
       "⎢       ⎢                  2                              2           2       \n",
       "⎣       ⎣ 0   -k_\\delta⋅ωₙₘ   -k_\\delta⋅k_{\\dot{\\phi}}⋅ωₙₘ    0   -ωₙₘ   -2⋅ωₙ\n",
       "\n",
       "     ⎤, x_cl = ⎡      φ       ⎤, B_cl = ⎡ 0    0                0             \n",
       "     ⎥         ⎢              ⎥         ⎢                                     \n",
       "     ⎥         ⎢      δ       ⎥         ⎢ 0    0                0             \n",
       "     ⎥         ⎢              ⎥         ⎢                                     \n",
       "     ⎥         ⎢  \\dot{\\phi}  ⎥         ⎢b₂₀  b₂₂               0             \n",
       "     ⎥         ⎢              ⎥         ⎢                                     \n",
       "     ⎥         ⎢ \\dot{\\delta} ⎥         ⎢b₃₀  b₃₂               0             \n",
       "     ⎥         ⎢              ⎥         ⎢                                     \n",
       "     ⎥         ⎢   T_\\delta   ⎥         ⎢ 0    0                0             \n",
       "     ⎥         ⎢              ⎥         ⎢                                     \n",
       "     ⎥         ⎣\\dot{T}_\\delta⎦         ⎢                                     \n",
       "ₘ⋅ζₙₘ⎦                                  ⎣ 0    0   k_\\delta⋅k_{\\dot{\\phi}}⋅ωₙₘ\n",
       "\n",
       " ⎤, u_cl = ⎡   T_\\phi   ⎤⎤\n",
       " ⎥         ⎢            ⎥⎥\n",
       " ⎥         ⎢    F_B     ⎥⎥\n",
       " ⎥         ⎢            ⎥⎥\n",
       " ⎥         ⎣\\dot{\\phi}_c⎦⎥\n",
       " ⎥                       ⎥\n",
       " ⎥                       ⎥\n",
       " ⎥                       ⎥\n",
       " ⎥                       ⎥\n",
       " ⎥                       ⎥\n",
       "2⎥                       ⎥\n",
       " ⎦                       ⎦"
      ]
     },
     "execution_count": 5,
     "metadata": {},
     "output_type": "execute_result"
    }
   ],
   "source": [
    "[Eq(MatrixSymbol('{}_cl'.format(v), *c[v].shape), c[v]) for v in ['A', 'x', 'B', 'u']]"
   ]
  },
  {
   "cell_type": "markdown",
   "metadata": {},
   "source": [
    "# Characteristic Equation\n",
    "\n",
    "The characteristic equation can be formed for this closed loop system and converted to a polynomial."
   ]
  },
  {
   "cell_type": "code",
   "execution_count": 6,
   "metadata": {
    "collapsed": false
   },
   "outputs": [
    {
     "data": {
      "image/png": "[encoded data removed]",
      "text/latex": [
       "$$\\operatorname{Poly}{\\left( a_{20} a_{31} \\omega_{nm}^{2} - a_{20} b_{31} k_\\delta \\omega_{nm}^{2} - a_{21} a_{30} \\omega_{nm}^{2} + a_{30} b_{21} k_\\delta \\omega_{nm}^{2} + s^{6} + s^{5} \\left(- a_{22} - a_{33} + 2 \\omega_{nm} \\zeta_{nm}\\right) + s^{4} \\left(- a_{20} + a_{22} a_{33} - 2 a_{22} \\omega_{nm} \\zeta_{nm} - a_{23} a_{32} - a_{31} - 2 a_{33} \\omega_{nm} \\zeta_{nm} + \\omega_{nm}^{2}\\right) + s^{3} \\left(a_{20} a_{33} - 2 a_{20} \\omega_{nm} \\zeta_{nm} - a_{21} a_{32} + a_{22} a_{31} + 2 a_{22} a_{33} \\omega_{nm} \\zeta_{nm} - a_{22} \\omega_{nm}^{2} - a_{23} a_{30} - 2 a_{23} a_{32} \\omega_{nm} \\zeta_{nm} - 2 a_{31} \\omega_{nm} \\zeta_{nm} - a_{33} \\omega_{nm}^{2} + b_{21} k_\\delta k_{\\dot{\\phi}} \\omega_{nm}^{2}\\right) + s^{2} \\left(a_{20} a_{31} + 2 a_{20} a_{33} \\omega_{nm} \\zeta_{nm} - a_{20} \\omega_{nm}^{2} - a_{21} a_{30} - 2 a_{21} a_{32} \\omega_{nm} \\zeta_{nm} + 2 a_{22} a_{31} \\omega_{nm} \\zeta_{nm} + a_{22} a_{33} \\omega_{nm}^{2} - 2 a_{23} a_{30} \\omega_{nm} \\zeta_{nm} - a_{23} a_{32} \\omega_{nm}^{2} + a_{23} b_{31} k_\\delta k_{\\dot{\\phi}} \\omega_{nm}^{2} - a_{31} \\omega_{nm}^{2} - a_{33} b_{21} k_\\delta k_{\\dot{\\phi}} \\omega_{nm}^{2} + b_{31} k_\\delta \\omega_{nm}^{2}\\right) + s \\left(2 a_{20} a_{31} \\omega_{nm} \\zeta_{nm} + a_{20} a_{33} \\omega_{nm}^{2} - 2 a_{21} a_{30} \\omega_{nm} \\zeta_{nm} - a_{21} a_{32} \\omega_{nm}^{2} + a_{21} b_{31} k_\\delta k_{\\dot{\\phi}} \\omega_{nm}^{2} + a_{22} a_{31} \\omega_{nm}^{2} - a_{22} b_{31} k_\\delta \\omega_{nm}^{2} - a_{23} a_{30} \\omega_{nm}^{2} - a_{31} b_{21} k_\\delta k_{\\dot{\\phi}} \\omega_{nm}^{2} + a_{32} b_{21} k_\\delta \\omega_{nm}^{2}\\right), s, domain=\\mathbb{Z}\\left[a_{20}, a_{21}, a_{22}, a_{23}, a_{30}, a_{31}, a_{32}, a_{33}, b_{21}, b_{31}, k_\\delta, k_{\\dot{\\phi}}, \\omega_{nm}, \\zeta_{nm}\\right] \\right)}$$"
      ],
      "text/plain": [
       "Poly(s**6 + (-a_22 - a_33 + 2*omega_nm*zeta_nm)*s**5 + (-a_20 + a_22*a_33 - 2*\n",
       "a_22*omega_nm*zeta_nm - a_23*a_32 - a_31 - 2*a_33*omega_nm*zeta_nm + omega_nm*\n",
       "*2)*s**4 + (a_20*a_33 - 2*a_20*omega_nm*zeta_nm - a_21*a_32 + a_22*a_31 + 2*a_\n",
       "22*a_33*omega_nm*zeta_nm - a_22*omega_nm**2 - a_23*a_30 - 2*a_23*a_32*omega_nm\n",
       "*zeta_nm - 2*a_31*omega_nm*zeta_nm - a_33*omega_nm**2 + b_21*k_\\delta*k_{\\dot{\n",
       "\\phi}}*omega_nm**2)*s**3 + (a_20*a_31 + 2*a_20*a_33*omega_nm*zeta_nm - a_20*om\n",
       "ega_nm**2 - a_21*a_30 - 2*a_21*a_32*omega_nm*zeta_nm + 2*a_22*a_31*omega_nm*ze\n",
       "ta_nm + a_22*a_33*omega_nm**2 - 2*a_23*a_30*omega_nm*zeta_nm - a_23*a_32*omega\n",
       "_nm**2 + a_23*b_31*k_\\delta*k_{\\dot{\\phi}}*omega_nm**2 - a_31*omega_nm**2 - a_\n",
       "33*b_21*k_\\delta*k_{\\dot{\\phi}}*omega_nm**2 + b_31*k_\\delta*omega_nm**2)*s**2 \n",
       "+ (2*a_20*a_31*omega_nm*zeta_nm + a_20*a_33*omega_nm**2 - 2*a_21*a_30*omega_nm\n",
       "*zeta_nm - a_21*a_32*omega_nm**2 + a_21*b_31*k_\\delta*k_{\\dot{\\phi}}*omega_nm*\n",
       "*2 + a_22*a_31*omega_nm**2 - a_22*b_31*k_\\delta*omega_nm**2 - a_23*a_30*omega_\n",
       "nm**2 - a_31*b_21*k_\\delta*k_{\\dot{\\phi}}*omega_nm**2 + a_32*b_21*k_\\delta*ome\n",
       "ga_nm**2)*s + a_20*a_31*omega_nm**2 - a_20*b_31*k_\\delta*omega_nm**2 - a_21*a_\n",
       "30*omega_nm**2 + a_30*b_21*k_\\delta*omega_nm**2, s, domain='ZZ[a_20,a_21,a_22,\n",
       "a_23,a_30,a_31,a_32,a_33,b_21,b_31,k_\\delta,k_{\\dot{\\phi}},omega_nm,zeta_nm]')"
      ]
     },
     "execution_count": 6,
     "metadata": {},
     "output_type": "execute_result"
    }
   ],
   "source": [
    "s = Symbol('s')\n",
    "char_eq = det(c['A'] - s * eye(c['A'].shape[0])).as_poly(s)\n",
    "char_eq"
   ]
  },
  {
   "cell_type": "markdown",
   "metadata": {},
   "source": [
    "Additionally, the coefficients to the 6th order polynomial can be extracted and simplified:"
   ]
  },
  {
   "cell_type": "code",
   "execution_count": 7,
   "metadata": {
    "collapsed": false,
    "scrolled": true
   },
   "outputs": [
    {
     "data": {
      "text/latex": [
       "$$s^6: 1$$"
      ],
      "text/plain": [
       "<IPython.core.display.Math object>"
      ]
     },
     "metadata": {},
     "output_type": "display_data"
    },
    {
     "data": {
      "text/latex": [
       "$$s^5: - a_{22} - a_{33} + 2 \\omega_{nm} \\zeta_{nm}$$"
      ],
      "text/plain": [
       "<IPython.core.display.Math object>"
      ]
     },
     "metadata": {},
     "output_type": "display_data"
    },
    {
     "data": {
      "text/latex": [
       "$$s^4: - a_{20} + a_{22} a_{33} - 2 a_{22} \\omega_{nm} \\zeta_{nm} - a_{23} a_{32} - a_{31} - 2 a_{33} \\omega_{nm} \\zeta_{nm} + \\omega_{nm}^{2}$$"
      ],
      "text/plain": [
       "<IPython.core.display.Math object>"
      ]
     },
     "metadata": {},
     "output_type": "display_data"
    },
    {
     "data": {
      "text/latex": [
       "$$s^3: a_{20} a_{33} - 2 a_{20} \\omega_{nm} \\zeta_{nm} - a_{21} a_{32} + a_{22} a_{31} + 2 a_{22} a_{33} \\omega_{nm} \\zeta_{nm} - a_{22} \\omega_{nm}^{2} - a_{23} a_{30} - 2 a_{23} a_{32} \\omega_{nm} \\zeta_{nm} - 2 a_{31} \\omega_{nm} \\zeta_{nm} - a_{33} \\omega_{nm}^{2} + b_{21} k_\\delta k_{\\dot{\\phi}} \\omega_{nm}^{2}$$"
      ],
      "text/plain": [
       "<IPython.core.display.Math object>"
      ]
     },
     "metadata": {},
     "output_type": "display_data"
    },
    {
     "data": {
      "text/latex": [
       "$$s^2: a_{20} a_{31} + 2 a_{20} a_{33} \\omega_{nm} \\zeta_{nm} - a_{20} \\omega_{nm}^{2} - a_{21} a_{30} - 2 a_{21} a_{32} \\omega_{nm} \\zeta_{nm} + 2 a_{22} a_{31} \\omega_{nm} \\zeta_{nm} + a_{22} a_{33} \\omega_{nm}^{2} - 2 a_{23} a_{30} \\omega_{nm} \\zeta_{nm} - a_{23} a_{32} \\omega_{nm}^{2} + a_{23} b_{31} k_\\delta k_{\\dot{\\phi}} \\omega_{nm}^{2} - a_{31} \\omega_{nm}^{2} - a_{33} b_{21} k_\\delta k_{\\dot{\\phi}} \\omega_{nm}^{2} + b_{31} k_\\delta \\omega_{nm}^{2}$$"
      ],
      "text/plain": [
       "<IPython.core.display.Math object>"
      ]
     },
     "metadata": {},
     "output_type": "display_data"
    },
    {
     "data": {
      "text/latex": [
       "$$s^1: \\omega_{nm} \\left(2 a_{20} a_{31} \\zeta_{nm} + a_{20} a_{33} \\omega_{nm} - 2 a_{21} a_{30} \\zeta_{nm} - a_{21} a_{32} \\omega_{nm} + a_{21} b_{31} k_\\delta k_{\\dot{\\phi}} \\omega_{nm} + a_{22} a_{31} \\omega_{nm} - a_{22} b_{31} k_\\delta \\omega_{nm} - a_{23} a_{30} \\omega_{nm} - a_{31} b_{21} k_\\delta k_{\\dot{\\phi}} \\omega_{nm} + a_{32} b_{21} k_\\delta \\omega_{nm}\\right)$$"
      ],
      "text/plain": [
       "<IPython.core.display.Math object>"
      ]
     },
     "metadata": {},
     "output_type": "display_data"
    },
    {
     "data": {
      "text/latex": [
       "$$s^0: \\omega_{nm}^{2} \\left(a_{20} a_{31} - a_{20} b_{31} k_\\delta - a_{21} a_{30} + a_{30} b_{21} k_\\delta\\right)$$"
      ],
      "text/plain": [
       "<IPython.core.display.Math object>"
      ]
     },
     "metadata": {},
     "output_type": "display_data"
    }
   ],
   "source": [
    "for i, coeff in enumerate(char_eq.coeffs()):\n",
    "    display(Math(r'$s^{}: {}$'.format(len(char_eq.coeffs()) - i - 1, latex(simplify(coeff)))))"
   ]
  },
  {
   "cell_type": "markdown",
   "metadata": {},
   "source": [
    "The symbolic form of the characteristic equation *cannot* be easily factored."
   ]
  },
  {
   "cell_type": "code",
   "execution_count": 8,
   "metadata": {
    "collapsed": false
   },
   "outputs": [
    {
     "data": {
      "image/png": "[encoded data removed]",
      "text/latex": [
       "$$a_{20} a_{31} \\omega_{nm}^{2} + 2 a_{20} a_{31} \\omega_{nm} s \\zeta_{nm} + a_{20} a_{31} s^{2} + a_{20} a_{33} \\omega_{nm}^{2} s + 2 a_{20} a_{33} \\omega_{nm} s^{2} \\zeta_{nm} + a_{20} a_{33} s^{3} - a_{20} b_{31} k_\\delta \\omega_{nm}^{2} - a_{20} \\omega_{nm}^{2} s^{2} - 2 a_{20} \\omega_{nm} s^{3} \\zeta_{nm} - a_{20} s^{4} - a_{21} a_{30} \\omega_{nm}^{2} - 2 a_{21} a_{30} \\omega_{nm} s \\zeta_{nm} - a_{21} a_{30} s^{2} - a_{21} a_{32} \\omega_{nm}^{2} s - 2 a_{21} a_{32} \\omega_{nm} s^{2} \\zeta_{nm} - a_{21} a_{32} s^{3} + a_{21} b_{31} k_\\delta k_{\\dot{\\phi}} \\omega_{nm}^{2} s + a_{22} a_{31} \\omega_{nm}^{2} s + 2 a_{22} a_{31} \\omega_{nm} s^{2} \\zeta_{nm} + a_{22} a_{31} s^{3} + a_{22} a_{33} \\omega_{nm}^{2} s^{2} + 2 a_{22} a_{33} \\omega_{nm} s^{3} \\zeta_{nm} + a_{22} a_{33} s^{4} - a_{22} b_{31} k_\\delta \\omega_{nm}^{2} s - a_{22} \\omega_{nm}^{2} s^{3} - 2 a_{22} \\omega_{nm} s^{4} \\zeta_{nm} - a_{22} s^{5} - a_{23} a_{30} \\omega_{nm}^{2} s - 2 a_{23} a_{30} \\omega_{nm} s^{2} \\zeta_{nm} - a_{23} a_{30} s^{3} - a_{23} a_{32} \\omega_{nm}^{2} s^{2} - 2 a_{23} a_{32} \\omega_{nm} s^{3} \\zeta_{nm} - a_{23} a_{32} s^{4} + a_{23} b_{31} k_\\delta k_{\\dot{\\phi}} \\omega_{nm}^{2} s^{2} + a_{30} b_{21} k_\\delta \\omega_{nm}^{2} - a_{31} b_{21} k_\\delta k_{\\dot{\\phi}} \\omega_{nm}^{2} s - a_{31} \\omega_{nm}^{2} s^{2} - 2 a_{31} \\omega_{nm} s^{3} \\zeta_{nm} - a_{31} s^{4} + a_{32} b_{21} k_\\delta \\omega_{nm}^{2} s - a_{33} b_{21} k_\\delta k_{\\dot{\\phi}} \\omega_{nm}^{2} s^{2} - a_{33} \\omega_{nm}^{2} s^{3} - 2 a_{33} \\omega_{nm} s^{4} \\zeta_{nm} - a_{33} s^{5} + b_{21} k_\\delta k_{\\dot{\\phi}} \\omega_{nm}^{2} s^{3} + b_{31} k_\\delta \\omega_{nm}^{2} s^{2} + \\omega_{nm}^{2} s^{4} + 2 \\omega_{nm} s^{5} \\zeta_{nm} + s^{6}$$"
      ],
      "text/plain": [
       "           2                                  2              2                \n",
       "a₂₀⋅a₃₁⋅ωₙₘ  + 2⋅a₂₀⋅a₃₁⋅ωₙₘ⋅s⋅ζₙₘ + a₂₀⋅a₃₁⋅s  + a₂₀⋅a₃₃⋅ωₙₘ ⋅s + 2⋅a₂₀⋅a₃₃⋅ω\n",
       "\n",
       "    2                3                       2          2  2              3   \n",
       "ₙₘ⋅s ⋅ζₙₘ + a₂₀⋅a₃₃⋅s  - a₂₀⋅b₃₁⋅k_\\delta⋅ωₙₘ  - a₂₀⋅ωₙₘ ⋅s  - 2⋅a₂₀⋅ωₙₘ⋅s ⋅ζₙ\n",
       "\n",
       "         4              2                                  2              2   \n",
       "ₘ - a₂₀⋅s  - a₂₁⋅a₃₀⋅ωₙₘ  - 2⋅a₂₁⋅a₃₀⋅ωₙₘ⋅s⋅ζₙₘ - a₂₁⋅a₃₀⋅s  - a₂₁⋅a₃₂⋅ωₙₘ ⋅s \n",
       "\n",
       "                 2                3                                      2    \n",
       "- 2⋅a₂₁⋅a₃₂⋅ωₙₘ⋅s ⋅ζₙₘ - a₂₁⋅a₃₂⋅s  + a₂₁⋅b₃₁⋅k_\\delta⋅k_{\\dot{\\phi}}⋅ωₙₘ ⋅s +\n",
       "\n",
       "            2                    2                3              2  2         \n",
       " a₂₂⋅a₃₁⋅ωₙₘ ⋅s + 2⋅a₂₂⋅a₃₁⋅ωₙₘ⋅s ⋅ζₙₘ + a₂₂⋅a₃₁⋅s  + a₂₂⋅a₃₃⋅ωₙₘ ⋅s  + 2⋅a₂₂⋅\n",
       "\n",
       "         3                4                       2            2  3           \n",
       "a₃₃⋅ωₙₘ⋅s ⋅ζₙₘ + a₂₂⋅a₃₃⋅s  - a₂₂⋅b₃₁⋅k_\\delta⋅ωₙₘ ⋅s - a₂₂⋅ωₙₘ ⋅s  - 2⋅a₂₂⋅ωₙ\n",
       "\n",
       "   4            5              2                    2                3        \n",
       "ₘ⋅s ⋅ζₙₘ - a₂₂⋅s  - a₂₃⋅a₃₀⋅ωₙₘ ⋅s - 2⋅a₂₃⋅a₃₀⋅ωₙₘ⋅s ⋅ζₙₘ - a₂₃⋅a₃₀⋅s  - a₂₃⋅a\n",
       "\n",
       "      2  2                  3                4                                \n",
       "₃₂⋅ωₙₘ ⋅s  - 2⋅a₂₃⋅a₃₂⋅ωₙₘ⋅s ⋅ζₙₘ - a₂₃⋅a₃₂⋅s  + a₂₃⋅b₃₁⋅k_\\delta⋅k_{\\dot{\\phi\n",
       "\n",
       "      2  2                       2                                      2     \n",
       "}}⋅ωₙₘ ⋅s  + a₃₀⋅b₂₁⋅k_\\delta⋅ωₙₘ  - a₃₁⋅b₂₁⋅k_\\delta⋅k_{\\dot{\\phi}}⋅ωₙₘ ⋅s - \n",
       "\n",
       "       2  2              3            4                       2               \n",
       "a₃₁⋅ωₙₘ ⋅s  - 2⋅a₃₁⋅ωₙₘ⋅s ⋅ζₙₘ - a₃₁⋅s  + a₃₂⋅b₂₁⋅k_\\delta⋅ωₙₘ ⋅s - a₃₃⋅b₂₁⋅k_\n",
       "\n",
       "                         2  2          2  3              4            5       \n",
       "\\delta⋅k_{\\dot{\\phi}}⋅ωₙₘ ⋅s  - a₃₃⋅ωₙₘ ⋅s  - 2⋅a₃₃⋅ωₙₘ⋅s ⋅ζₙₘ - a₃₃⋅s  + b₂₁⋅\n",
       "\n",
       "                           2  3                   2  2      2  4          5   \n",
       "k_\\delta⋅k_{\\dot{\\phi}}⋅ωₙₘ ⋅s  + b₃₁⋅k_\\delta⋅ωₙₘ ⋅s  + ωₙₘ ⋅s  + 2⋅ωₙₘ⋅s ⋅ζₙ\n",
       "\n",
       "     6\n",
       "ₘ + s "
      ]
     },
     "execution_count": 8,
     "metadata": {},
     "output_type": "execute_result"
    }
   ],
   "source": [
    "char_eq.factor()"
   ]
  },
  {
   "cell_type": "markdown",
   "metadata": {},
   "source": [
    "# Solve for the gains\n",
    "\n",
    "There are two control gains, $k_\\delta$ and $k_{\\dot{\\phi}}$, that are the unknowns. We'd like to find the value of the two gains such that the weave poles when there is no feedback, i.e. $k_\\delta=0$ and $k_{\\dot{\\phi}}=0$, shift to a pair of poles when there is feedback that are located at a damping ratio of 0.15 and a natural frequency of 10 rad/s. This pair of poles gives a desired second order system:"
   ]
  },
  {
   "cell_type": "code",
   "execution_count": 9,
   "metadata": {
    "collapsed": false
   },
   "outputs": [],
   "source": [
    "omega_d, zeta_d = symbols('omega_d, zeta_d', real=True, positive=True)"
   ]
  },
  {
   "cell_type": "code",
   "execution_count": 10,
   "metadata": {
    "collapsed": false
   },
   "outputs": [
    {
     "data": {
      "image/png": "[encoded data removed]",
      "text/latex": [
       "$$\\operatorname{Poly}{\\left( \\omega_{d}^{2} + 2 \\omega_{d} s \\zeta_{d} + s^{2}, s, domain=\\mathbb{Z}\\left[\\omega_{d}, \\zeta_{d}\\right] \\right)}$$"
      ],
      "text/plain": [
       "Poly(s**2 + 2*omega_d*zeta_d*s + omega_d**2, s, domain='ZZ[omega_d,zeta_d]')"
      ]
     },
     "execution_count": 10,
     "metadata": {},
     "output_type": "execute_result"
    }
   ],
   "source": [
    "desired_second_order = Poly((s**2 + 2 * zeta_d * omega_d * s + omega_d**2), s)\n",
    "desired_second_order"
   ]
  },
  {
   "cell_type": "markdown",
   "metadata": {},
   "source": [
    "This pair of poles must be accompanied by four more poles to equate to the sixth order system above. The desired sixth order system with arbitrary coefficients is then:"
   ]
  },
  {
   "cell_type": "code",
   "execution_count": 11,
   "metadata": {
    "collapsed": false
   },
   "outputs": [
    {
     "data": {
      "image/png": "[encoded data removed]",
      "text/latex": [
       "$$\\operatorname{Poly}{\\left( c_{0} \\omega_{d}^{2} + s^{6} + s^{5} \\left(c_{3} + 2 \\omega_{d} \\zeta_{d}\\right) + s^{4} \\left(c_{2} + 2 c_{3} \\omega_{d} \\zeta_{d} + \\omega_{d}^{2}\\right) + s^{3} \\left(c_{1} + 2 c_{2} \\omega_{d} \\zeta_{d} + c_{3} \\omega_{d}^{2}\\right) + s^{2} \\left(c_{0} + 2 c_{1} \\omega_{d} \\zeta_{d} + c_{2} \\omega_{d}^{2}\\right) + s \\left(2 c_{0} \\omega_{d} \\zeta_{d} + c_{1} \\omega_{d}^{2}\\right), s, domain=\\mathbb{Z}\\left[c_{0}, c_{1}, c_{2}, c_{3}, \\omega_{d}, \\zeta_{d}\\right] \\right)}$$"
      ],
      "text/plain": [
       "Poly(s**6 + (c3 + 2*omega_d*zeta_d)*s**5 + (c2 + 2*c3*omega_d*zeta_d + omega_d\n",
       "**2)*s**4 + (c1 + 2*c2*omega_d*zeta_d + c3*omega_d**2)*s**3 + (c0 + 2*c1*omega\n",
       "_d*zeta_d + c2*omega_d**2)*s**2 + (2*c0*omega_d*zeta_d + c1*omega_d**2)*s + c0\n",
       "*omega_d**2, s, domain='ZZ[c0,c1,c2,c3,omega_d,zeta_d]')"
      ]
     },
     "execution_count": 11,
     "metadata": {},
     "output_type": "execute_result"
    }
   ],
   "source": [
    "c0, c1, c2, c3 = symbols('c0, c1, c2, c3')\n",
    "desired_six_order = Poly(s**4 + c3 * s**3 + c2 * s**2 + c1 * s + c0, s) * desired_second_order\n",
    "desired_six_order"
   ]
  },
  {
   "cell_type": "markdown",
   "metadata": {},
   "source": [
    "The coefficients of the desired polynomial and the one formed from the closed loop system can then be substracted from each other to solve for the unknowns: $c_0, c_1, c_2, c_3, k_\\delta, k_{\\dot{\\phi}}$. This gives 6 equations for the six unknowns."
   ]
  },
  {
   "cell_type": "code",
   "execution_count": 12,
   "metadata": {
    "collapsed": false
   },
   "outputs": [
    {
     "data": {
      "image/png": "[encoded data removed]",
      "text/latex": [
       "$$\\left[\\begin{matrix}- a_{22} - a_{33} - c_{3} - 2 \\omega_{d} \\zeta_{d} + 2 \\omega_{nm} \\zeta_{nm}\\\\- a_{20} + a_{22} a_{33} - 2 a_{22} \\omega_{nm} \\zeta_{nm} - a_{23} a_{32} - a_{31} - 2 a_{33} \\omega_{nm} \\zeta_{nm} - c_{2} - 2 c_{3} \\omega_{d} \\zeta_{d} - \\omega_{d}^{2} + \\omega_{nm}^{2}\\\\a_{20} a_{33} - 2 a_{20} \\omega_{nm} \\zeta_{nm} - a_{21} a_{32} + a_{22} a_{31} + 2 a_{22} a_{33} \\omega_{nm} \\zeta_{nm} - a_{22} \\omega_{nm}^{2} - a_{23} a_{30} - 2 a_{23} a_{32} \\omega_{nm} \\zeta_{nm} - 2 a_{31} \\omega_{nm} \\zeta_{nm} - a_{33} \\omega_{nm}^{2} + b_{21} k_\\delta k_{\\dot{\\phi}} \\omega_{nm}^{2} - c_{1} - 2 c_{2} \\omega_{d} \\zeta_{d} - c_{3} \\omega_{d}^{2}\\\\a_{20} a_{31} + 2 a_{20} a_{33} \\omega_{nm} \\zeta_{nm} - a_{20} \\omega_{nm}^{2} - a_{21} a_{30} - 2 a_{21} a_{32} \\omega_{nm} \\zeta_{nm} + 2 a_{22} a_{31} \\omega_{nm} \\zeta_{nm} + a_{22} a_{33} \\omega_{nm}^{2} - 2 a_{23} a_{30} \\omega_{nm} \\zeta_{nm} - a_{23} a_{32} \\omega_{nm}^{2} + a_{23} b_{31} k_\\delta k_{\\dot{\\phi}} \\omega_{nm}^{2} - a_{31} \\omega_{nm}^{2} - a_{33} b_{21} k_\\delta k_{\\dot{\\phi}} \\omega_{nm}^{2} + b_{31} k_\\delta \\omega_{nm}^{2} - c_{0} - 2 c_{1} \\omega_{d} \\zeta_{d} - c_{2} \\omega_{d}^{2}\\\\2 a_{20} a_{31} \\omega_{nm} \\zeta_{nm} + a_{20} a_{33} \\omega_{nm}^{2} - 2 a_{21} a_{30} \\omega_{nm} \\zeta_{nm} - a_{21} a_{32} \\omega_{nm}^{2} + a_{21} b_{31} k_\\delta k_{\\dot{\\phi}} \\omega_{nm}^{2} + a_{22} a_{31} \\omega_{nm}^{2} - a_{22} b_{31} k_\\delta \\omega_{nm}^{2} - a_{23} a_{30} \\omega_{nm}^{2} - a_{31} b_{21} k_\\delta k_{\\dot{\\phi}} \\omega_{nm}^{2} + a_{32} b_{21} k_\\delta \\omega_{nm}^{2} - 2 c_{0} \\omega_{d} \\zeta_{d} - c_{1} \\omega_{d}^{2}\\\\a_{20} a_{31} \\omega_{nm}^{2} - a_{20} b_{31} k_\\delta \\omega_{nm}^{2} - a_{21} a_{30} \\omega_{nm}^{2} + a_{30} b_{21} k_\\delta \\omega_{nm}^{2} - c_{0} \\omega_{d}^{2}\\end{matrix}\\right]$$"
      ],
      "text/plain": [
       "⎡                                                                             \n",
       "⎢                                                                             \n",
       "⎢                                                                             \n",
       "⎢                                                                             \n",
       "⎢                                                                             \n",
       "⎢                                                                             \n",
       "⎢                                        a₂₀⋅a₃₃ - 2⋅a₂₀⋅ωₙₘ⋅ζₙₘ - a₂₁⋅a₃₂ + a\n",
       "⎢                                                                             \n",
       "⎢                                     2                                       \n",
       "⎢a₂₀⋅a₃₁ + 2⋅a₂₀⋅a₃₃⋅ωₙₘ⋅ζₙₘ - a₂₀⋅ωₙₘ  - a₂₁⋅a₃₀ - 2⋅a₂₁⋅a₃₂⋅ωₙₘ⋅ζₙₘ + 2⋅a₂₂⋅\n",
       "⎢                                                                             \n",
       "⎢                                             2                               \n",
       "⎢              2⋅a₂₀⋅a₃₁⋅ωₙₘ⋅ζₙₘ + a₂₀⋅a₃₃⋅ωₙₘ  - 2⋅a₂₁⋅a₃₀⋅ωₙₘ⋅ζₙₘ - a₂₁⋅a₃₂⋅\n",
       "⎢                                                                             \n",
       "⎢                                                                             \n",
       "⎣                                                                             \n",
       "\n",
       "                                          -a₂₂ - a₃₃ - c₃ - 2⋅ω_d⋅ζ_d + 2⋅ωₙₘ⋅\n",
       "                                                                              \n",
       "                                                                              \n",
       "             -a₂₀ + a₂₂⋅a₃₃ - 2⋅a₂₂⋅ωₙₘ⋅ζₙₘ - a₂₃⋅a₃₂ - a₃₁ - 2⋅a₃₃⋅ωₙₘ⋅ζₙₘ - \n",
       "                                                                              \n",
       "                                    2                                         \n",
       "₂₂⋅a₃₁ + 2⋅a₂₂⋅a₃₃⋅ωₙₘ⋅ζₙₘ - a₂₂⋅ωₙₘ  - a₂₃⋅a₃₀ - 2⋅a₂₃⋅a₃₂⋅ωₙₘ⋅ζₙₘ - 2⋅a₃₁⋅ωₙ\n",
       "                                                                              \n",
       "                         2                                  2                 \n",
       "a₃₁⋅ωₙₘ⋅ζₙₘ + a₂₂⋅a₃₃⋅ωₙₘ  - 2⋅a₂₃⋅a₃₀⋅ωₙₘ⋅ζₙₘ - a₂₃⋅a₃₂⋅ωₙₘ  + a₂₃⋅b₃₁⋅k_\\del\n",
       "                                                                              \n",
       "   2                                      2              2                    \n",
       "ωₙₘ  + a₂₁⋅b₃₁⋅k_\\delta⋅k_{\\dot{\\phi}}⋅ωₙₘ  + a₂₂⋅a₃₁⋅ωₙₘ  - a₂₂⋅b₃₁⋅k_\\delta⋅\n",
       "                                                                              \n",
       "                              2                       2              2        \n",
       "                   a₂₀⋅a₃₁⋅ωₙₘ  - a₂₀⋅b₃₁⋅k_\\delta⋅ωₙₘ  - a₂₁⋅a₃₀⋅ωₙₘ  + a₃₀⋅b\n",
       "\n",
       "ζₙₘ                                                                           \n",
       "                                                                              \n",
       "                       2      2                                               \n",
       "c₂ - 2⋅c₃⋅ω_d⋅ζ_d - ω_d  + ωₙₘ                                                \n",
       "                                                                              \n",
       "               2                                  2                           \n",
       "ₘ⋅ζₙₘ - a₃₃⋅ωₙₘ  + b₂₁⋅k_\\delta⋅k_{\\dot{\\phi}}⋅ωₙₘ  - c₁ - 2⋅c₂⋅ω_d⋅ζ_d - c₃⋅ω\n",
       "                                                                              \n",
       "                     2          2                                      2      \n",
       "ta⋅k_{\\dot{\\phi}}⋅ωₙₘ  - a₃₁⋅ωₙₘ  - a₃₃⋅b₂₁⋅k_\\delta⋅k_{\\dot{\\phi}}⋅ωₙₘ  + b₃₁\n",
       "                                                                              \n",
       "   2              2                                      2                    \n",
       "ωₙₘ  - a₂₃⋅a₃₀⋅ωₙₘ  - a₃₁⋅b₂₁⋅k_\\delta⋅k_{\\dot{\\phi}}⋅ωₙₘ  + a₃₂⋅b₂₁⋅k_\\delta⋅\n",
       "                                                                              \n",
       "               2         2                                                    \n",
       "₂₁⋅k_\\delta⋅ωₙₘ  - c₀⋅ω_d                                                     \n",
       "\n",
       "                                            ⎤\n",
       "                                            ⎥\n",
       "                                            ⎥\n",
       "                                            ⎥\n",
       "                                            ⎥\n",
       "  2                                         ⎥\n",
       "_d                                          ⎥\n",
       "                                            ⎥\n",
       "             2                             2⎥\n",
       "⋅k_\\delta⋅ωₙₘ  - c₀ - 2⋅c₁⋅ω_d⋅ζ_d - c₂⋅ω_d ⎥\n",
       "                                            ⎥\n",
       "   2                        2               ⎥\n",
       "ωₙₘ  - 2⋅c₀⋅ω_d⋅ζ_d - c₁⋅ω_d                ⎥\n",
       "                                            ⎥\n",
       "                                            ⎥\n",
       "                                            ⎦"
      ]
     },
     "execution_count": 12,
     "metadata": {},
     "output_type": "execute_result"
    }
   ],
   "source": [
    "zero = Matrix((char_eq - desired_six_order).coeffs())\n",
    "zero"
   ]
  },
  {
   "cell_type": "markdown",
   "metadata": {},
   "source": [
    "The following loads in the numerical parameters for the benchmark bicycle traveling at 5 m/s, for futher use."
   ]
  },
  {
   "cell_type": "code",
   "execution_count": 13,
   "metadata": {
    "collapsed": false
   },
   "outputs": [],
   "source": [
    "A_benchmark, B_benchmark = bicycle.benchmark_state_space(*bicycle.benchmark_matrices(), 5.0, 9.81)"
   ]
  },
  {
   "cell_type": "code",
   "execution_count": 14,
   "metadata": {
    "collapsed": false
   },
   "outputs": [
    {
     "data": {
      "text/plain": [
       "(array([[  0.        ,   0.        ,   1.        ,   0.        ],\n",
       "        [  0.        ,   0.        ,   0.        ,   1.        ],\n",
       "        [  9.48977445, -22.85146663,  -0.52761225,  -1.65257699],\n",
       "        [ 11.71947687, -18.38412373,  18.38402617, -15.42432764]]),\n",
       " array([[ 0.        ,  0.        ],\n",
       "        [ 0.        ,  0.        ],\n",
       "        [ 0.01593498, -0.12409203],\n",
       "        [-0.12409203,  4.32384018]]))"
      ]
     },
     "execution_count": 14,
     "metadata": {},
     "output_type": "execute_result"
    }
   ],
   "source": [
    "A_benchmark, B_benchmark"
   ]
  },
  {
   "cell_type": "markdown",
   "metadata": {},
   "source": [
    "Create a dictionary that can be used to substitute the numerical values for the benchmark bicycle."
   ]
  },
  {
   "cell_type": "code",
   "execution_count": 15,
   "metadata": {
    "collapsed": false
   },
   "outputs": [
    {
     "data": {
      "image/png": "[encoded data removed]",
      "text/latex": [
       "$$\\left \\{ a_{20} : 9.48977444677, \\quad a_{21} : -22.8514666252, \\quad a_{22} : -0.527612249028, \\quad a_{23} : -1.65257699496, \\quad a_{30} : 11.719476872, \\quad a_{31} : -18.3841237318, \\quad a_{32} : 18.3840261666, \\quad a_{33} : -15.4243276372, \\quad b_{21} : -0.124092025412, \\quad b_{31} : 4.3238401808, \\quad \\omega_{d} : 10.5, \\quad \\omega_{nm} : 30, \\quad \\zeta_{d} : 0.15, \\quad \\zeta_{nm} : 0.707\\right \\}$$"
      ],
      "text/plain": [
       "{a₂₀: 9.48977444677, a₂₁: -22.8514666252, a₂₂: -0.527612249028, a₂₃: -1.652576\n",
       "99496, a₃₀: 11.719476872, a₃₁: -18.3841237318, a₃₂: 18.3840261666, a₃₃: -15.42\n",
       "43276372, b₂₁: -0.124092025412, b₃₁: 4.3238401808, ω_d: 10.5, ωₙₘ: 30, ζ_d: 0.\n",
       "15, ζₙₘ: 0.707}"
      ]
     },
     "execution_count": 15,
     "metadata": {},
     "output_type": "execute_result"
    }
   ],
   "source": [
    "par = {k: v for k, v in zip(b['A'], A_benchmark.flatten()) if isinstance(k, Symbol)}\n",
    "par[omega] = 30\n",
    "par[zeta] = 0.707\n",
    "par[omega_d] = 10.5\n",
    "par[zeta_d] = 0.15\n",
    "par[b['B'][2, 1]] = B_benchmark[2, 1]\n",
    "par[b['B'][3, 1]] = B_benchmark[3, 1]\n",
    "par"
   ]
  },
  {
   "cell_type": "markdown",
   "metadata": {},
   "source": [
    "The following shows the form of the six equations that must be solved to find the gains and the other coefficients. The equations are linear in the $c$ coefficients and nonlinear in the gains. Notice that the gains are only in the last four equations."
   ]
  },
  {
   "cell_type": "code",
   "execution_count": 16,
   "metadata": {
    "collapsed": false
   },
   "outputs": [
    {
     "data": {
      "image/png": "[encoded data removed]",
      "text/latex": [
       "$$\\left[\\begin{matrix}- c_{3} + 55.2219398861938\\\\- c_{2} - 3.15 c_{3} + 1513.84472216942\\\\- c_{1} - 3.15 c_{2} - 110.25 c_{3} - 111.682822870417 k_\\delta k_{\\dot{\\phi}} + 16670.819288228\\\\- c_{0} - 3.15 c_{1} - 110.25 c_{2} - 8153.56338281556 k_\\delta k_{\\dot{\\phi}} + 3891.45616272381 k_\\delta + 55610.0242428841\\\\- 3.15 c_{0} - 110.25 c_{1} - 90978.6714602982 k_\\delta k_{\\dot{\\phi}} + 276475.776481344\\\\- 110.25 c_{0} - 38237.9055133813 k_\\delta + 84011.44228978\\end{matrix}\\right]$$"
      ],
      "text/plain": [
       "⎡                                              -c₃ + 55.2219398861938         \n",
       "⎢                                                                             \n",
       "⎢                                         -c₂ - 3.15⋅c₃ + 1513.84472216942    \n",
       "⎢                                                                             \n",
       "⎢              -c₁ - 3.15⋅c₂ - 110.25⋅c₃ - 111.682822870417⋅k_\\delta⋅k_{\\dot{\\\n",
       "⎢                                                                             \n",
       "⎢-c₀ - 3.15⋅c₁ - 110.25⋅c₂ - 8153.56338281556⋅k_\\delta⋅k_{\\dot{\\phi}} + 3891.4\n",
       "⎢                                                                             \n",
       "⎢                -3.15⋅c₀ - 110.25⋅c₁ - 90978.6714602982⋅k_\\delta⋅k_{\\dot{\\phi\n",
       "⎢                                                                             \n",
       "⎣                              -110.25⋅c₀ - 38237.9055133813⋅k_\\delta + 84011.\n",
       "\n",
       "                                      ⎤\n",
       "                                      ⎥\n",
       "                                      ⎥\n",
       "                                      ⎥\n",
       "phi}} + 16670.819288228               ⎥\n",
       "                                      ⎥\n",
       "5616272381⋅k_\\delta + 55610.0242428841⎥\n",
       "                                      ⎥\n",
       "}} + 276475.776481344                 ⎥\n",
       "                                      ⎥\n",
       "44228978                              ⎦"
      ]
     },
     "execution_count": 16,
     "metadata": {},
     "output_type": "execute_result"
    }
   ],
   "source": [
    "zero.subs(par)"
   ]
  },
  {
   "cell_type": "markdown",
   "metadata": {},
   "source": [
    "Now we can attempt to solve for the gains analytically. This set of equations are polynomials in the unknowns and may have an analytical solution. First we solve the first two linear equations for $c_2$ and $c_3$ and substitute them into the last four equations."
   ]
  },
  {
   "cell_type": "markdown",
   "metadata": {},
   "source": [
    "A variable can be substituted for $k_\\delta k_\\dot{\\phi}$ and the equations become linear."
   ]
  },
  {
   "cell_type": "code",
   "execution_count": 17,
   "metadata": {
    "collapsed": true
   },
   "outputs": [],
   "source": [
    "sol = solve(zero, c0, c1, c2, c3, k_delta, k_delta * k_phi_dot) "
   ]
  },
  {
   "cell_type": "code",
   "execution_count": 18,
   "metadata": {
    "collapsed": false
   },
   "outputs": [],
   "source": [
    "sol[k_phi_dot] = (sol[k_delta * k_phi_dot] / sol[k_delta])"
   ]
  },
  {
   "cell_type": "code",
   "execution_count": 19,
   "metadata": {
    "collapsed": false
   },
   "outputs": [
    {
     "data": {
      "image/png": "[encoded data removed]",
      "text/latex": [
       "$$17.0789270685875$$"
      ],
      "text/plain": [
       "17.0789270685875"
      ]
     },
     "execution_count": 19,
     "metadata": {},
     "output_type": "execute_result"
    }
   ],
   "source": [
    "sol[k_delta].subs(par)"
   ]
  },
  {
   "cell_type": "code",
   "execution_count": 20,
   "metadata": {
    "collapsed": false
   },
   "outputs": [
    {
     "data": {
      "image/png": "[encoded data removed]",
      "text/latex": [
       "$$-0.304176256322694$$"
      ],
      "text/plain": [
       "-0.304176256322694"
      ]
     },
     "execution_count": 20,
     "metadata": {},
     "output_type": "execute_result"
    }
   ],
   "source": [
    "sol[k_phi_dot].subs(par)"
   ]
  },
  {
   "cell_type": "markdown",
   "metadata": {
    "collapsed": false
   },
   "source": [
    "# Generate a Python function\n",
    "\n",
    "Next I generate an efficient Python function that evaluates the found expressions for $k_\\delta$ and $k_\\dot{\\phi}$."
   ]
  },
  {
   "cell_type": "code",
   "execution_count": 21,
   "metadata": {
    "collapsed": false
   },
   "outputs": [],
   "source": [
    "py_func_template = '''\\\n",
    "def compute_inner_gains(A, B, omega_nm, zeta_nm, omega_d=10.5, zeta_d=0.15):\n",
    "    \"\"\"Returns the steer and roll rate gains given the state and input\n",
    "    matrices of the bicycle and the neuromuscular block's natural\n",
    "    frequency and damping ratio.\n",
    "\n",
    "    Parameters\n",
    "    ==========\n",
    "    A : array_like, shape(4, 4)\n",
    "        The state matrix for a linear Whipple bicycle model, where\n",
    "        the states are [roll angle, steer angle, roll angular rate,\n",
    "        steer angular rate].\n",
    "    B : array_like, shape(4, 2)\n",
    "        The input matrix for a linear Whipple bicycle model, where\n",
    "        the inputs are [roll torque, steer torque].\n",
    "    omega_nm : float\n",
    "        The natural frequency of the neuromuscular model.\n",
    "    zeta_nm : float\n",
    "        The damping ratio of the neuromuscular model.\n",
    "    omega_d : float, optional\n",
    "        The natural frequency of the desired closed loop pole.\n",
    "    zeta_d : float, optional\n",
    "        The damping ratio of the desired closed loop pole.\n",
    "\n",
    "    Returns\n",
    "    =======\n",
    "    k_delta : float\n",
    "        The steer angle feedback gain.\n",
    "    k_phi_dot : float\n",
    "        The roll rate feedback gain.\n",
    "\n",
    "    \"\"\"\n",
    "    {matrix_expansion}\n",
    "\n",
    "    {sub_exprs}\n",
    "\n",
    "{main_exprs}\n",
    "\n",
    "    return k_delta, k_phi_dot\\\n",
    "'''"
   ]
  },
  {
   "cell_type": "code",
   "execution_count": 22,
   "metadata": {
    "collapsed": false
   },
   "outputs": [],
   "source": [
    "sub_exprs, main_exprs = cse([sol[k_delta], sol[k_phi_dot]])"
   ]
  },
  {
   "cell_type": "code",
   "execution_count": 23,
   "metadata": {
    "collapsed": false
   },
   "outputs": [],
   "source": [
    "zero_syms = zero.free_symbols\n",
    "matrix_expansion = []\n",
    "for mat in ['A', 'B']:\n",
    "    for i, row in enumerate(b[mat].tolist()):\n",
    "        for j, col in enumerate(row):\n",
    "            if col in zero_syms:\n",
    "                matrix_expansion.append('{} = {}[{}, {}]'.format(col, mat, i, j))"
   ]
  },
  {
   "cell_type": "code",
   "execution_count": 24,
   "metadata": {
    "collapsed": false
   },
   "outputs": [],
   "source": [
    "sub_exprs_txt = ['{} = {}'.format(x, y) for x, y in sub_exprs]"
   ]
  },
  {
   "cell_type": "code",
   "execution_count": 25,
   "metadata": {
    "collapsed": false
   },
   "outputs": [],
   "source": [
    "main_exprs_txt = '    k_delta = {}\\n\\n    k_phi_dot = {}'.format(*main_exprs)"
   ]
  },
  {
   "cell_type": "markdown",
   "metadata": {},
   "source": [
    "The full function is shown below:"
   ]
  },
  {
   "cell_type": "code",
   "execution_count": 26,
   "metadata": {
    "collapsed": false
   },
   "outputs": [
    {
     "name": "stdout",
     "output_type": "stream",
     "text": [
      "def compute_inner_gains(A, B, omega_nm, zeta_nm, omega_d=10.5, zeta_d=0.15):\n",
      "    \"\"\"Returns the steer and roll rate gains given the state and input\n",
      "    matrices of the bicycle and the neuromuscular block's natural\n",
      "    frequency and damping ratio.\n",
      "\n",
      "    Parameters\n",
      "    ==========\n",
      "    A : array_like, shape(4, 4)\n",
      "        The state matrix for a linear Whipple bicycle model, where\n",
      "        the states are [roll angle, steer angle, roll angular rate,\n",
      "        steer angular rate].\n",
      "    B : array_like, shape(4, 2)\n",
      "        The input matrix for a linear Whipple bicycle model, where\n",
      "        the inputs are [roll torque, steer torque].\n",
      "    omega_nm : float\n",
      "        The natural frequency of the neuromuscular model.\n",
      "    zeta_nm : float\n",
      "        The damping ratio of the neuromuscular model.\n",
      "    omega_d : float, optional\n",
      "        The natural frequency of the desired closed loop pole.\n",
      "    zeta_d : float, optional\n",
      "        The damping ratio of the desired closed loop pole.\n",
      "\n",
      "    Returns\n",
      "    =======\n",
      "    k_delta : float\n",
      "        The steer angle feedback gain.\n",
      "    k_phi_dot : float\n",
      "        The roll rate feedback gain.\n",
      "\n",
      "    \"\"\"\n",
      "    a_20 = A[2, 0]\n",
      "    a_21 = A[2, 1]\n",
      "    a_22 = A[2, 2]\n",
      "    a_23 = A[2, 3]\n",
      "    a_30 = A[3, 0]\n",
      "    a_31 = A[3, 1]\n",
      "    a_32 = A[3, 2]\n",
      "    a_33 = A[3, 3]\n",
      "    b_21 = B[2, 1]\n",
      "    b_31 = B[3, 1]\n",
      "\n",
      "    x0 = omega_nm**2\n",
      "    x1 = omega_d**4\n",
      "    x2 = omega_d**2\n",
      "    x3 = b_21*x2\n",
      "    x4 = a_20*b_31\n",
      "    x5 = a_30*b_21\n",
      "    x6 = x4 - x5\n",
      "    x7 = b_31*x2\n",
      "    x8 = a_21*b_31\n",
      "    x9 = a_31*b_21\n",
      "    x10 = x8 - x9\n",
      "    x11 = 2*zeta_d\n",
      "    x12 = omega_d**3\n",
      "    x13 = a_22*b_31\n",
      "    x14 = a_32*b_21\n",
      "    x15 = x13 - x14\n",
      "    x16 = zeta_d**2\n",
      "    x17 = 4*x16\n",
      "    x18 = x17*x3\n",
      "    x19 = 2*omega_d*zeta_d\n",
      "    x20 = a_23*b_31\n",
      "    x21 = a_33*b_21\n",
      "    x22 = x20 - x21\n",
      "    x23 = x19*x22\n",
      "    x24 = a_20*a_31\n",
      "    x25 = a_21*a_30\n",
      "    x26 = x0*(x24 - x25)\n",
      "    x27 = x3 - x8 + x9\n",
      "    x28 = -x20 + x21\n",
      "    x29 = a_20*a_33\n",
      "    x30 = a_22*a_31\n",
      "    x31 = 2*zeta_nm\n",
      "    x32 = a_21*a_32\n",
      "    x33 = a_23*a_30\n",
      "    x34 = omega_nm*(omega_nm*x29 + omega_nm*x30 - omega_nm*x32 - omega_nm*x33 + x24*x31 - x25*x31)\n",
      "    x35 = a_23*a_32\n",
      "    x36 = a_22*a_33\n",
      "    x37 = omega_nm*x31\n",
      "    x38 = a_20 + a_22*x37 + a_31 + a_33*x37 - x0 + x2 + x35 - x36\n",
      "    x39 = a_22 + a_33 + x19 - x37\n",
      "    x40 = omega_d*x22\n",
      "    x41 = 4*zeta_d\n",
      "    x42 = 8*zeta_d**3\n",
      "    x43 = a_20*x0 + a_31*x0 + x0*x35 - x0*x36 - x24 + x25 - x29*x37 - x30*x37 + x32*x37 + x33*x37\n",
      "    x44 = a_20*x37 + a_22*x0 + a_31*x37 + a_33*x0 - x29 - x30 + x32 + x33 + x35*x37 - x36*x37\n",
      "    x45 = omega_d**5*x39*(omega_d*x17*x28 - x10*x41 + x10*x42 + x11*x3 + x40) - x1*x38*(x10*x17 - x23 + x27) - x12*x44*(-x10*x11 + x40) + x2*x27*x43 + x2*x34*(b_21*x19 + x28) + x26*(-x18 + x23 + x27)\n",
      "    x46 = x6 + x7\n",
      "    x47 = omega_d*x15\n",
      "    x48 = -x4 + x5\n",
      "    x49 = omega_d*(-x13 + x14)\n",
      "\n",
      "    k_delta = x45/(x0*(b_21*b_31*x1 + b_21*x11*x12*x15 - x10*x6 - x10*x7 - x15*x2*x22 - x18*x6 + x23*x6 + x3*x6))\n",
      "\n",
      "    k_phi_dot = (-omega_d*x43*(-x11*x6 + x47) - x1*x39*(12*x16*x48 - x17*x7 + x41*x47 + x42*x49 + x46 + 16*x6*zeta_d**4) - x12*x38*(x11*x7 + x17*x47 + x41*x6 + x42*x48 + x49) + x2*x44*(x15*x19 + x17*x48 + x46) - x26*(b_31*x19 + x15) + x34*x46)/x45\n",
      "\n",
      "    return k_delta, k_phi_dot\n"
     ]
    }
   ],
   "source": [
    "func_txt = py_func_template.format(matrix_expansion='\\n    '.join(matrix_expansion),\n",
    "                              sub_exprs='\\n    '.join(sub_exprs_txt),\n",
    "                              main_exprs=main_exprs_txt)\n",
    "print(func_txt)"
   ]
  },
  {
   "cell_type": "code",
   "execution_count": 27,
   "metadata": {
    "collapsed": true
   },
   "outputs": [],
   "source": [
    "with open('../src/generated_functions.py', 'w') as f:\n",
    "    f.write(func_txt)"
   ]
  },
  {
   "cell_type": "markdown",
   "metadata": {},
   "source": [
    "# Generate a Matlab function"
   ]
  },
  {
   "cell_type": "code",
   "execution_count": 28,
   "metadata": {
    "collapsed": true
   },
   "outputs": [],
   "source": [
    "m_func_template = '''\\\n",
    "function [k_delta, k_phi_dot] = compute_inner_gains(A, B, omega_nm, zeta_nm, omega_d, zeta_d)\n",
    "% Returns the steer and roll rate gains given the state and input\n",
    "% matrices of the bicycle and the neuromuscular block's natural\n",
    "% frequency and damping ratio.\n",
    "%\n",
    "%   Parameters\n",
    "%   ==========\n",
    "%\n",
    "%   A : double, shape(4, 4)\n",
    "%       The state matrix for a linear Whipple bicycle model, where\n",
    "%       the states are [roll angle, steer angle, roll angular rate,\n",
    "%       steer angular rate].\n",
    "%   B : double, shape(4, 2)\n",
    "%       The input matrix for a linear Whipple bicycle model, where\n",
    "%       the inputs are [roll torque, steer torque].\n",
    "%   omega_nm : double\n",
    "%       The natural frequency of the neuromuscular model.\n",
    "%   zeta_nm : double\n",
    "%       The damping ratio of the neuromuscular model.\n",
    "%   omega_d : double, shape(1, 1)\n",
    "%       The natural frequency of the desired closed loop pole.\n",
    "%   zeta_d : double, shape(1, )\n",
    "%       The damping ratio of the desired closed loop pole.\n",
    "%\n",
    "%   Returns\n",
    "%   =======\n",
    "%   k_delta : float\n",
    "%       The steer angle feedback gain.\n",
    "%   k_phi_dot : float\n",
    "%       The roll rate feedback gain.\n",
    "\n",
    "    {matrix_expansion}\n",
    "\n",
    "    {sub_exprs}\n",
    "\n",
    "{main_exprs}\n",
    "\n",
    "'''"
   ]
  },
  {
   "cell_type": "code",
   "execution_count": 29,
   "metadata": {
    "collapsed": true
   },
   "outputs": [],
   "source": [
    "from sympy import octave_code"
   ]
  },
  {
   "cell_type": "code",
   "execution_count": 30,
   "metadata": {
    "collapsed": false
   },
   "outputs": [],
   "source": [
    "sub_exprs_txt = [octave_code(y, assign_to=x) for x, y in sub_exprs]"
   ]
  },
  {
   "cell_type": "code",
   "execution_count": 31,
   "metadata": {
    "collapsed": false
   },
   "outputs": [],
   "source": [
    "main_exprs_txt = [octave_code(expr, assign_to=var)\n",
    "                  for var, expr in zip(['k_delta', 'k_phi_dot'], main_exprs)]"
   ]
  },
  {
   "cell_type": "code",
   "execution_count": 32,
   "metadata": {
    "collapsed": false
   },
   "outputs": [],
   "source": [
    "matrix_expansion_matlab = []\n",
    "for mat in ['A', 'B']:\n",
    "    for i, row in enumerate(b[mat].tolist()):\n",
    "        for j, col in enumerate(row):\n",
    "            if col in zero_syms:\n",
    "                matrix_expansion_matlab.append('{} = {}({}, {});'.format(col, mat, i + 1, j + 1))"
   ]
  },
  {
   "cell_type": "code",
   "execution_count": 33,
   "metadata": {
    "collapsed": false
   },
   "outputs": [
    {
     "name": "stdout",
     "output_type": "stream",
     "text": [
      "function [k_delta, k_phi_dot] = compute_inner_gains(A, B, omega_nm, zeta_nm, omega_d, zeta_d)\n",
      "% Returns the steer and roll rate gains given the state and input\n",
      "% matrices of the bicycle and the neuromuscular block's natural\n",
      "% frequency and damping ratio.\n",
      "%\n",
      "%   Parameters\n",
      "%   ==========\n",
      "%\n",
      "%   A : double, shape(4, 4)\n",
      "%       The state matrix for a linear Whipple bicycle model, where\n",
      "%       the states are [roll angle, steer angle, roll angular rate,\n",
      "%       steer angular rate].\n",
      "%   B : double, shape(4, 2)\n",
      "%       The input matrix for a linear Whipple bicycle model, where\n",
      "%       the inputs are [roll torque, steer torque].\n",
      "%   omega_nm : double\n",
      "%       The natural frequency of the neuromuscular model.\n",
      "%   zeta_nm : double\n",
      "%       The damping ratio of the neuromuscular model.\n",
      "%   omega_d : double, shape(1, 1)\n",
      "%       The natural frequency of the desired closed loop pole.\n",
      "%   zeta_d : double, shape(1, )\n",
      "%       The damping ratio of the desired closed loop pole.\n",
      "%\n",
      "%   Returns\n",
      "%   =======\n",
      "%   k_delta : float\n",
      "%       The steer angle feedback gain.\n",
      "%   k_phi_dot : float\n",
      "%       The roll rate feedback gain.\n",
      "\n",
      "    a_20 = A(3, 1);\n",
      "    a_21 = A(3, 2);\n",
      "    a_22 = A(3, 3);\n",
      "    a_23 = A(3, 4);\n",
      "    a_30 = A(4, 1);\n",
      "    a_31 = A(4, 2);\n",
      "    a_32 = A(4, 3);\n",
      "    a_33 = A(4, 4);\n",
      "    b_21 = B(3, 2);\n",
      "    b_31 = B(4, 2);\n",
      "\n",
      "    x0 = omega_nm.^2;\n",
      "    x1 = omega_d.^4;\n",
      "    x2 = omega_d.^2;\n",
      "    x3 = b_21.*x2;\n",
      "    x4 = a_20.*b_31;\n",
      "    x5 = a_30.*b_21;\n",
      "    x6 = x4 - x5;\n",
      "    x7 = b_31.*x2;\n",
      "    x8 = a_21.*b_31;\n",
      "    x9 = a_31.*b_21;\n",
      "    x10 = x8 - x9;\n",
      "    x11 = 2*zeta_d;\n",
      "    x12 = omega_d.^3;\n",
      "    x13 = a_22.*b_31;\n",
      "    x14 = a_32.*b_21;\n",
      "    x15 = x13 - x14;\n",
      "    x16 = zeta_d.^2;\n",
      "    x17 = 4*x16;\n",
      "    x18 = x17.*x3;\n",
      "    x19 = 2*omega_d.*zeta_d;\n",
      "    x20 = a_23.*b_31;\n",
      "    x21 = a_33.*b_21;\n",
      "    x22 = x20 - x21;\n",
      "    x23 = x19.*x22;\n",
      "    x24 = a_20.*a_31;\n",
      "    x25 = a_21.*a_30;\n",
      "    x26 = x0.*(x24 - x25);\n",
      "    x27 = x3 - x8 + x9;\n",
      "    x28 = -x20 + x21;\n",
      "    x29 = a_20.*a_33;\n",
      "    x30 = a_22.*a_31;\n",
      "    x31 = 2*zeta_nm;\n",
      "    x32 = a_21.*a_32;\n",
      "    x33 = a_23.*a_30;\n",
      "    x34 = omega_nm.*(omega_nm.*x29 + omega_nm.*x30 - omega_nm.*x32 - omega_nm.*x33 + x24.*x31 - x25.*x31);\n",
      "    x35 = a_23.*a_32;\n",
      "    x36 = a_22.*a_33;\n",
      "    x37 = omega_nm.*x31;\n",
      "    x38 = a_20 + a_22.*x37 + a_31 + a_33.*x37 - x0 + x2 + x35 - x36;\n",
      "    x39 = a_22 + a_33 + x19 - x37;\n",
      "    x40 = omega_d.*x22;\n",
      "    x41 = 4*zeta_d;\n",
      "    x42 = 8*zeta_d.^3;\n",
      "    x43 = a_20.*x0 + a_31.*x0 + x0.*x35 - x0.*x36 - x24 + x25 - x29.*x37 - x30.*x37 + x32.*x37 + x33.*x37;\n",
      "    x44 = a_20.*x37 + a_22.*x0 + a_31.*x37 + a_33.*x0 - x29 - x30 + x32 + x33 + x35.*x37 - x36.*x37;\n",
      "    x45 = omega_d.^5.*x39.*(omega_d.*x17.*x28 - x10.*x41 + x10.*x42 + x11.*x3 + x40) - x1.*x38.*(x10.*x17 - x23 + x27) - x12.*x44.*(-x10.*x11 + x40) + x2.*x27.*x43 + x2.*x34.*(b_21.*x19 + x28) + x26.*(-x18 + x23 + x27);\n",
      "    x46 = x6 + x7;\n",
      "    x47 = omega_d.*x15;\n",
      "    x48 = -x4 + x5;\n",
      "    x49 = omega_d.*(-x13 + x14);\n",
      "\n",
      "    k_delta = x45./(x0.*(b_21.*b_31.*x1 + b_21.*x11.*x12.*x15 - x10.*x6 - x10.*x7 - x15.*x2.*x22 - x18.*x6 + x23.*x6 + x3.*x6));\n",
      "    k_phi_dot = (-omega_d.*x43.*(-x11.*x6 + x47) - x1.*x39.*(12*x16.*x48 - x17.*x7 + x41.*x47 + x42.*x49 + x46 + 16*x6.*zeta_d.^4) - x12.*x38.*(x11.*x7 + x17.*x47 + x41.*x6 + x42.*x48 + x49) + x2.*x44.*(x15.*x19 + x17.*x48 + x46) - x26.*(b_31.*x19 + x15) + x34.*x46)./x45;\n",
      "\n",
      "\n"
     ]
    }
   ],
   "source": [
    "m_func_txt = m_func_template.format(matrix_expansion='\\n    '.join(matrix_expansion_matlab),\n",
    "                              sub_exprs='\\n    '.join(sub_exprs_txt),\n",
    "                              main_exprs='    ' + '\\n    '.join(main_exprs_txt))\n",
    "print(m_func_txt)"
   ]
  },
  {
   "cell_type": "code",
   "execution_count": 34,
   "metadata": {
    "collapsed": true
   },
   "outputs": [],
   "source": [
    "with open('../src/compute_inner_gains.m', 'w') as f:\n",
    "    f.write(m_func_txt)"
   ]
  },
  {
   "cell_type": "markdown",
   "metadata": {},
   "source": [
    "# Check the results\n",
    "\n",
    "Here, I make use of the function to calculate the gains to see if it gives reasonable answers. First, see what kind of results are returned for the benchmark bicycle traveling at 5 m/s."
   ]
  },
  {
   "cell_type": "code",
   "execution_count": 35,
   "metadata": {
    "collapsed": false
   },
   "outputs": [],
   "source": [
    "exec(func_txt)"
   ]
  },
  {
   "cell_type": "code",
   "execution_count": 36,
   "metadata": {
    "collapsed": false
   },
   "outputs": [
    {
     "data": {
      "image/png": "[encoded data removed]",
      "text/latex": [
       "$$\\left \\{ k_\\delta : 17.0789270686, \\quad k_{\\dot{\\phi}} : -0.304176256323\\right \\}$$"
      ],
      "text/plain": [
       "{k_\\delta: 17.0789270686, k_{\\dot{\\phi}}: -0.304176256323}"
      ]
     },
     "execution_count": 36,
     "metadata": {},
     "output_type": "execute_result"
    }
   ],
   "source": [
    "k_delta_sol, k_phi_dot_sol = compute_inner_gains(A_benchmark, B_benchmark, 30, 0.707)\n",
    "gain_sol = {k_delta: k_delta_sol, k_phi_dot: k_phi_dot_sol}\n",
    "gain_sol"
   ]
  },
  {
   "cell_type": "markdown",
   "metadata": {},
   "source": [
    "This is a good sign. The roll rate gain is found to be a small negative number and the steer rate gain is larger and positive. But the values that we find for our paper are more like $k_\\delta=45, k_\\dot{\\phi}=-0.08$ for the regular bicycles traveling at 5.0 m/s. But this more closely aligns with what I did in my dissertation (http://moorepants.github.io/dissertation/control.html#model-description). There I found that you could get the same closed loop results for the two loops and have some flexibility in choice of gains. In the case of the description in my dissertation I get very similar numbers as this. In fact I can check to see if I get the same values as in my dissertation."
   ]
  },
  {
   "cell_type": "code",
   "execution_count": 37,
   "metadata": {
    "collapsed": false
   },
   "outputs": [
    {
     "name": "stdout",
     "output_type": "stream",
     "text": [
      "We have foundeth a directory named: /home/moorepants/src/BicycleParameters/data/bicycles/Rigidcl.\n",
      "Found the RawData directory: /home/moorepants/src/BicycleParameters/data/bicycles/Rigidcl/RawData\n",
      "Recalcuting the parameters.\n",
      "The glory of the Rigidcl parameters are upon you!\n"
     ]
    },
    {
     "name": "stderr",
     "output_type": "stream",
     "text": [
      "/home/moorepants/src/BicycleParameters/bicycleparameters/com.py:55: VisibleDeprecationWarning: using a non-integer number instead of an integer will result in an error in the future\n",
      "  cartesian(arrays[1:], out=out[0:m,1:])\n",
      "/home/moorepants/src/BicycleParameters/bicycleparameters/com.py:57: VisibleDeprecationWarning: using a non-integer number instead of an integer will result in an error in the future\n",
      "  out[j*m:(j+1)*m,1:] = out[0:m,1:]\n"
     ]
    }
   ],
   "source": [
    "real_bike = bp.Bicycle('Rigidcl', pathToData='/home/moorepants/src/BicycleParameters/data/')"
   ]
  },
  {
   "cell_type": "code",
   "execution_count": 38,
   "metadata": {
    "collapsed": false
   },
   "outputs": [
    {
     "name": "stdout",
     "output_type": "stream",
     "text": [
      "There is no rider on the bicycle, now adding Charlie.\n",
      "No parameter files found, calculating the human configuration.\n"
     ]
    }
   ],
   "source": [
    "real_bike.add_rider('Charlie')"
   ]
  },
  {
   "cell_type": "code",
   "execution_count": 39,
   "metadata": {
    "collapsed": true
   },
   "outputs": [],
   "source": [
    "A_real_bike, B_real_bike = real_bike.state_space(5.0, nominal=True)"
   ]
  },
  {
   "cell_type": "code",
   "execution_count": 40,
   "metadata": {
    "collapsed": false
   },
   "outputs": [
    {
     "data": {
      "text/plain": [
       "array([[  0.        ,   0.        ,   1.        ,   0.        ],\n",
       "       [  0.        ,   0.        ,   0.        ,   1.        ],\n",
       "       [  8.27673976, -19.24025703,  -0.15126742,  -1.27363532],\n",
       "       [ 19.96881539, -18.88653895,   8.74213104, -18.14135119]])"
      ]
     },
     "execution_count": 40,
     "metadata": {},
     "output_type": "execute_result"
    }
   ],
   "source": [
    "A_real_bike"
   ]
  },
  {
   "cell_type": "code",
   "execution_count": 41,
   "metadata": {
    "collapsed": false
   },
   "outputs": [
    {
     "data": {
      "text/plain": [
       "array([[ 0.        ,  0.        ],\n",
       "       [ 0.        ,  0.        ],\n",
       "       [ 0.00965478, -0.09603994],\n",
       "       [-0.09603994,  5.55039373]])"
      ]
     },
     "execution_count": 41,
     "metadata": {},
     "output_type": "execute_result"
    }
   ],
   "source": [
    "B_real_bike"
   ]
  },
  {
   "cell_type": "code",
   "execution_count": 42,
   "metadata": {
    "collapsed": false
   },
   "outputs": [
    {
     "data": {
      "image/png": "[encoded data removed]",
      "text/latex": [
       "$$\\left ( 17.706408866, \\quad -0.434357280404\\right )$$"
      ],
      "text/plain": [
       "(17.706408866, -0.434357280404)"
      ]
     },
     "execution_count": 42,
     "metadata": {},
     "output_type": "execute_result"
    }
   ],
   "source": [
    "compute_inner_gains(A_real_bike, B_real_bike, 30, 0.707)"
   ]
  },
  {
   "cell_type": "markdown",
   "metadata": {},
   "source": [
    "Very nice! In my dissertation I found 17.5 and -0.44, so this does the same thing as my method. But it doesn't quite give the exact same results as what Ron's method gives in the paper. So we will need to investigate further.\n",
    "\n",
    "Lastly, let's just check to see if this puts the poles where we wanted them to go:"
   ]
  },
  {
   "cell_type": "code",
   "execution_count": 43,
   "metadata": {
    "collapsed": false
   },
   "outputs": [],
   "source": [
    "eq = char_eq.subs(par).subs(gain_sol).as_poly(s)"
   ]
  },
  {
   "cell_type": "code",
   "execution_count": 44,
   "metadata": {
    "collapsed": false
   },
   "outputs": [
    {
     "data": {
      "image/png": "[encoded data removed]",
      "text/latex": [
       "$$\\left [ -7.85084908209408, \\quad 0.657714903922949, \\quad -24.0144028540113 - 20.564290497554 i, \\quad -24.0144028540113 + 20.564290497554 i, \\quad -1.575 - 10.3812029649747 i, \\quad -1.575 + 10.3812029649747 i\\right ]$$"
      ],
      "text/plain": [
       "[-7.85084908209408, 0.657714903922949, -24.0144028540113 - 20.564290497554⋅ⅈ, \n",
       "-24.0144028540113 + 20.564290497554⋅ⅈ, -1.575 - 10.3812029649747⋅ⅈ, -1.575 + 1\n",
       "0.3812029649747⋅ⅈ]"
      ]
     },
     "execution_count": 44,
     "metadata": {},
     "output_type": "execute_result"
    }
   ],
   "source": [
    "eq.nroots()"
   ]
  },
  {
   "cell_type": "code",
   "execution_count": 45,
   "metadata": {
    "collapsed": false
   },
   "outputs": [
    {
     "data": {
      "image/png": "[encoded data removed]",
      "text/latex": [
       "$$\\left [ -1.575 - 10.3812029649747 i, \\quad -1.575 + 10.3812029649747 i\\right ]$$"
      ],
      "text/plain": [
       "[-1.575 - 10.3812029649747⋅ⅈ, -1.575 + 10.3812029649747⋅ⅈ]"
      ]
     },
     "execution_count": 45,
     "metadata": {},
     "output_type": "execute_result"
    }
   ],
   "source": [
    "desired_second_order.subs(par).as_poly(s).nroots()"
   ]
  },
  {
   "cell_type": "markdown",
   "metadata": {},
   "source": [
    "The closed loop poles are exactly where they should be."
   ]
  },
  {
   "cell_type": "code",
   "execution_count": 46,
   "metadata": {
    "collapsed": false
   },
   "outputs": [
    {
     "name": "stdout",
     "output_type": "stream",
     "text": [
      "# packages in environment at /home/moorepants/miniconda3/envs/bmd2016:\n",
      "#\n",
      "Using Anaconda Cloud api site https://api.anaconda.org\n",
      "cairo                     1.12.18                       6  \n",
      "uncertainties             2.4.8                    py35_0    conda-forge\n",
      "cycler                    0.10.0                   py35_0  \n",
      "decorator                 4.0.10                   py35_0  \n",
      "dill                      0.2.5                    py35_0  \n",
      "entrypoints               0.2.2                    py35_0  \n",
      "fontconfig                2.11.1                        6  \n",
      "freetype                  2.5.5                         1  \n",
      "glib                      2.43.0                        1  \n",
      "harfbuzz                  0.9.39                        1  \n",
      "ipykernel                 4.3.1                    py35_0  \n",
      "ipython                   5.0.0                    py35_0  \n",
      "ipython-notebook          4.0.4                    py35_0  \n",
      "ipython_genutils          0.1.0                    py35_0  \n",
      "jinja2                    2.8                      py35_1  \n",
      "jsonschema                2.5.1                    py35_0  \n",
      "jupyter_client            4.3.0                    py35_0  \n",
      "jupyter_core              4.1.0                    py35_0  \n",
      "libffi                    3.2.1                         0  \n",
      "libgfortran               3.0.0                         1  \n",
      "libpng                    1.6.22                        0  \n",
      "libsodium                 1.0.10                        0  \n",
      "libxml2                   2.9.2                         0  \n",
      "markupsafe                0.23                     py35_2  \n",
      "matplotlib                1.5.1               np111py35_0  \n",
      "mistune                   0.7.2                    py35_0  \n",
      "mkl                       11.3.3                        0  \n",
      "dynamicisttoolkit         0.5.0                    py35_0    moorepants\n",
      "mpmath                    0.19                     py35_1  \n",
      "nbconvert                 4.2.0                    py35_0  \n",
      "nbformat                  4.0.1                    py35_0  \n",
      "notebook                  4.2.1                    py35_0  \n",
      "numpy                     1.11.1                   py35_0  \n",
      "openssl                   1.0.2h                        1  \n",
      "pango                     1.39.0                        1  \n",
      "path.py                   8.2.1                    py35_0  \n",
      "pexpect                   4.0.1                    py35_0  \n",
      "pickleshare               0.7.2                    py35_0  \n",
      "pip                       8.1.2                    py35_0  \n",
      "pixman                    0.32.6                        0  \n",
      "prompt_toolkit            1.0.3                    py35_0  \n",
      "ptyprocess                0.5.1                    py35_0  \n",
      "pygments                  2.1.3                    py35_0  \n",
      "pyparsing                 2.1.4                    py35_0  \n",
      "pyqt                      4.11.4                   py35_4  \n",
      "python                    3.5.2                         0  \n",
      "python-dateutil           2.5.3                    py35_0  \n",
      "pytz                      2016.6.1                 py35_0  \n",
      "pyyaml                    3.11                     py35_4  \n",
      "pyzmq                     15.3.0                   py35_0  \n",
      "qt                        4.8.7                         4  \n",
      "readline                  6.2                           2  \n",
      "scipy                     0.17.1              np111py35_1  \n",
      "setuptools                23.0.0                   py35_0  \n",
      "simplegeneric             0.8.1                    py35_1  \n",
      "sip                       4.18                     py35_0  \n",
      "six                       1.10.0                   py35_0  \n",
      "sqlite                    3.13.0                        0  \n",
      "sympy                     1.0                      py35_0  \n",
      "terminado                 0.6                      py35_0  \n",
      "tk                        8.5.18                        0  \n",
      "tornado                   4.4.1                    py35_0  \n",
      "traitlets                 4.2.2                    py35_0  \n",
      "wcwidth                   0.1.7                    py35_0  \n",
      "wheel                     0.29.0                   py35_0  \n",
      "xz                        5.2.2                         0  \n",
      "yaml                      0.1.6                         0  \n",
      "zeromq                    4.1.4                         0  \n",
      "zlib                      1.2.8                         3  \n"
     ]
    }
   ],
   "source": [
    "!conda list"
   ]
  }
 ],
 "metadata": {
  "kernelspec": {
   "display_name": "Python 3",
   "language": "python",
   "name": "python3"
  },
  "language_info": {
   "codemirror_mode": {
    "name": "ipython",
    "version": 3
   },
   "file_extension": ".py",
   "mimetype": "text/x-python",
   "name": "python",
   "nbconvert_exporter": "python",
   "pygments_lexer": "ipython3",
   "version": "3.5.2"
  }
 },
 "nbformat": 4,
 "nbformat_minor": 0
}
