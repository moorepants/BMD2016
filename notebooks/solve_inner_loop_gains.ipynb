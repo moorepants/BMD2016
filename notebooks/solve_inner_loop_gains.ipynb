{
 "cells": [
  {
   "cell_type": "markdown",
   "metadata": {},
   "source": [
    "This document describes an attempt to solve for the gains of the first two loops of this block diagram to ensure that at a pair of the poles end up in a desired location.\n",
    "\n",
    "![](http://moorepants.github.io/dissertation/_images/inner-loops.png)\n",
    "\n",
    "where\n",
    "\n",
    "$$G_{nm}(s) = \\frac{\\omega_{nm}^2}{s^2 + 2\\zeta_{nm}\\omega_{nm}s + \\omega_{nm}^2}$$\n",
    "\n",
    "and the bicycle block is the linearized Whipple model as presented in Meijaard 2007."
   ]
  },
  {
   "cell_type": "markdown",
   "metadata": {},
   "source": [
    "# Setup"
   ]
  },
  {
   "cell_type": "code",
   "execution_count": 1,
   "metadata": {
    "collapsed": false
   },
   "outputs": [],
   "source": [
    "import os\n",
    "import dill\n",
    "from IPython.display import display, Math\n",
    "from sympy import MatrixSymbol, Eq, simplify, Poly, det, latex, S, solve, cse\n",
    "from dtk import bicycle\n",
    "import bicycleparameters as bp"
   ]
  },
  {
   "cell_type": "markdown",
   "metadata": {},
   "source": [
    "The `roll_rate_loop.py` file builds the bicycle state space, the neuromuscular state space, and finally the state equations for the closed loop system when the steering angle and roll rate feedback loops are closed."
   ]
  },
  {
   "cell_type": "code",
   "execution_count": 2,
   "metadata": {
    "collapsed": true
   },
   "outputs": [],
   "source": [
    "%run ../src/roll_rate_loop.py"
   ]
  },
  {
   "cell_type": "markdown",
   "metadata": {},
   "source": [
    "# State Space Definitions\n",
    "\n",
    "The bicycle state equations take this general form:"
   ]
  },
  {
   "cell_type": "code",
   "execution_count": 3,
   "metadata": {
    "collapsed": false
   },
   "outputs": [
    {
     "data": {
      "image/png": "[encoded data removed]",
      "text/latex": [
       "$$\\left [ A_{b} = \\left[\\begin{matrix}0 & 0 & 1 & 0\\\\0 & 0 & 0 & 1\\\\a_{20} & a_{21} & a_{22} & a_{23}\\\\a_{30} & a_{31} & a_{32} & a_{33}\\end{matrix}\\right], \\quad x_{b} = \\left[\\begin{matrix}\\phi\\\\\\delta\\\\\\dot{\\phi}\\\\\\dot{\\delta}\\end{matrix}\\right], \\quad B_{b} = \\left[\\begin{matrix}0 & 0 & 0\\\\0 & 0 & 0\\\\b_{20} & b_{21} & b_{22}\\\\b_{30} & b_{31} & b_{32}\\end{matrix}\\right], \\quad u_{b} = \\left[\\begin{matrix}T_\\phi\\\\T_\\delta\\\\F_{B}\\end{matrix}\\right]\\right ]$$"
      ],
      "text/plain": [
       "⎡A_b = ⎡ 0    0    1    0 ⎤, x_b = ⎡     φ      ⎤, B_b = ⎡ 0    0    0 ⎤, u_b \n",
       "⎢      ⎢                  ⎥        ⎢            ⎥        ⎢             ⎥      \n",
       "⎢      ⎢ 0    0    0    1 ⎥        ⎢     δ      ⎥        ⎢ 0    0    0 ⎥      \n",
       "⎢      ⎢                  ⎥        ⎢            ⎥        ⎢             ⎥      \n",
       "⎢      ⎢a₂₀  a₂₁  a₂₂  a₂₃⎥        ⎢ \\dot{\\phi} ⎥        ⎢b₂₀  b₂₁  b₂₂⎥      \n",
       "⎢      ⎢                  ⎥        ⎢            ⎥        ⎢             ⎥      \n",
       "⎣      ⎣a₃₀  a₃₁  a₃₂  a₃₃⎦        ⎣\\dot{\\delta}⎦        ⎣b₃₀  b₃₁  b₃₂⎦      \n",
       "\n",
       "= ⎡ T_\\phi ⎤⎤\n",
       "  ⎢        ⎥⎥\n",
       "  ⎢T_\\delta⎥⎥\n",
       "  ⎢        ⎥⎥\n",
       "  ⎣  F_B   ⎦⎥\n",
       "            ⎥\n",
       "            ⎦"
      ]
     },
     "execution_count": 3,
     "metadata": {},
     "output_type": "execute_result"
    }
   ],
   "source": [
    "[Eq(MatrixSymbol('{}_b'.format(v), *b[v].shape), b[v]) for v in ['A', 'x', 'B', 'u']]"
   ]
  },
  {
   "cell_type": "markdown",
   "metadata": {},
   "source": [
    "The second order neuromuscular model can be put in this state space form:"
   ]
  },
  {
   "cell_type": "code",
   "execution_count": 4,
   "metadata": {
    "collapsed": false
   },
   "outputs": [
    {
     "data": {
      "image/png": "[encoded data removed]",
      "text/latex": [
       "$$\\left [ A_{nm} = \\left[\\begin{matrix}0 & 1\\\\- \\omega_{nm}^{2} & - 2 \\omega_{nm} \\zeta_{nm}\\end{matrix}\\right], \\quad x_{nm} = \\left[\\begin{matrix}T_\\delta\\\\\\dot{T}_\\delta\\end{matrix}\\right], \\quad B_{nm} = \\left[\\begin{matrix}0\\\\\\omega_{nm}^{2}\\end{matrix}\\right], \\quad u_{nm} = \\left[\\begin{matrix}- \\dot{\\phi} k_\\delta k_{\\dot{\\phi}} + \\dot{\\phi}_c k_\\delta k_{\\dot{\\phi}} - \\delta k_\\delta\\end{matrix}\\right]\\right ]$$"
      ],
      "text/plain": [
       "⎡Aₙₘ = ⎡  0        1     ⎤, xₙₘ = ⎡   T_\\delta   ⎤, Bₙₘ = ⎡ 0  ⎤, uₙₘ = [-\\dot\n",
       "⎢      ⎢                 ⎥        ⎢              ⎥        ⎢    ⎥              \n",
       "⎢      ⎢    2            ⎥        ⎣\\dot{T}_\\delta⎦        ⎢   2⎥              \n",
       "⎣      ⎣-ωₙₘ   -2⋅ωₙₘ⋅ζₙₘ⎦                                ⎣ωₙₘ ⎦              \n",
       "\n",
       "{\\phi}⋅k_\\delta⋅k_{\\dot{\\phi}} + \\dot{\\phi}_c⋅k_\\delta⋅k_{\\dot{\\phi}} - δ⋅k_\\d\n",
       "                                                                              \n",
       "                                                                              \n",
       "                                                                              \n",
       "\n",
       "elta]⎤\n",
       "     ⎥\n",
       "     ⎥\n",
       "     ⎦"
      ]
     },
     "execution_count": 4,
     "metadata": {},
     "output_type": "execute_result"
    }
   ],
   "source": [
    "[Eq(MatrixSymbol('{}_nm'.format(v), *n[v].shape), n[v]) for v in ['A', 'x', 'B', 'u']]"
   ]
  },
  {
   "cell_type": "markdown",
   "metadata": {},
   "source": [
    "The closed loop state equations for the first two loops that are closed around the combine neuromuscular and bicycle model then become:"
   ]
  },
  {
   "cell_type": "code",
   "execution_count": 5,
   "metadata": {
    "collapsed": false
   },
   "outputs": [
    {
     "data": {
      "image/png": "[encoded data removed]",
      "text/latex": [
       "$$\\left [ A_{cl} = \\left[\\begin{matrix}0 & 0 & 1 & 0 & 0 & 0\\\\0 & 0 & 0 & 1 & 0 & 0\\\\a_{20} & a_{21} & a_{22} & a_{23} & b_{21} & 0\\\\a_{30} & a_{31} & a_{32} & a_{33} & b_{31} & 0\\\\0 & 0 & 0 & 0 & 0 & 1\\\\0 & - k_\\delta \\omega_{nm}^{2} & - k_\\delta k_{\\dot{\\phi}} \\omega_{nm}^{2} & 0 & - \\omega_{nm}^{2} & - 2 \\omega_{nm} \\zeta_{nm}\\end{matrix}\\right], \\quad x_{cl} = \\left[\\begin{matrix}\\phi\\\\\\delta\\\\\\dot{\\phi}\\\\\\dot{\\delta}\\\\T_\\delta\\\\\\dot{T}_\\delta\\end{matrix}\\right], \\quad B_{cl} = \\left[\\begin{matrix}0 & 0 & 0\\\\0 & 0 & 0\\\\b_{20} & b_{22} & 0\\\\b_{30} & b_{32} & 0\\\\0 & 0 & 0\\\\0 & 0 & k_\\delta k_{\\dot{\\phi}} \\omega_{nm}^{2}\\end{matrix}\\right], \\quad u_{cl} = \\left[\\begin{matrix}T_\\phi\\\\F_{B}\\\\\\dot{\\phi}_c\\end{matrix}\\right]\\right ]$$"
      ],
      "text/plain": [
       "⎡A_cl = ⎡ 0         0                       1                 0     0        0\n",
       "⎢       ⎢                                                                     \n",
       "⎢       ⎢ 0         0                       0                 1     0        0\n",
       "⎢       ⎢                                                                     \n",
       "⎢       ⎢a₂₀       a₂₁                     a₂₂               a₂₃   b₂₁       0\n",
       "⎢       ⎢                                                                     \n",
       "⎢       ⎢a₃₀       a₃₁                     a₃₂               a₃₃   b₃₁       0\n",
       "⎢       ⎢                                                                     \n",
       "⎢       ⎢ 0         0                       0                 0     0        1\n",
       "⎢       ⎢                                                                     \n",
       "⎢       ⎢                  2                              2           2       \n",
       "⎣       ⎣ 0   -k_\\delta⋅ωₙₘ   -k_\\delta⋅k_{\\dot{\\phi}}⋅ωₙₘ    0   -ωₙₘ   -2⋅ωₙ\n",
       "\n",
       "     ⎤, x_cl = ⎡      φ       ⎤, B_cl = ⎡ 0    0                0             \n",
       "     ⎥         ⎢              ⎥         ⎢                                     \n",
       "     ⎥         ⎢      δ       ⎥         ⎢ 0    0                0             \n",
       "     ⎥         ⎢              ⎥         ⎢                                     \n",
       "     ⎥         ⎢  \\dot{\\phi}  ⎥         ⎢b₂₀  b₂₂               0             \n",
       "     ⎥         ⎢              ⎥         ⎢                                     \n",
       "     ⎥         ⎢ \\dot{\\delta} ⎥         ⎢b₃₀  b₃₂               0             \n",
       "     ⎥         ⎢              ⎥         ⎢                                     \n",
       "     ⎥         ⎢   T_\\delta   ⎥         ⎢ 0    0                0             \n",
       "     ⎥         ⎢              ⎥         ⎢                                     \n",
       "     ⎥         ⎣\\dot{T}_\\delta⎦         ⎢                                     \n",
       "ₘ⋅ζₙₘ⎦                                  ⎣ 0    0   k_\\delta⋅k_{\\dot{\\phi}}⋅ωₙₘ\n",
       "\n",
       " ⎤, u_cl = ⎡   T_\\phi   ⎤⎤\n",
       " ⎥         ⎢            ⎥⎥\n",
       " ⎥         ⎢    F_B     ⎥⎥\n",
       " ⎥         ⎢            ⎥⎥\n",
       " ⎥         ⎣\\dot{\\phi}_c⎦⎥\n",
       " ⎥                       ⎥\n",
       " ⎥                       ⎥\n",
       " ⎥                       ⎥\n",
       " ⎥                       ⎥\n",
       " ⎥                       ⎥\n",
       "2⎥                       ⎥\n",
       " ⎦                       ⎦"
      ]
     },
     "execution_count": 5,
     "metadata": {},
     "output_type": "execute_result"
    }
   ],
   "source": [
    "[Eq(MatrixSymbol('{}_cl'.format(v), *c[v].shape), c[v]) for v in ['A', 'x', 'B', 'u']]"
   ]
  },
  {
   "cell_type": "markdown",
   "metadata": {},
   "source": [
    "# Characteristic Equation\n",
    "\n",
    "The characteristic equation can be formed for this closed loop system and converted to a polynomial."
   ]
  },
  {
   "cell_type": "code",
   "execution_count": 6,
   "metadata": {
    "collapsed": false
   },
   "outputs": [
    {
     "data": {
      "image/png": "[encoded data removed]",
      "text/latex": [
       "$$\\operatorname{Poly}{\\left( a_{20} a_{31} \\omega_{nm}^{2} - a_{20} b_{31} k_\\delta \\omega_{nm}^{2} - a_{21} a_{30} \\omega_{nm}^{2} + a_{30} b_{21} k_\\delta \\omega_{nm}^{2} + s^{6} + s^{5} \\left(- a_{22} - a_{33} + 2 \\omega_{nm} \\zeta_{nm}\\right) + s^{4} \\left(- a_{20} + a_{22} a_{33} - 2 a_{22} \\omega_{nm} \\zeta_{nm} - a_{23} a_{32} - a_{31} - 2 a_{33} \\omega_{nm} \\zeta_{nm} + \\omega_{nm}^{2}\\right) + s^{3} \\left(a_{20} a_{33} - 2 a_{20} \\omega_{nm} \\zeta_{nm} - a_{21} a_{32} + a_{22} a_{31} + 2 a_{22} a_{33} \\omega_{nm} \\zeta_{nm} - a_{22} \\omega_{nm}^{2} - a_{23} a_{30} - 2 a_{23} a_{32} \\omega_{nm} \\zeta_{nm} - 2 a_{31} \\omega_{nm} \\zeta_{nm} - a_{33} \\omega_{nm}^{2} + b_{21} k_\\delta k_{\\dot{\\phi}} \\omega_{nm}^{2}\\right) + s^{2} \\left(a_{20} a_{31} + 2 a_{20} a_{33} \\omega_{nm} \\zeta_{nm} - a_{20} \\omega_{nm}^{2} - a_{21} a_{30} - 2 a_{21} a_{32} \\omega_{nm} \\zeta_{nm} + 2 a_{22} a_{31} \\omega_{nm} \\zeta_{nm} + a_{22} a_{33} \\omega_{nm}^{2} - 2 a_{23} a_{30} \\omega_{nm} \\zeta_{nm} - a_{23} a_{32} \\omega_{nm}^{2} + a_{23} b_{31} k_\\delta k_{\\dot{\\phi}} \\omega_{nm}^{2} - a_{31} \\omega_{nm}^{2} - a_{33} b_{21} k_\\delta k_{\\dot{\\phi}} \\omega_{nm}^{2} + b_{31} k_\\delta \\omega_{nm}^{2}\\right) + s \\left(2 a_{20} a_{31} \\omega_{nm} \\zeta_{nm} + a_{20} a_{33} \\omega_{nm}^{2} - 2 a_{21} a_{30} \\omega_{nm} \\zeta_{nm} - a_{21} a_{32} \\omega_{nm}^{2} + a_{21} b_{31} k_\\delta k_{\\dot{\\phi}} \\omega_{nm}^{2} + a_{22} a_{31} \\omega_{nm}^{2} - a_{22} b_{31} k_\\delta \\omega_{nm}^{2} - a_{23} a_{30} \\omega_{nm}^{2} - a_{31} b_{21} k_\\delta k_{\\dot{\\phi}} \\omega_{nm}^{2} + a_{32} b_{21} k_\\delta \\omega_{nm}^{2}\\right), s, domain=\\mathbb{Z}\\left[a_{20}, a_{21}, a_{22}, a_{23}, a_{30}, a_{31}, a_{32}, a_{33}, b_{21}, b_{31}, k_\\delta, k_{\\dot{\\phi}}, \\omega_{nm}, \\zeta_{nm}\\right] \\right)}$$"
      ],
      "text/plain": [
       "Poly(s**6 + (-a_22 - a_33 + 2*omega_nm*zeta_nm)*s**5 + (-a_20 + a_22*a_33 - 2*\n",
       "a_22*omega_nm*zeta_nm - a_23*a_32 - a_31 - 2*a_33*omega_nm*zeta_nm + omega_nm*\n",
       "*2)*s**4 + (a_20*a_33 - 2*a_20*omega_nm*zeta_nm - a_21*a_32 + a_22*a_31 + 2*a_\n",
       "22*a_33*omega_nm*zeta_nm - a_22*omega_nm**2 - a_23*a_30 - 2*a_23*a_32*omega_nm\n",
       "*zeta_nm - 2*a_31*omega_nm*zeta_nm - a_33*omega_nm**2 + b_21*k_\\delta*k_{\\dot{\n",
       "\\phi}}*omega_nm**2)*s**3 + (a_20*a_31 + 2*a_20*a_33*omega_nm*zeta_nm - a_20*om\n",
       "ega_nm**2 - a_21*a_30 - 2*a_21*a_32*omega_nm*zeta_nm + 2*a_22*a_31*omega_nm*ze\n",
       "ta_nm + a_22*a_33*omega_nm**2 - 2*a_23*a_30*omega_nm*zeta_nm - a_23*a_32*omega\n",
       "_nm**2 + a_23*b_31*k_\\delta*k_{\\dot{\\phi}}*omega_nm**2 - a_31*omega_nm**2 - a_\n",
       "33*b_21*k_\\delta*k_{\\dot{\\phi}}*omega_nm**2 + b_31*k_\\delta*omega_nm**2)*s**2 \n",
       "+ (2*a_20*a_31*omega_nm*zeta_nm + a_20*a_33*omega_nm**2 - 2*a_21*a_30*omega_nm\n",
       "*zeta_nm - a_21*a_32*omega_nm**2 + a_21*b_31*k_\\delta*k_{\\dot{\\phi}}*omega_nm*\n",
       "*2 + a_22*a_31*omega_nm**2 - a_22*b_31*k_\\delta*omega_nm**2 - a_23*a_30*omega_\n",
       "nm**2 - a_31*b_21*k_\\delta*k_{\\dot{\\phi}}*omega_nm**2 + a_32*b_21*k_\\delta*ome\n",
       "ga_nm**2)*s + a_20*a_31*omega_nm**2 - a_20*b_31*k_\\delta*omega_nm**2 - a_21*a_\n",
       "30*omega_nm**2 + a_30*b_21*k_\\delta*omega_nm**2, s, domain='ZZ[a_20,a_21,a_22,\n",
       "a_23,a_30,a_31,a_32,a_33,b_21,b_31,k_\\delta,k_{\\dot{\\phi}},omega_nm,zeta_nm]')"
      ]
     },
     "execution_count": 6,
     "metadata": {},
     "output_type": "execute_result"
    }
   ],
   "source": [
    "s = Symbol('s')\n",
    "char_eq = det(c['A'] - s * eye(c['A'].shape[0])).as_poly(s)\n",
    "char_eq"
   ]
  },
  {
   "cell_type": "markdown",
   "metadata": {},
   "source": [
    "Additionally, the coefficients to the 6th order polynomial can be extracted and simplified:"
   ]
  },
  {
   "cell_type": "code",
   "execution_count": 7,
   "metadata": {
    "collapsed": false,
    "scrolled": true
   },
   "outputs": [
    {
     "data": {
      "text/latex": [
       "$$s^6: 1$$"
      ],
      "text/plain": [
       "<IPython.core.display.Math object>"
      ]
     },
     "metadata": {},
     "output_type": "display_data"
    },
    {
     "data": {
      "text/latex": [
       "$$s^5: - a_{22} - a_{33} + 2 \\omega_{nm} \\zeta_{nm}$$"
      ],
      "text/plain": [
       "<IPython.core.display.Math object>"
      ]
     },
     "metadata": {},
     "output_type": "display_data"
    },
    {
     "data": {
      "text/latex": [
       "$$s^4: - a_{20} + a_{22} a_{33} - 2 a_{22} \\omega_{nm} \\zeta_{nm} - a_{23} a_{32} - a_{31} - 2 a_{33} \\omega_{nm} \\zeta_{nm} + \\omega_{nm}^{2}$$"
      ],
      "text/plain": [
       "<IPython.core.display.Math object>"
      ]
     },
     "metadata": {},
     "output_type": "display_data"
    },
    {
     "data": {
      "text/latex": [
       "$$s^3: a_{20} a_{33} - 2 a_{20} \\omega_{nm} \\zeta_{nm} - a_{21} a_{32} + a_{22} a_{31} + 2 a_{22} a_{33} \\omega_{nm} \\zeta_{nm} - a_{22} \\omega_{nm}^{2} - a_{23} a_{30} - 2 a_{23} a_{32} \\omega_{nm} \\zeta_{nm} - 2 a_{31} \\omega_{nm} \\zeta_{nm} - a_{33} \\omega_{nm}^{2} + b_{21} k_\\delta k_{\\dot{\\phi}} \\omega_{nm}^{2}$$"
      ],
      "text/plain": [
       "<IPython.core.display.Math object>"
      ]
     },
     "metadata": {},
     "output_type": "display_data"
    },
    {
     "data": {
      "text/latex": [
       "$$s^2: a_{20} a_{31} + 2 a_{20} a_{33} \\omega_{nm} \\zeta_{nm} - a_{20} \\omega_{nm}^{2} - a_{21} a_{30} - 2 a_{21} a_{32} \\omega_{nm} \\zeta_{nm} + 2 a_{22} a_{31} \\omega_{nm} \\zeta_{nm} + a_{22} a_{33} \\omega_{nm}^{2} - 2 a_{23} a_{30} \\omega_{nm} \\zeta_{nm} - a_{23} a_{32} \\omega_{nm}^{2} + a_{23} b_{31} k_\\delta k_{\\dot{\\phi}} \\omega_{nm}^{2} - a_{31} \\omega_{nm}^{2} - a_{33} b_{21} k_\\delta k_{\\dot{\\phi}} \\omega_{nm}^{2} + b_{31} k_\\delta \\omega_{nm}^{2}$$"
      ],
      "text/plain": [
       "<IPython.core.display.Math object>"
      ]
     },
     "metadata": {},
     "output_type": "display_data"
    },
    {
     "data": {
      "text/latex": [
       "$$s^1: \\omega_{nm} \\left(2 a_{20} a_{31} \\zeta_{nm} + a_{20} a_{33} \\omega_{nm} - 2 a_{21} a_{30} \\zeta_{nm} - a_{21} a_{32} \\omega_{nm} + a_{21} b_{31} k_\\delta k_{\\dot{\\phi}} \\omega_{nm} + a_{22} a_{31} \\omega_{nm} - a_{22} b_{31} k_\\delta \\omega_{nm} - a_{23} a_{30} \\omega_{nm} - a_{31} b_{21} k_\\delta k_{\\dot{\\phi}} \\omega_{nm} + a_{32} b_{21} k_\\delta \\omega_{nm}\\right)$$"
      ],
      "text/plain": [
       "<IPython.core.display.Math object>"
      ]
     },
     "metadata": {},
     "output_type": "display_data"
    },
    {
     "data": {
      "text/latex": [
       "$$s^0: \\omega_{nm}^{2} \\left(a_{20} a_{31} - a_{20} b_{31} k_\\delta - a_{21} a_{30} + a_{30} b_{21} k_\\delta\\right)$$"
      ],
      "text/plain": [
       "<IPython.core.display.Math object>"
      ]
     },
     "metadata": {},
     "output_type": "display_data"
    }
   ],
   "source": [
    "for i, coeff in enumerate(char_eq.coeffs()):\n",
    "    display(Math(r'$s^{}: {}$'.format(len(char_eq.coeffs()) - i - 1, latex(simplify(coeff)))))"
   ]
  },
  {
   "cell_type": "markdown",
   "metadata": {},
   "source": [
    "The symbolic form of the characteristic equation *cannot* be easily factored."
   ]
  },
  {
   "cell_type": "code",
   "execution_count": 8,
   "metadata": {
    "collapsed": false
   },
   "outputs": [
    {
     "data": {
      "image/png": "[encoded data removed]",
      "text/latex": [
       "$$a_{20} a_{31} \\omega_{nm}^{2} + 2 a_{20} a_{31} \\omega_{nm} s \\zeta_{nm} + a_{20} a_{31} s^{2} + a_{20} a_{33} \\omega_{nm}^{2} s + 2 a_{20} a_{33} \\omega_{nm} s^{2} \\zeta_{nm} + a_{20} a_{33} s^{3} - a_{20} b_{31} k_\\delta \\omega_{nm}^{2} - a_{20} \\omega_{nm}^{2} s^{2} - 2 a_{20} \\omega_{nm} s^{3} \\zeta_{nm} - a_{20} s^{4} - a_{21} a_{30} \\omega_{nm}^{2} - 2 a_{21} a_{30} \\omega_{nm} s \\zeta_{nm} - a_{21} a_{30} s^{2} - a_{21} a_{32} \\omega_{nm}^{2} s - 2 a_{21} a_{32} \\omega_{nm} s^{2} \\zeta_{nm} - a_{21} a_{32} s^{3} + a_{21} b_{31} k_\\delta k_{\\dot{\\phi}} \\omega_{nm}^{2} s + a_{22} a_{31} \\omega_{nm}^{2} s + 2 a_{22} a_{31} \\omega_{nm} s^{2} \\zeta_{nm} + a_{22} a_{31} s^{3} + a_{22} a_{33} \\omega_{nm}^{2} s^{2} + 2 a_{22} a_{33} \\omega_{nm} s^{3} \\zeta_{nm} + a_{22} a_{33} s^{4} - a_{22} b_{31} k_\\delta \\omega_{nm}^{2} s - a_{22} \\omega_{nm}^{2} s^{3} - 2 a_{22} \\omega_{nm} s^{4} \\zeta_{nm} - a_{22} s^{5} - a_{23} a_{30} \\omega_{nm}^{2} s - 2 a_{23} a_{30} \\omega_{nm} s^{2} \\zeta_{nm} - a_{23} a_{30} s^{3} - a_{23} a_{32} \\omega_{nm}^{2} s^{2} - 2 a_{23} a_{32} \\omega_{nm} s^{3} \\zeta_{nm} - a_{23} a_{32} s^{4} + a_{23} b_{31} k_\\delta k_{\\dot{\\phi}} \\omega_{nm}^{2} s^{2} + a_{30} b_{21} k_\\delta \\omega_{nm}^{2} - a_{31} b_{21} k_\\delta k_{\\dot{\\phi}} \\omega_{nm}^{2} s - a_{31} \\omega_{nm}^{2} s^{2} - 2 a_{31} \\omega_{nm} s^{3} \\zeta_{nm} - a_{31} s^{4} + a_{32} b_{21} k_\\delta \\omega_{nm}^{2} s - a_{33} b_{21} k_\\delta k_{\\dot{\\phi}} \\omega_{nm}^{2} s^{2} - a_{33} \\omega_{nm}^{2} s^{3} - 2 a_{33} \\omega_{nm} s^{4} \\zeta_{nm} - a_{33} s^{5} + b_{21} k_\\delta k_{\\dot{\\phi}} \\omega_{nm}^{2} s^{3} + b_{31} k_\\delta \\omega_{nm}^{2} s^{2} + \\omega_{nm}^{2} s^{4} + 2 \\omega_{nm} s^{5} \\zeta_{nm} + s^{6}$$"
      ],
      "text/plain": [
       "           2                                  2              2                \n",
       "a₂₀⋅a₃₁⋅ωₙₘ  + 2⋅a₂₀⋅a₃₁⋅ωₙₘ⋅s⋅ζₙₘ + a₂₀⋅a₃₁⋅s  + a₂₀⋅a₃₃⋅ωₙₘ ⋅s + 2⋅a₂₀⋅a₃₃⋅ω\n",
       "\n",
       "    2                3                       2          2  2              3   \n",
       "ₙₘ⋅s ⋅ζₙₘ + a₂₀⋅a₃₃⋅s  - a₂₀⋅b₃₁⋅k_\\delta⋅ωₙₘ  - a₂₀⋅ωₙₘ ⋅s  - 2⋅a₂₀⋅ωₙₘ⋅s ⋅ζₙ\n",
       "\n",
       "         4              2                                  2              2   \n",
       "ₘ - a₂₀⋅s  - a₂₁⋅a₃₀⋅ωₙₘ  - 2⋅a₂₁⋅a₃₀⋅ωₙₘ⋅s⋅ζₙₘ - a₂₁⋅a₃₀⋅s  - a₂₁⋅a₃₂⋅ωₙₘ ⋅s \n",
       "\n",
       "                 2                3                                      2    \n",
       "- 2⋅a₂₁⋅a₃₂⋅ωₙₘ⋅s ⋅ζₙₘ - a₂₁⋅a₃₂⋅s  + a₂₁⋅b₃₁⋅k_\\delta⋅k_{\\dot{\\phi}}⋅ωₙₘ ⋅s +\n",
       "\n",
       "            2                    2                3              2  2         \n",
       " a₂₂⋅a₃₁⋅ωₙₘ ⋅s + 2⋅a₂₂⋅a₃₁⋅ωₙₘ⋅s ⋅ζₙₘ + a₂₂⋅a₃₁⋅s  + a₂₂⋅a₃₃⋅ωₙₘ ⋅s  + 2⋅a₂₂⋅\n",
       "\n",
       "         3                4                       2            2  3           \n",
       "a₃₃⋅ωₙₘ⋅s ⋅ζₙₘ + a₂₂⋅a₃₃⋅s  - a₂₂⋅b₃₁⋅k_\\delta⋅ωₙₘ ⋅s - a₂₂⋅ωₙₘ ⋅s  - 2⋅a₂₂⋅ωₙ\n",
       "\n",
       "   4            5              2                    2                3        \n",
       "ₘ⋅s ⋅ζₙₘ - a₂₂⋅s  - a₂₃⋅a₃₀⋅ωₙₘ ⋅s - 2⋅a₂₃⋅a₃₀⋅ωₙₘ⋅s ⋅ζₙₘ - a₂₃⋅a₃₀⋅s  - a₂₃⋅a\n",
       "\n",
       "      2  2                  3                4                                \n",
       "₃₂⋅ωₙₘ ⋅s  - 2⋅a₂₃⋅a₃₂⋅ωₙₘ⋅s ⋅ζₙₘ - a₂₃⋅a₃₂⋅s  + a₂₃⋅b₃₁⋅k_\\delta⋅k_{\\dot{\\phi\n",
       "\n",
       "      2  2                       2                                      2     \n",
       "}}⋅ωₙₘ ⋅s  + a₃₀⋅b₂₁⋅k_\\delta⋅ωₙₘ  - a₃₁⋅b₂₁⋅k_\\delta⋅k_{\\dot{\\phi}}⋅ωₙₘ ⋅s - \n",
       "\n",
       "       2  2              3            4                       2               \n",
       "a₃₁⋅ωₙₘ ⋅s  - 2⋅a₃₁⋅ωₙₘ⋅s ⋅ζₙₘ - a₃₁⋅s  + a₃₂⋅b₂₁⋅k_\\delta⋅ωₙₘ ⋅s - a₃₃⋅b₂₁⋅k_\n",
       "\n",
       "                         2  2          2  3              4            5       \n",
       "\\delta⋅k_{\\dot{\\phi}}⋅ωₙₘ ⋅s  - a₃₃⋅ωₙₘ ⋅s  - 2⋅a₃₃⋅ωₙₘ⋅s ⋅ζₙₘ - a₃₃⋅s  + b₂₁⋅\n",
       "\n",
       "                           2  3                   2  2      2  4          5   \n",
       "k_\\delta⋅k_{\\dot{\\phi}}⋅ωₙₘ ⋅s  + b₃₁⋅k_\\delta⋅ωₙₘ ⋅s  + ωₙₘ ⋅s  + 2⋅ωₙₘ⋅s ⋅ζₙ\n",
       "\n",
       "     6\n",
       "ₘ + s "
      ]
     },
     "execution_count": 8,
     "metadata": {},
     "output_type": "execute_result"
    }
   ],
   "source": [
    "char_eq.factor()"
   ]
  },
  {
   "cell_type": "markdown",
   "metadata": {},
   "source": [
    "# Solve for the gains\n",
    "\n",
    "There are two control gains, $k_\\delta$ and $k_{\\dot{\\phi}}$, that are the unknowns. We'd like to find the value of the two gains such that the weave poles when there is no feedback, i.e. $k_\\delta=0$ and $k_{\\dot{\\phi}}=0$, shift to a pair of poles when there is feedback that are located at a damping ratio of 0.15 and a natural frequency of 10 rad/s. This pair of poles gives a desired second order system:"
   ]
  },
  {
   "cell_type": "code",
   "execution_count": 9,
   "metadata": {
    "collapsed": false
   },
   "outputs": [
    {
     "data": {
      "image/png": "[encoded data removed]",
      "text/latex": [
       "$$\\operatorname{Poly}{\\left( s^{2} + 3 s + 100, s, domain=\\mathbb{Z} \\right)}$$"
      ],
      "text/plain": [
       "Poly(s**2 + 3*s + 100, s, domain='ZZ')"
      ]
     },
     "execution_count": 9,
     "metadata": {},
     "output_type": "execute_result"
    }
   ],
   "source": [
    "desired_second_order = Poly((s**2 + 2 * S(15)/100 * 10 * s + 10**2), s)\n",
    "desired_second_order"
   ]
  },
  {
   "cell_type": "markdown",
   "metadata": {},
   "source": [
    "This pair of poles must be accompanied by four more poles to equate to the sixth order system above. The desired sixth order system with arbitrary coefficients is then:"
   ]
  },
  {
   "cell_type": "code",
   "execution_count": 10,
   "metadata": {
    "collapsed": false
   },
   "outputs": [
    {
     "data": {
      "image/png": "[encoded data removed]",
      "text/latex": [
       "$$\\operatorname{Poly}{\\left( 100 c_{0} + s^{6} + s^{5} \\left(c_{3} + 3\\right) + s^{4} \\left(c_{2} + 3 c_{3} + 100\\right) + s^{3} \\left(c_{1} + 3 c_{2} + 100 c_{3}\\right) + s^{2} \\left(c_{0} + 3 c_{1} + 100 c_{2}\\right) + s \\left(3 c_{0} + 100 c_{1}\\right), s, domain=\\mathbb{Z}\\left[c_{0}, c_{1}, c_{2}, c_{3}\\right] \\right)}$$"
      ],
      "text/plain": [
       "Poly(s**6 + (c3 + 3)*s**5 + (c2 + 3*c3 + 100)*s**4 + (c1 + 3*c2 + 100*c3)*s**3\n",
       " + (c0 + 3*c1 + 100*c2)*s**2 + (3*c0 + 100*c1)*s + 100*c0, s, domain='ZZ[c0,c1\n",
       ",c2,c3]')"
      ]
     },
     "execution_count": 10,
     "metadata": {},
     "output_type": "execute_result"
    }
   ],
   "source": [
    "c0, c1, c2, c3 = symbols('c0, c1, c2, c3')\n",
    "desired_six_order = Poly(s**4 + c3 * s**3 + c2 * s**2 + c1 * s + c0, s) * desired_second_order\n",
    "desired_six_order"
   ]
  },
  {
   "cell_type": "markdown",
   "metadata": {},
   "source": [
    "The coefficients of the desired polynomial and the one formed from the closed loop system can then be substracted from each other to solve for the unknowns: $c_0, c_1, c_2, c_3, k_\\delta, k_{\\dot{\\phi}}$. This gives 6 equations for the six unknowns."
   ]
  },
  {
   "cell_type": "code",
   "execution_count": 11,
   "metadata": {
    "collapsed": false
   },
   "outputs": [
    {
     "data": {
      "image/png": "[encoded data removed]",
      "text/latex": [
       "$$\\left[\\begin{matrix}- a_{22} - a_{33} - c_{3} + 2 \\omega_{nm} \\zeta_{nm} - 3\\\\- a_{20} + a_{22} a_{33} - 2 a_{22} \\omega_{nm} \\zeta_{nm} - a_{23} a_{32} - a_{31} - 2 a_{33} \\omega_{nm} \\zeta_{nm} - c_{2} - 3 c_{3} + \\omega_{nm}^{2} - 100\\\\a_{20} a_{33} - 2 a_{20} \\omega_{nm} \\zeta_{nm} - a_{21} a_{32} + a_{22} a_{31} + 2 a_{22} a_{33} \\omega_{nm} \\zeta_{nm} - a_{22} \\omega_{nm}^{2} - a_{23} a_{30} - 2 a_{23} a_{32} \\omega_{nm} \\zeta_{nm} - 2 a_{31} \\omega_{nm} \\zeta_{nm} - a_{33} \\omega_{nm}^{2} + b_{21} k_\\delta k_{\\dot{\\phi}} \\omega_{nm}^{2} - c_{1} - 3 c_{2} - 100 c_{3}\\\\a_{20} a_{31} + 2 a_{20} a_{33} \\omega_{nm} \\zeta_{nm} - a_{20} \\omega_{nm}^{2} - a_{21} a_{30} - 2 a_{21} a_{32} \\omega_{nm} \\zeta_{nm} + 2 a_{22} a_{31} \\omega_{nm} \\zeta_{nm} + a_{22} a_{33} \\omega_{nm}^{2} - 2 a_{23} a_{30} \\omega_{nm} \\zeta_{nm} - a_{23} a_{32} \\omega_{nm}^{2} + a_{23} b_{31} k_\\delta k_{\\dot{\\phi}} \\omega_{nm}^{2} - a_{31} \\omega_{nm}^{2} - a_{33} b_{21} k_\\delta k_{\\dot{\\phi}} \\omega_{nm}^{2} + b_{31} k_\\delta \\omega_{nm}^{2} - c_{0} - 3 c_{1} - 100 c_{2}\\\\2 a_{20} a_{31} \\omega_{nm} \\zeta_{nm} + a_{20} a_{33} \\omega_{nm}^{2} - 2 a_{21} a_{30} \\omega_{nm} \\zeta_{nm} - a_{21} a_{32} \\omega_{nm}^{2} + a_{21} b_{31} k_\\delta k_{\\dot{\\phi}} \\omega_{nm}^{2} + a_{22} a_{31} \\omega_{nm}^{2} - a_{22} b_{31} k_\\delta \\omega_{nm}^{2} - a_{23} a_{30} \\omega_{nm}^{2} - a_{31} b_{21} k_\\delta k_{\\dot{\\phi}} \\omega_{nm}^{2} + a_{32} b_{21} k_\\delta \\omega_{nm}^{2} - 3 c_{0} - 100 c_{1}\\\\a_{20} a_{31} \\omega_{nm}^{2} - a_{20} b_{31} k_\\delta \\omega_{nm}^{2} - a_{21} a_{30} \\omega_{nm}^{2} + a_{30} b_{21} k_\\delta \\omega_{nm}^{2} - 100 c_{0}\\end{matrix}\\right]$$"
      ],
      "text/plain": [
       "⎡                                                                             \n",
       "⎢                                                                             \n",
       "⎢                                                                             \n",
       "⎢                                                                             \n",
       "⎢                                                                             \n",
       "⎢                                                                             \n",
       "⎢                                        a₂₀⋅a₃₃ - 2⋅a₂₀⋅ωₙₘ⋅ζₙₘ - a₂₁⋅a₃₂ + a\n",
       "⎢                                                                             \n",
       "⎢                                     2                                       \n",
       "⎢a₂₀⋅a₃₁ + 2⋅a₂₀⋅a₃₃⋅ωₙₘ⋅ζₙₘ - a₂₀⋅ωₙₘ  - a₂₁⋅a₃₀ - 2⋅a₂₁⋅a₃₂⋅ωₙₘ⋅ζₙₘ + 2⋅a₂₂⋅\n",
       "⎢                                                                             \n",
       "⎢                                             2                               \n",
       "⎢              2⋅a₂₀⋅a₃₁⋅ωₙₘ⋅ζₙₘ + a₂₀⋅a₃₃⋅ωₙₘ  - 2⋅a₂₁⋅a₃₀⋅ωₙₘ⋅ζₙₘ - a₂₁⋅a₃₂⋅\n",
       "⎢                                                                             \n",
       "⎢                                                                             \n",
       "⎣                                                                             \n",
       "\n",
       "                                         -a₂₂ - a₃₃ - c₃ + 2⋅ωₙₘ⋅ζₙₘ - 3      \n",
       "                                                                              \n",
       "                                                                              \n",
       "             -a₂₀ + a₂₂⋅a₃₃ - 2⋅a₂₂⋅ωₙₘ⋅ζₙₘ - a₂₃⋅a₃₂ - a₃₁ - 2⋅a₃₃⋅ωₙₘ⋅ζₙₘ - \n",
       "                                                                              \n",
       "                                    2                                         \n",
       "₂₂⋅a₃₁ + 2⋅a₂₂⋅a₃₃⋅ωₙₘ⋅ζₙₘ - a₂₂⋅ωₙₘ  - a₂₃⋅a₃₀ - 2⋅a₂₃⋅a₃₂⋅ωₙₘ⋅ζₙₘ - 2⋅a₃₁⋅ωₙ\n",
       "                                                                              \n",
       "                         2                                  2                 \n",
       "a₃₁⋅ωₙₘ⋅ζₙₘ + a₂₂⋅a₃₃⋅ωₙₘ  - 2⋅a₂₃⋅a₃₀⋅ωₙₘ⋅ζₙₘ - a₂₃⋅a₃₂⋅ωₙₘ  + a₂₃⋅b₃₁⋅k_\\del\n",
       "                                                                              \n",
       "   2                                      2              2                    \n",
       "ωₙₘ  + a₂₁⋅b₃₁⋅k_\\delta⋅k_{\\dot{\\phi}}⋅ωₙₘ  + a₂₂⋅a₃₁⋅ωₙₘ  - a₂₂⋅b₃₁⋅k_\\delta⋅\n",
       "                                                                              \n",
       "                          2                       2              2            \n",
       "               a₂₀⋅a₃₁⋅ωₙₘ  - a₂₀⋅b₃₁⋅k_\\delta⋅ωₙₘ  - a₂₁⋅a₃₀⋅ωₙₘ  + a₃₀⋅b₂₁⋅k\n",
       "\n",
       "                                                                              \n",
       "                                                                              \n",
       "               2                                                              \n",
       "c₂ - 3⋅c₃ + ωₙₘ  - 100                                                        \n",
       "                                                                              \n",
       "               2                                  2                           \n",
       "ₘ⋅ζₙₘ - a₃₃⋅ωₙₘ  + b₂₁⋅k_\\delta⋅k_{\\dot{\\phi}}⋅ωₙₘ  - c₁ - 3⋅c₂ - 100⋅c₃      \n",
       "                                                                              \n",
       "                     2          2                                      2      \n",
       "ta⋅k_{\\dot{\\phi}}⋅ωₙₘ  - a₃₁⋅ωₙₘ  - a₃₃⋅b₂₁⋅k_\\delta⋅k_{\\dot{\\phi}}⋅ωₙₘ  + b₃₁\n",
       "                                                                              \n",
       "   2              2                                      2                    \n",
       "ωₙₘ  - a₂₃⋅a₃₀⋅ωₙₘ  - a₃₁⋅b₂₁⋅k_\\delta⋅k_{\\dot{\\phi}}⋅ωₙₘ  + a₃₂⋅b₂₁⋅k_\\delta⋅\n",
       "                                                                              \n",
       "           2                                                                  \n",
       "_\\delta⋅ωₙₘ  - 100⋅c₀                                                         \n",
       "\n",
       "                                   ⎤\n",
       "                                   ⎥\n",
       "                                   ⎥\n",
       "                                   ⎥\n",
       "                                   ⎥\n",
       "                                   ⎥\n",
       "                                   ⎥\n",
       "                                   ⎥\n",
       "             2                     ⎥\n",
       "⋅k_\\delta⋅ωₙₘ  - c₀ - 3⋅c₁ - 100⋅c₂⎥\n",
       "                                   ⎥\n",
       "   2                               ⎥\n",
       "ωₙₘ  - 3⋅c₀ - 100⋅c₁               ⎥\n",
       "                                   ⎥\n",
       "                                   ⎥\n",
       "                                   ⎦"
      ]
     },
     "execution_count": 11,
     "metadata": {},
     "output_type": "execute_result"
    }
   ],
   "source": [
    "zero = Matrix((char_eq - desired_six_order).coeffs())\n",
    "zero"
   ]
  },
  {
   "cell_type": "markdown",
   "metadata": {},
   "source": [
    "The following loads in the numerical parameters for the benchmark bicycle traveling at 5 m/s, for futher use."
   ]
  },
  {
   "cell_type": "code",
   "execution_count": 12,
   "metadata": {
    "collapsed": false
   },
   "outputs": [],
   "source": [
    "A_benchmark, B_benchmark = bicycle.benchmark_state_space(*bicycle.benchmark_matrices(), 5.0, 9.81)"
   ]
  },
  {
   "cell_type": "code",
   "execution_count": 13,
   "metadata": {
    "collapsed": false
   },
   "outputs": [
    {
     "data": {
      "text/plain": [
       "(array([[  0.        ,   0.        ,   1.        ,   0.        ],\n",
       "        [  0.        ,   0.        ,   0.        ,   1.        ],\n",
       "        [  9.48977445, -22.85146663,  -0.52761225,  -1.65257699],\n",
       "        [ 11.71947687, -18.38412373,  18.38402617, -15.42432764]]),\n",
       " array([[ 0.        ,  0.        ],\n",
       "        [ 0.        ,  0.        ],\n",
       "        [ 0.01593498, -0.12409203],\n",
       "        [-0.12409203,  4.32384018]]))"
      ]
     },
     "execution_count": 13,
     "metadata": {},
     "output_type": "execute_result"
    }
   ],
   "source": [
    "A_benchmark, B_benchmark"
   ]
  },
  {
   "cell_type": "markdown",
   "metadata": {},
   "source": [
    "Create a dictionary that can be used to substitute the numerical values for the benchmark bicycle."
   ]
  },
  {
   "cell_type": "code",
   "execution_count": 14,
   "metadata": {
    "collapsed": false
   },
   "outputs": [
    {
     "data": {
      "image/png": "[encoded data removed]",
      "text/latex": [
       "$$\\left \\{ a_{20} : 9.48977444677, \\quad a_{21} : -22.8514666252, \\quad a_{22} : -0.527612249028, \\quad a_{23} : -1.65257699496, \\quad a_{30} : 11.719476872, \\quad a_{31} : -18.3841237318, \\quad a_{32} : 18.3840261666, \\quad a_{33} : -15.4243276372, \\quad b_{21} : -0.124092025412, \\quad b_{31} : 4.3238401808, \\quad \\omega_{nm} : 30, \\quad \\zeta_{nm} : 0.707\\right \\}$$"
      ],
      "text/plain": [
       "{a₂₀: 9.48977444677, a₂₁: -22.8514666252, a₂₂: -0.527612249028, a₂₃: -1.652576\n",
       "99496, a₃₀: 11.719476872, a₃₁: -18.3841237318, a₃₂: 18.3840261666, a₃₃: -15.42\n",
       "43276372, b₂₁: -0.124092025412, b₃₁: 4.3238401808, ωₙₘ: 30, ζₙₘ: 0.707}"
      ]
     },
     "execution_count": 14,
     "metadata": {},
     "output_type": "execute_result"
    }
   ],
   "source": [
    "par = {k: v for k, v in zip(b['A'], A_benchmark.flatten()) if isinstance(k, Symbol)}\n",
    "par[omega] = 30\n",
    "par[zeta] = 0.707\n",
    "par[b['B'][2, 1]] = B_benchmark[2, 1]\n",
    "par[b['B'][3, 1]] = B_benchmark[3, 1]\n",
    "par"
   ]
  },
  {
   "cell_type": "markdown",
   "metadata": {},
   "source": [
    "The following shows the form of the six equations that must be solved to find the gains and the other coefficients. The equations are linear in the $c$ coefficients and nonlinear in the gains. Notice that the gains are only in the last four equations."
   ]
  },
  {
   "cell_type": "code",
   "execution_count": 15,
   "metadata": {
    "collapsed": false
   },
   "outputs": [
    {
     "data": {
      "image/png": "[encoded data removed]",
      "text/latex": [
       "$$\\left[\\begin{matrix}- c_{3} + 55.3719398861938\\\\- c_{2} - 3 c_{3} + 1524.09472216942\\\\- c_{1} - 3 c_{2} - 100 c_{3} - 111.682822870417 k_\\delta k_{\\dot{\\phi}} + 16670.819288228\\\\- c_{0} - 3 c_{1} - 100 c_{2} - 8153.56338281556 k_\\delta k_{\\dot{\\phi}} + 3891.45616272381 k_\\delta + 55610.0242428841\\\\- 3 c_{0} - 100 c_{1} - 90978.6714602982 k_\\delta k_{\\dot{\\phi}} + 276475.776481344\\\\- 100 c_{0} - 38237.9055133813 k_\\delta + 84011.44228978\\end{matrix}\\right]$$"
      ],
      "text/plain": [
       "⎡                                           -c₃ + 55.3719398861938            \n",
       "⎢                                                                             \n",
       "⎢                                        -c₂ - 3⋅c₃ + 1524.09472216942        \n",
       "⎢                                                                             \n",
       "⎢              -c₁ - 3⋅c₂ - 100⋅c₃ - 111.682822870417⋅k_\\delta⋅k_{\\dot{\\phi}} \n",
       "⎢                                                                             \n",
       "⎢-c₀ - 3⋅c₁ - 100⋅c₂ - 8153.56338281556⋅k_\\delta⋅k_{\\dot{\\phi}} + 3891.4561627\n",
       "⎢                                                                             \n",
       "⎢                -3⋅c₀ - 100⋅c₁ - 90978.6714602982⋅k_\\delta⋅k_{\\dot{\\phi}} + 2\n",
       "⎢                                                                             \n",
       "⎣                            -100⋅c₀ - 38237.9055133813⋅k_\\delta + 84011.44228\n",
       "\n",
       "                                ⎤\n",
       "                                ⎥\n",
       "                                ⎥\n",
       "                                ⎥\n",
       "+ 16670.819288228               ⎥\n",
       "                                ⎥\n",
       "2381⋅k_\\delta + 55610.0242428841⎥\n",
       "                                ⎥\n",
       "76475.776481344                 ⎥\n",
       "                                ⎥\n",
       "978                             ⎦"
      ]
     },
     "execution_count": 15,
     "metadata": {},
     "output_type": "execute_result"
    }
   ],
   "source": [
    "zero.subs(par)"
   ]
  },
  {
   "cell_type": "markdown",
   "metadata": {},
   "source": [
    "Now we can attempt to solve for the gains analytically. This set of equations are polynomials in the unknowns and may have an analytical solution. First we solve the first two linear equations for $c_2$ and $c_3$ and substitute them into the last four equations."
   ]
  },
  {
   "cell_type": "markdown",
   "metadata": {},
   "source": [
    "A variable can be substituted for $k_\\delta k_\\dot{\\phi}$ and the equations become linear."
   ]
  },
  {
   "cell_type": "code",
   "execution_count": 16,
   "metadata": {
    "collapsed": true
   },
   "outputs": [],
   "source": [
    "sol = solve(zero, c0, c1, c2, c3, k_delta, k_delta * k_phi_dot) "
   ]
  },
  {
   "cell_type": "code",
   "execution_count": 17,
   "metadata": {
    "collapsed": false
   },
   "outputs": [],
   "source": [
    "sol[k_phi_dot] = (sol[k_delta * k_phi_dot] / sol[k_delta])"
   ]
  },
  {
   "cell_type": "code",
   "execution_count": 18,
   "metadata": {
    "collapsed": false
   },
   "outputs": [
    {
     "data": {
      "image/png": "[encoded data removed]",
      "text/latex": [
       "$$14.3904979308095$$"
      ],
      "text/plain": [
       "14.3904979308095"
      ]
     },
     "execution_count": 18,
     "metadata": {},
     "output_type": "execute_result"
    }
   ],
   "source": [
    "sol[k_delta].subs(par)"
   ]
  },
  {
   "cell_type": "code",
   "execution_count": 19,
   "metadata": {
    "collapsed": false
   },
   "outputs": [
    {
     "data": {
      "image/png": "[encoded data removed]",
      "text/latex": [
       "$$-0.361777522436522$$"
      ],
      "text/plain": [
       "-0.361777522436522"
      ]
     },
     "execution_count": 19,
     "metadata": {},
     "output_type": "execute_result"
    }
   ],
   "source": [
    "sol[k_phi_dot].subs(par)"
   ]
  },
  {
   "cell_type": "markdown",
   "metadata": {
    "collapsed": false
   },
   "source": [
    "# Generate a Python function\n",
    "\n",
    "Next I generate an efficient Python function that evaluates the found expressions for $k_\\delta$ and $k_\\dot{\\phi}$."
   ]
  },
  {
   "cell_type": "code",
   "execution_count": 20,
   "metadata": {
    "collapsed": false
   },
   "outputs": [],
   "source": [
    "py_func_template = '''\\\n",
    "def compute_inner_gains(A, B, omega_nm, zeta_nm):\n",
    "    \"\"\"Returns the steer and roll rate gains given the state and input\n",
    "    matrices of the bicycle and the neuromuscular block's natural\n",
    "    frequency and damping ratio.\n",
    "    \n",
    "    Parameters\n",
    "    ==========\n",
    "    A : array_like, shape(4, 4)\n",
    "        The state matrix for a linear Whipple bicycle model, where\n",
    "        the states are [roll angle, steer angle, roll angular rate,\n",
    "        steer angular rate].\n",
    "    B : array_like, shape(4, 2)\n",
    "        The input matrix for a linear Whipple bicycle model, where\n",
    "        the inputs are [roll torque, steer torque].\n",
    "    omega_nm : float\n",
    "        The natural frequency of the neuromuscular model.\n",
    "    zeta_nm : float\n",
    "        The damping ratio of the neuromuscular model.\n",
    "        \n",
    "    Returns\n",
    "    =======\n",
    "    k_delta : float\n",
    "        The steer angle feedback gain.\n",
    "    k_phi_dot : float\n",
    "        The roll rate feedback gain.\n",
    "    \n",
    "    \"\"\"\n",
    "    {matrix_expansion}\n",
    "    \n",
    "    {sub_exprs}\n",
    "    \n",
    "{main_exprs}\n",
    "    \n",
    "    return k_delta, k_phi_dot\\\n",
    "'''"
   ]
  },
  {
   "cell_type": "code",
   "execution_count": 21,
   "metadata": {
    "collapsed": false
   },
   "outputs": [],
   "source": [
    "sub_exprs, main_exprs = cse([sol[k_delta], sol[k_phi_dot]])"
   ]
  },
  {
   "cell_type": "code",
   "execution_count": 22,
   "metadata": {
    "collapsed": false
   },
   "outputs": [],
   "source": [
    "zero_syms = zero.free_symbols\n",
    "matrix_expansion = []\n",
    "for mat in ['A', 'B']:\n",
    "    for i, row in enumerate(b[mat].tolist()):\n",
    "        for j, col in enumerate(row):\n",
    "            if col in zero_syms:\n",
    "                matrix_expansion.append('{} = {}[{}, {}]'.format(col, mat, i, j))"
   ]
  },
  {
   "cell_type": "code",
   "execution_count": 23,
   "metadata": {
    "collapsed": false
   },
   "outputs": [],
   "source": [
    "sub_exprs_txt = ['{} = {}'.format(x, y) for x, y in sub_exprs]"
   ]
  },
  {
   "cell_type": "code",
   "execution_count": 24,
   "metadata": {
    "collapsed": false
   },
   "outputs": [],
   "source": [
    "main_exprs_txt = '    k_delta = {}\\n\\n    k_phi_dot = {}'.format(*main_exprs)"
   ]
  },
  {
   "cell_type": "markdown",
   "metadata": {},
   "source": [
    "The full function is shown below:"
   ]
  },
  {
   "cell_type": "code",
   "execution_count": 25,
   "metadata": {
    "collapsed": false
   },
   "outputs": [
    {
     "name": "stdout",
     "output_type": "stream",
     "text": [
      "def compute_inner_gains(A, B, omega_nm, zeta_nm):\n",
      "    \"\"\"Returns the steer and roll rate gains given the state and input\n",
      "    matrices of the bicycle and the neuromuscular block's natural\n",
      "    frequency and damping ratio.\n",
      "    \n",
      "    Parameters\n",
      "    ==========\n",
      "    A : array_like, shape(4, 4)\n",
      "        The state matrix for a linear Whipple bicycle model, where\n",
      "        the states are [roll angle, steer angle, roll angular rate,\n",
      "        steer angular rate].\n",
      "    B : array_like, shape(4, 2)\n",
      "        The input matrix for a linear Whipple bicycle model, where\n",
      "        the inputs are [roll torque, steer torque].\n",
      "    omega_nm : float\n",
      "        The natural frequency of the neuromuscular model.\n",
      "    zeta_nm : float\n",
      "        The damping ratio of the neuromuscular model.\n",
      "        \n",
      "    Returns\n",
      "    =======\n",
      "    k_delta : float\n",
      "        The steer angle feedback gain.\n",
      "    k_phi_dot : float\n",
      "        The roll rate feedback gain.\n",
      "    \n",
      "    \"\"\"\n",
      "    a_20 = A[2, 0]\n",
      "    a_21 = A[2, 1]\n",
      "    a_22 = A[2, 2]\n",
      "    a_23 = A[2, 3]\n",
      "    a_30 = A[3, 0]\n",
      "    a_31 = A[3, 1]\n",
      "    a_32 = A[3, 2]\n",
      "    a_33 = A[3, 3]\n",
      "    b_21 = B[2, 1]\n",
      "    b_31 = B[3, 1]\n",
      "    \n",
      "    x0 = omega_nm**2\n",
      "    x1 = 10000*b_21\n",
      "    x2 = 91*b_21\n",
      "    x3 = a_20*b_31\n",
      "    x4 = a_22*b_31\n",
      "    x5 = 300*x4\n",
      "    x6 = 100*b_21\n",
      "    x7 = b_21**2\n",
      "    x8 = 3*b_31\n",
      "    x9 = a_20*x8\n",
      "    x10 = a_23*b_31\n",
      "    x11 = a_33*b_21\n",
      "    x12 = x10 - x11\n",
      "    x13 = 100*b_31\n",
      "    x14 = a_22*x13\n",
      "    x15 = 3*b_21\n",
      "    x16 = a_30*x15\n",
      "    x17 = a_32*x6\n",
      "    x18 = a_30*b_21\n",
      "    x19 = -x18 + x3\n",
      "    x20 = a_21*b_31\n",
      "    x21 = a_31*b_21\n",
      "    x22 = 2*zeta_nm\n",
      "    x23 = omega_nm*x22\n",
      "    x24 = a_22 + a_33 - x23 + 3\n",
      "    x25 = a_20*a_31\n",
      "    x26 = a_21*a_30\n",
      "    x27 = x0*(x25 - x26)\n",
      "    x28 = -x20 + x21\n",
      "    x29 = -a_23*x13\n",
      "    x30 = a_33*x6\n",
      "    x31 = a_20*a_33\n",
      "    x32 = a_22*a_31\n",
      "    x33 = a_21*a_32\n",
      "    x34 = a_23*a_30\n",
      "    x35 = omega_nm*(omega_nm*x31 + omega_nm*x32 - omega_nm*x33 - omega_nm*x34 + x22*x25 - x22*x26)\n",
      "    x36 = a_23*a_32\n",
      "    x37 = a_22*a_33\n",
      "    x38 = a_20 + a_22*x23 + a_31 + a_33*x23 - x0 + x36 - x37 + 100\n",
      "    x39 = a_20*x23 + a_22*x0 + a_31*x23 + a_33*x0 + x23*x36 - x23*x37 - x31 - x32 + x33 + x34\n",
      "    x40 = a_20*x0 + a_31*x0 + x0*x36 - x0*x37 - x23*x31 - x23*x32 + x23*x33 + x23*x34 - x25 + x26\n",
      "    x41 = 100*x24*(30000*b_21 + 9100*x10 - 9100*x11 - 573*x20 + 573*x21) + x27*(a_23*x8 - a_33*x15 + x2 + x28) + x35*(300*b_21 + x29 + x30) - 100*x38*(a_31*x2 + x1 - 300*x10 + 300*x11 - 91*x20) + 100*x39*(a_21*x8 - a_31*x15 + x29 + x30) + 100*x40*(x28 + x6)\n",
      "    x42 = a_32*b_21\n",
      "    \n",
      "    k_delta = x41/(x0*(-100*a_21*b_31**2 - 91*a_30*x7 + a_31*b_31*x6 - 300*a_32*x7 + b_21*x5 + b_31*x1 - x12*x14 - x12*x16 + x12*x17 + x12*x9 - x19*(x20 - x21) + x2*x3))\n",
      "\n",
      "    k_phi_dot = (-x24*(910000*b_31 - 7381*x18 + 7381*x3 + 57300*x4 - 57300*x42) - x27*(x4 - x42 + x8) + x35*(x13 + x19) - x38*(30000*b_31 - 573*x18 + 573*x3 - 9100*x4 + 9100*x42) + x39*(-a_30*x2 + 10000*b_31 + 91*x3 - 300*x42 + x5) + x40*(-x14 - x16 + x17 + x9))/x41\n",
      "    \n",
      "    return k_delta, k_phi_dot\n"
     ]
    }
   ],
   "source": [
    "func_txt = py_func_template.format(matrix_expansion='\\n    '.join(matrix_expansion),\n",
    "                              sub_exprs='\\n    '.join(sub_exprs_txt),\n",
    "                              main_exprs=main_exprs_txt)\n",
    "print(func_txt)"
   ]
  },
  {
   "cell_type": "markdown",
   "metadata": {},
   "source": [
    "# Check the results\n",
    "\n",
    "Here, I make use of the function to calculate the gains to see if it gives reasonable answers. First, see what kind of results are returned for the benchmark bicycle traveling at 5 m/s."
   ]
  },
  {
   "cell_type": "code",
   "execution_count": 26,
   "metadata": {
    "collapsed": false
   },
   "outputs": [],
   "source": [
    "exec(func_txt)"
   ]
  },
  {
   "cell_type": "code",
   "execution_count": 27,
   "metadata": {
    "collapsed": false
   },
   "outputs": [
    {
     "data": {
      "image/png": "[encoded data removed]",
      "text/latex": [
       "$$\\left \\{ k_\\delta : 14.3904979308, \\quad k_{\\dot{\\phi}} : -0.361777522437\\right \\}$$"
      ],
      "text/plain": [
       "{k_\\delta: 14.3904979308, k_{\\dot{\\phi}}: -0.361777522437}"
      ]
     },
     "execution_count": 27,
     "metadata": {},
     "output_type": "execute_result"
    }
   ],
   "source": [
    "k_delta_sol, k_phi_dot_sol = compute_inner_gains(A_benchmark, B_benchmark, 30, 0.707)\n",
    "gain_sol = {k_delta: k_delta_sol, k_phi_dot: k_phi_dot_sol}\n",
    "gain_sol"
   ]
  },
  {
   "cell_type": "markdown",
   "metadata": {},
   "source": [
    "This is a good sign. The roll rate gain is found to be a small negative number and the steer rate gain is larger and positive. But the values that we find for our paper are more like $k_\\delta=45, k_\\dot{\\phi}=-0.08$ for the regular bicycles traveling at 5.0 m/s. But this more closely aligns with what I did in my dissertation (http://moorepants.github.io/dissertation/control.html#model-description). There I found that you could get the same closed loop results for the two loops and have some flexibility in choice of gains. In the case of the description in my dissertation I get very similar numbers as this. In fact I can check to see if I get the same values as in my dissertation."
   ]
  },
  {
   "cell_type": "code",
   "execution_count": 28,
   "metadata": {
    "collapsed": false
   },
   "outputs": [
    {
     "name": "stdout",
     "output_type": "stream",
     "text": [
      "We have foundeth a directory named: /home/moorepants/src/BicycleParameters/data/bicycles/Rigidcl.\n",
      "Found the RawData directory: /home/moorepants/src/BicycleParameters/data/bicycles/Rigidcl/RawData\n",
      "Recalcuting the parameters.\n",
      "The glory of the Rigidcl parameters are upon you!\n"
     ]
    },
    {
     "name": "stderr",
     "output_type": "stream",
     "text": [
      "/home/moorepants/src/BicycleParameters/bicycleparameters/com.py:55: VisibleDeprecationWarning: using a non-integer number instead of an integer will result in an error in the future\n",
      "  cartesian(arrays[1:], out=out[0:m,1:])\n",
      "/home/moorepants/src/BicycleParameters/bicycleparameters/com.py:57: VisibleDeprecationWarning: using a non-integer number instead of an integer will result in an error in the future\n",
      "  out[j*m:(j+1)*m,1:] = out[0:m,1:]\n"
     ]
    }
   ],
   "source": [
    "real_bike = bp.Bicycle('Rigidcl', pathToData='/home/moorepants/src/BicycleParameters/data/')"
   ]
  },
  {
   "cell_type": "code",
   "execution_count": 29,
   "metadata": {
    "collapsed": false
   },
   "outputs": [
    {
     "name": "stdout",
     "output_type": "stream",
     "text": [
      "There is no rider on the bicycle, now adding Charlie.\n",
      "No parameter files found, calculating the human configuration.\n"
     ]
    }
   ],
   "source": [
    "real_bike.add_rider('Charlie')"
   ]
  },
  {
   "cell_type": "code",
   "execution_count": 30,
   "metadata": {
    "collapsed": true
   },
   "outputs": [],
   "source": [
    "A_real_bike, B_real_bike = real_bike.state_space(5.0, nominal=True)"
   ]
  },
  {
   "cell_type": "code",
   "execution_count": 31,
   "metadata": {
    "collapsed": false
   },
   "outputs": [
    {
     "data": {
      "text/plain": [
       "array([[  0.        ,   0.        ,   1.        ,   0.        ],\n",
       "       [  0.        ,   0.        ,   0.        ,   1.        ],\n",
       "       [  8.27673976, -19.24025703,  -0.15126742,  -1.27363532],\n",
       "       [ 19.96881539, -18.88653895,   8.74213104, -18.14135119]])"
      ]
     },
     "execution_count": 31,
     "metadata": {},
     "output_type": "execute_result"
    }
   ],
   "source": [
    "A_real_bike"
   ]
  },
  {
   "cell_type": "code",
   "execution_count": 32,
   "metadata": {
    "collapsed": false
   },
   "outputs": [
    {
     "data": {
      "text/plain": [
       "array([[ 0.        ,  0.        ],\n",
       "       [ 0.        ,  0.        ],\n",
       "       [ 0.00965478, -0.09603994],\n",
       "       [-0.09603994,  5.55039373]])"
      ]
     },
     "execution_count": 32,
     "metadata": {},
     "output_type": "execute_result"
    }
   ],
   "source": [
    "B_real_bike"
   ]
  },
  {
   "cell_type": "code",
   "execution_count": 33,
   "metadata": {
    "collapsed": false
   },
   "outputs": [
    {
     "data": {
      "image/png": "[encoded data removed]",
      "text/latex": [
       "$$\\left ( 15.5037526703, \\quad -0.495348859335\\right )$$"
      ],
      "text/plain": [
       "(15.5037526703, -0.495348859335)"
      ]
     },
     "execution_count": 33,
     "metadata": {},
     "output_type": "execute_result"
    }
   ],
   "source": [
    "compute_inner_gains(A_real_bike, B_real_bike, 30, 0.707)"
   ]
  },
  {
   "cell_type": "markdown",
   "metadata": {},
   "source": [
    "Very nice! In my dissertation I found 17.5 and -0.44, so this does the same thing as my method. But it doesn't quite give the exact same results as what Ron's method gives in the paper. So we will need to investigate further.\n",
    "\n",
    "Lastly, let's just check to see if this puts the poles where we wanted them to go:"
   ]
  },
  {
   "cell_type": "code",
   "execution_count": 34,
   "metadata": {
    "collapsed": false
   },
   "outputs": [],
   "source": [
    "eq = char_eq.subs(par).subs(gain_sol).as_poly(s)"
   ]
  },
  {
   "cell_type": "code",
   "execution_count": 35,
   "metadata": {
    "collapsed": false
   },
   "outputs": [
    {
     "data": {
      "image/png": "[encoded data removed]",
      "text/latex": [
       "$$\\left [ -8.5478844569389, \\quad 0.554329590993425, \\quad -23.6891925101242 - 20.5625311162013 i, \\quad -23.6891925101242 + 20.5625311162013 i, \\quad -1.5 - 9.88685996664259 i, \\quad -1.5 + 9.88685996664259 i\\right ]$$"
      ],
      "text/plain": [
       "[-8.5478844569389, 0.554329590993425, -23.6891925101242 - 20.5625311162013⋅ⅈ, \n",
       "-23.6891925101242 + 20.5625311162013⋅ⅈ, -1.5 - 9.88685996664259⋅ⅈ, -1.5 + 9.88\n",
       "685996664259⋅ⅈ]"
      ]
     },
     "execution_count": 35,
     "metadata": {},
     "output_type": "execute_result"
    }
   ],
   "source": [
    "eq.nroots()"
   ]
  },
  {
   "cell_type": "code",
   "execution_count": 36,
   "metadata": {
    "collapsed": false
   },
   "outputs": [
    {
     "data": {
      "image/png": "[encoded data removed]",
      "text/latex": [
       "$$\\left [ -1.5 - 9.88685996664259 i, \\quad -1.5 + 9.88685996664259 i\\right ]$$"
      ],
      "text/plain": [
       "[-1.5 - 9.88685996664259⋅ⅈ, -1.5 + 9.88685996664259⋅ⅈ]"
      ]
     },
     "execution_count": 36,
     "metadata": {},
     "output_type": "execute_result"
    }
   ],
   "source": [
    "desired_second_order.nroots()"
   ]
  },
  {
   "cell_type": "markdown",
   "metadata": {},
   "source": [
    "The closed loop poles are exactly where they should be."
   ]
  }
 ],
 "metadata": {
  "kernelspec": {
   "display_name": "Python 3",
   "language": "python",
   "name": "python3"
  },
  "language_info": {
   "codemirror_mode": {
    "name": "ipython",
    "version": 3
   },
   "file_extension": ".py",
   "mimetype": "text/x-python",
   "name": "python",
   "nbconvert_exporter": "python",
   "pygments_lexer": "ipython3",
   "version": "3.5.2"
  }
 },
 "nbformat": 4,
 "nbformat_minor": 0
}
