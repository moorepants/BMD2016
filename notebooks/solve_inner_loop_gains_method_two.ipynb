{
 "cells": [
  {
   "cell_type": "markdown",
   "metadata": {},
   "source": [
    "This document describes an attempt to solve for the gains of the first two inner loops of this block diagram to ensure that at a pair of the poles in each sequential loop closure end up with the desired damping ratio.\n",
    "\n",
    "![](http://moorepants.github.io/dissertation/_images/inner-loops.png)\n",
    "\n",
    "where\n",
    "\n",
    "$$G_{nm}(s) = \\frac{\\omega_{nm}^2}{s^2 + 2\\zeta_{nm}\\omega_{nm}s + \\omega_{nm}^2}$$\n",
    "\n",
    "and the bicycle block is the linearized Whipple model as presented in Meijaard 2007."
   ]
  },
  {
   "cell_type": "markdown",
   "metadata": {},
   "source": [
    "# Setup"
   ]
  },
  {
   "cell_type": "code",
   "execution_count": 1,
   "metadata": {
    "collapsed": true
   },
   "outputs": [],
   "source": [
    "import os\n",
    "import re"
   ]
  },
  {
   "cell_type": "code",
   "execution_count": 2,
   "metadata": {
    "collapsed": true
   },
   "outputs": [],
   "source": [
    "from IPython.display import display, Math\n",
    "from sympy import MatrixSymbol, Eq, simplify, Poly, det, latex, S, solve, cse, octave_code, lambdify, ordered\n",
    "import numpy as np\n",
    "from scipy.optimize import fsolve\n",
    "from dtk import bicycle"
   ]
  },
  {
   "cell_type": "markdown",
   "metadata": {},
   "source": [
    "The `roll_rate_loop.py` file builds the bicycle state space, the neuromuscular state space, and finally the state equations for the closed loop system when the steering angle and roll rate feedback loops are closed."
   ]
  },
  {
   "cell_type": "code",
   "execution_count": 3,
   "metadata": {
    "collapsed": false
   },
   "outputs": [],
   "source": [
    "%run ../src/roll_rate_loop.py"
   ]
  },
  {
   "cell_type": "markdown",
   "metadata": {},
   "source": [
    "# State Space Definitions\n",
    "\n",
    "The bicycle state equations take this general form:"
   ]
  },
  {
   "cell_type": "code",
   "execution_count": 4,
   "metadata": {
    "collapsed": false
   },
   "outputs": [
    {
     "data": {
      "image/png": "[encoded data removed]",
      "text/latex": [
       "$$\\left [ A_{b} = \\left[\\begin{matrix}0 & 0 & 1 & 0\\\\0 & 0 & 0 & 1\\\\a_{20} & a_{21} & a_{22} & a_{23}\\\\a_{30} & a_{31} & a_{32} & a_{33}\\end{matrix}\\right], \\quad x_{b} = \\left[\\begin{matrix}\\phi\\\\\\delta\\\\\\dot{\\phi}\\\\\\dot{\\delta}\\end{matrix}\\right], \\quad B_{b} = \\left[\\begin{matrix}0 & 0 & 0\\\\0 & 0 & 0\\\\b_{20} & b_{21} & b_{22}\\\\b_{30} & b_{31} & b_{32}\\end{matrix}\\right], \\quad u_{b} = \\left[\\begin{matrix}T_\\phi\\\\T_\\delta\\\\F_{B}\\end{matrix}\\right]\\right ]$$"
      ],
      "text/plain": [
       "⎡A_b = ⎡ 0    0    1    0 ⎤, x_b = ⎡     φ      ⎤, B_b = ⎡ 0    0    0 ⎤, u_b \n",
       "⎢      ⎢                  ⎥        ⎢            ⎥        ⎢             ⎥      \n",
       "⎢      ⎢ 0    0    0    1 ⎥        ⎢     δ      ⎥        ⎢ 0    0    0 ⎥      \n",
       "⎢      ⎢                  ⎥        ⎢            ⎥        ⎢             ⎥      \n",
       "⎢      ⎢a₂₀  a₂₁  a₂₂  a₂₃⎥        ⎢ \\dot{\\phi} ⎥        ⎢b₂₀  b₂₁  b₂₂⎥      \n",
       "⎢      ⎢                  ⎥        ⎢            ⎥        ⎢             ⎥      \n",
       "⎣      ⎣a₃₀  a₃₁  a₃₂  a₃₃⎦        ⎣\\dot{\\delta}⎦        ⎣b₃₀  b₃₁  b₃₂⎦      \n",
       "\n",
       "= ⎡ T_\\phi ⎤⎤\n",
       "  ⎢        ⎥⎥\n",
       "  ⎢T_\\delta⎥⎥\n",
       "  ⎢        ⎥⎥\n",
       "  ⎣  F_B   ⎦⎥\n",
       "            ⎥\n",
       "            ⎦"
      ]
     },
     "execution_count": 4,
     "metadata": {},
     "output_type": "execute_result"
    }
   ],
   "source": [
    "[Eq(MatrixSymbol('{}_b'.format(v), *b[v].shape), b[v]) for v in ['A', 'x', 'B', 'u']]"
   ]
  },
  {
   "cell_type": "markdown",
   "metadata": {},
   "source": [
    "The second order neuromuscular model can be put in this state space form:"
   ]
  },
  {
   "cell_type": "code",
   "execution_count": 5,
   "metadata": {
    "collapsed": false
   },
   "outputs": [
    {
     "data": {
      "image/png": "[encoded data removed]",
      "text/latex": [
       "$$\\left [ A_{nm} = \\left[\\begin{matrix}0 & 1\\\\- \\omega_{nm}^{2} & - 2 \\omega_{nm} \\zeta_{nm}\\end{matrix}\\right], \\quad x_{nm} = \\left[\\begin{matrix}T_\\delta\\\\\\dot{T}_\\delta\\end{matrix}\\right], \\quad B_{nm} = \\left[\\begin{matrix}0\\\\\\omega_{nm}^{2}\\end{matrix}\\right]\\right ]$$"
      ],
      "text/plain": [
       "⎡Aₙₘ = ⎡      0                    1            ⎤, xₙₘ = ⎡   T_\\delta   ⎤, Bₙₘ\n",
       "⎢      ⎢                                        ⎥        ⎢              ⎥     \n",
       "⎢      ⎢            2                           ⎥        ⎣\\dot{T}_\\delta⎦     \n",
       "⎣      ⎣-\\omega_{nm}   -2⋅\\omega_{nm}⋅\\zeta_{nm}⎦                             \n",
       "\n",
       " = ⎡     0      ⎤⎤\n",
       "   ⎢            ⎥⎥\n",
       "   ⎢           2⎥⎥\n",
       "   ⎣\\omega_{nm} ⎦⎦"
      ]
     },
     "execution_count": 5,
     "metadata": {},
     "output_type": "execute_result"
    }
   ],
   "source": [
    "[Eq(MatrixSymbol('{}_nm'.format(v), *n[v].shape), n[v]) for v in ['A', 'x', 'B']]"
   ]
  },
  {
   "cell_type": "markdown",
   "metadata": {},
   "source": [
    "The closed loop state equations for the first loop closed around the combine neuromuscular and bicycle model is:"
   ]
  },
  {
   "cell_type": "code",
   "execution_count": 6,
   "metadata": {
    "collapsed": false
   },
   "outputs": [
    {
     "data": {
      "image/png": "[encoded data removed]",
      "text/latex": [
       "$$\\left [ A_\\delta = \\left[\\begin{matrix}0 & 0 & 1 & 0 & 0 & 0\\\\0 & 0 & 0 & 1 & 0 & 0\\\\a_{20} & a_{21} & a_{22} & a_{23} & b_{21} & 0\\\\a_{30} & a_{31} & a_{32} & a_{33} & b_{31} & 0\\\\0 & 0 & 0 & 0 & 0 & 1\\\\0 & - \\omega_{nm}^{2} k_\\delta & 0 & 0 & - \\omega_{nm}^{2} & - 2 \\omega_{nm} \\zeta_{nm}\\end{matrix}\\right], \\quad x_\\delta = \\left[\\begin{matrix}\\phi\\\\\\delta\\\\\\dot{\\phi}\\\\\\dot{\\delta}\\\\T_\\delta\\\\\\dot{T}_\\delta\\end{matrix}\\right], \\quad B_\\delta = \\left[\\begin{matrix}0 & 0 & 0\\\\0 & 0 & 0\\\\b_{20} & b_{22} & 0\\\\b_{30} & b_{32} & 0\\\\0 & 0 & 0\\\\0 & 0 & \\omega_{nm}^{2} k_\\delta\\end{matrix}\\right], \\quad u_\\delta = \\left[\\begin{matrix}T_\\phi\\\\F_{B}\\\\\\delta_{c}\\end{matrix}\\right]\\right ]$$"
      ],
      "text/plain": [
       "⎡A_\\delta = ⎡ 0             0              1    0         0                   \n",
       "⎢           ⎢                                                                 \n",
       "⎢           ⎢ 0             0              0    1         0                   \n",
       "⎢           ⎢                                                                 \n",
       "⎢           ⎢a₂₀           a₂₁            a₂₂  a₂₃       b₂₁                  \n",
       "⎢           ⎢                                                                 \n",
       "⎢           ⎢a₃₀           a₃₁            a₃₂  a₃₃       b₃₁                  \n",
       "⎢           ⎢                                                                 \n",
       "⎢           ⎢ 0             0              0    0         0                   \n",
       "⎢           ⎢                                                                 \n",
       "⎢           ⎢                 2                                 2             \n",
       "⎣           ⎣ 0   -\\omega_{nm} ⋅k_\\delta   0    0   -\\omega_{nm}   -2⋅\\omega_{\n",
       "\n",
       " 0            ⎤, x_\\delta = ⎡      φ       ⎤, B_\\delta = ⎡ 0    0             \n",
       "              ⎥             ⎢              ⎥             ⎢                    \n",
       " 0            ⎥             ⎢      δ       ⎥             ⎢ 0    0             \n",
       "              ⎥             ⎢              ⎥             ⎢                    \n",
       " 0            ⎥             ⎢  \\dot{\\phi}  ⎥             ⎢b₂₀  b₂₂            \n",
       "              ⎥             ⎢              ⎥             ⎢                    \n",
       " 0            ⎥             ⎢ \\dot{\\delta} ⎥             ⎢b₃₀  b₃₂            \n",
       "              ⎥             ⎢              ⎥             ⎢                    \n",
       " 1            ⎥             ⎢   T_\\delta   ⎥             ⎢ 0    0             \n",
       "              ⎥             ⎢              ⎥             ⎢                    \n",
       "              ⎥             ⎣\\dot{T}_\\delta⎦             ⎢                    \n",
       "nm}⋅\\zeta_{nm}⎦                                          ⎣ 0    0   \\omega_{nm\n",
       "\n",
       "0          ⎤, u_\\delta = ⎡T_\\phi⎤⎤\n",
       "           ⎥             ⎢      ⎥⎥\n",
       "0          ⎥             ⎢ F_B  ⎥⎥\n",
       "           ⎥             ⎢      ⎥⎥\n",
       "0          ⎥             ⎣ δ_c  ⎦⎥\n",
       "           ⎥                     ⎥\n",
       "0          ⎥                     ⎥\n",
       "           ⎥                     ⎥\n",
       "0          ⎥                     ⎥\n",
       "           ⎥                     ⎥\n",
       " 2         ⎥                     ⎥\n",
       "} ⋅k_\\delta⎦                     ⎦"
      ]
     },
     "execution_count": 6,
     "metadata": {},
     "output_type": "execute_result"
    }
   ],
   "source": [
    "[Eq(MatrixSymbol('{}_\\delta'.format(v), *c_delta[v].shape), c_delta[v]) for v in ['A', 'x', 'B', 'u']]"
   ]
  },
  {
   "cell_type": "markdown",
   "metadata": {},
   "source": [
    "The closed loop state equations for the second closed loop are:"
   ]
  },
  {
   "cell_type": "code",
   "execution_count": 7,
   "metadata": {
    "collapsed": false
   },
   "outputs": [
    {
     "data": {
      "text/latex": [
       "$$\\left [ A_\\dot{\\phi} = \\left[\\begin{matrix}0 & 0 & 1 & 0 & 0 & 0\\\\0 & 0 & 0 & 1 & 0 & 0\\\\a_{20} & a_{21} & a_{22} & a_{23} & b_{21} & 0\\\\a_{30} & a_{31} & a_{32} & a_{33} & b_{31} & 0\\\\0 & 0 & 0 & 0 & 0 & 1\\\\0 & - \\omega_{nm}^{2} k_\\delta & - \\omega_{nm}^{2} k_\\delta k_{\\dot{\\phi}} & 0 & - \\omega_{nm}^{2} & - 2 \\omega_{nm} \\zeta_{nm}\\end{matrix}\\right], \\quad x_\\dot{\\phi} = \\left[\\begin{matrix}\\phi\\\\\\delta\\\\\\dot{\\phi}\\\\\\dot{\\delta}\\\\T_\\delta\\\\\\dot{T}_\\delta\\end{matrix}\\right], \\quad B_\\dot{\\phi} = \\left[\\begin{matrix}0 & 0 & 0\\\\0 & 0 & 0\\\\b_{20} & b_{22} & 0\\\\b_{30} & b_{32} & 0\\\\0 & 0 & 0\\\\0 & 0 & \\omega_{nm}^{2} k_\\delta k_{\\dot{\\phi}}\\end{matrix}\\right], \\quad u_\\dot{\\phi} = \\left[\\begin{matrix}T_\\phi\\\\F_{B}\\\\\\dot{\\phi}_c\\end{matrix}\\right]\\right ]$$"
      ],
      "text/plain": [
       "⎡A_\\dot{\\phi} = ⎡ 0             0                               1             \n",
       "⎢               ⎢                                                             \n",
       "⎢               ⎢ 0             0                               0             \n",
       "⎢               ⎢                                                             \n",
       "⎢               ⎢a₂₀           a₂₁                             a₂₂            \n",
       "⎢               ⎢                                                             \n",
       "⎢               ⎢a₃₀           a₃₁                             a₃₂            \n",
       "⎢               ⎢                                                             \n",
       "⎢               ⎢ 0             0                               0             \n",
       "⎢               ⎢                                                             \n",
       "⎢               ⎢                 2                       2                   \n",
       "⎣               ⎣ 0   -\\omega_{nm} ⋅k_\\delta  -\\omega_{nm} ⋅k_\\delta⋅k_{\\dot{\\\n",
       "\n",
       "        0         0                    0            ⎤, x_\\dot{\\phi} = ⎡      φ\n",
       "                                                    ⎥                 ⎢       \n",
       "        1         0                    0            ⎥                 ⎢      δ\n",
       "                                                    ⎥                 ⎢       \n",
       "       a₂₃       b₂₁                   0            ⎥                 ⎢  \\dot{\n",
       "                                                    ⎥                 ⎢       \n",
       "       a₃₃       b₃₁                   0            ⎥                 ⎢ \\dot{\\\n",
       "                                                    ⎥                 ⎢       \n",
       "        0         0                    1            ⎥                 ⎢   T_\\d\n",
       "                                                    ⎥                 ⎢       \n",
       "                        2                           ⎥                 ⎣\\dot{T}\n",
       "phi}}   0   -\\omega_{nm}   -2⋅\\omega_{nm}⋅\\zeta_{nm}⎦                         \n",
       "\n",
       "       ⎤, B_\\dot{\\phi} = ⎡ 0    0                    0                  ⎤, u_\\\n",
       "       ⎥                 ⎢                                              ⎥     \n",
       "       ⎥                 ⎢ 0    0                    0                  ⎥     \n",
       "       ⎥                 ⎢                                              ⎥     \n",
       "\\phi}  ⎥                 ⎢b₂₀  b₂₂                   0                  ⎥     \n",
       "       ⎥                 ⎢                                              ⎥     \n",
       "delta} ⎥                 ⎢b₃₀  b₃₂                   0                  ⎥     \n",
       "       ⎥                 ⎢                                              ⎥     \n",
       "elta   ⎥                 ⎢ 0    0                    0                  ⎥     \n",
       "       ⎥                 ⎢                                              ⎥     \n",
       "_\\delta⎦                 ⎢                     2                        ⎥     \n",
       "                         ⎣ 0    0   \\omega_{nm} ⋅k_\\delta⋅k_{\\dot{\\phi}}⎦     \n",
       "\n",
       "dot{\\phi} = ⎡   T_\\phi   ⎤⎤\n",
       "            ⎢            ⎥⎥\n",
       "            ⎢    F_B     ⎥⎥\n",
       "            ⎢            ⎥⎥\n",
       "            ⎣\\dot{\\phi}_c⎦⎥\n",
       "                          ⎥\n",
       "                          ⎥\n",
       "                          ⎥\n",
       "                          ⎥\n",
       "                          ⎥\n",
       "                          ⎥\n",
       "                          ⎦"
      ]
     },
     "execution_count": 7,
     "metadata": {},
     "output_type": "execute_result"
    }
   ],
   "source": [
    "[Eq(MatrixSymbol('{}_\\dot{{\\phi}}'.format(v), *c_phidot[v].shape), c_phidot[v]) for v in ['A', 'x', 'B', 'u']]"
   ]
  },
  {
   "cell_type": "markdown",
   "metadata": {},
   "source": [
    "# Characteristic Equation\n",
    "\n",
    "The characteristic equations for each closed loop can be formed for this closed loop system and converted to a polynomial."
   ]
  },
  {
   "cell_type": "code",
   "execution_count": 8,
   "metadata": {
    "collapsed": true
   },
   "outputs": [],
   "source": [
    "s = Symbol('s')"
   ]
  },
  {
   "cell_type": "code",
   "execution_count": 9,
   "metadata": {
    "collapsed": false
   },
   "outputs": [],
   "source": [
    "char_eq_delta = det(c_delta['A'] - s * eye(c_delta['A'].shape[0])).as_poly(s)"
   ]
  },
  {
   "cell_type": "code",
   "execution_count": 10,
   "metadata": {
    "collapsed": false
   },
   "outputs": [],
   "source": [
    "char_eq_phidot = det(c_phidot['A'] - s * eye(c_phidot['A'].shape[0])).as_poly(s)"
   ]
  },
  {
   "cell_type": "markdown",
   "metadata": {},
   "source": [
    "The coeffcients of the sixth order polynomials for each characteristic equation are:"
   ]
  },
  {
   "cell_type": "code",
   "execution_count": 11,
   "metadata": {
    "collapsed": false,
    "scrolled": true
   },
   "outputs": [
    {
     "data": {
      "text/latex": [
       "$$s^6: 1$$"
      ],
      "text/plain": [
       "<IPython.core.display.Math object>"
      ]
     },
     "metadata": {},
     "output_type": "display_data"
    },
    {
     "data": {
      "text/latex": [
       "$$s^5: 2 \\omega_{nm} \\zeta_{nm} - a_{22} - a_{33}$$"
      ],
      "text/plain": [
       "<IPython.core.display.Math object>"
      ]
     },
     "metadata": {},
     "output_type": "display_data"
    },
    {
     "data": {
      "text/latex": [
       "$$s^4: \\omega_{nm}^{2} - 2 \\omega_{nm} \\zeta_{nm} a_{22} - 2 \\omega_{nm} \\zeta_{nm} a_{33} - a_{20} + a_{22} a_{33} - a_{23} a_{32} - a_{31}$$"
      ],
      "text/plain": [
       "<IPython.core.display.Math object>"
      ]
     },
     "metadata": {},
     "output_type": "display_data"
    },
    {
     "data": {
      "text/latex": [
       "$$s^3: - \\omega_{nm}^{2} a_{22} - \\omega_{nm}^{2} a_{33} - 2 \\omega_{nm} \\zeta_{nm} a_{20} + 2 \\omega_{nm} \\zeta_{nm} a_{22} a_{33} - 2 \\omega_{nm} \\zeta_{nm} a_{23} a_{32} - 2 \\omega_{nm} \\zeta_{nm} a_{31} + a_{20} a_{33} - a_{21} a_{32} + a_{22} a_{31} - a_{23} a_{30}$$"
      ],
      "text/plain": [
       "<IPython.core.display.Math object>"
      ]
     },
     "metadata": {},
     "output_type": "display_data"
    },
    {
     "data": {
      "text/latex": [
       "$$s^2: - \\omega_{nm}^{2} a_{20} + \\omega_{nm}^{2} a_{22} a_{33} - \\omega_{nm}^{2} a_{23} a_{32} - \\omega_{nm}^{2} a_{31} + \\omega_{nm}^{2} b_{31} k_\\delta + 2 \\omega_{nm} \\zeta_{nm} a_{20} a_{33} - 2 \\omega_{nm} \\zeta_{nm} a_{21} a_{32} + 2 \\omega_{nm} \\zeta_{nm} a_{22} a_{31} - 2 \\omega_{nm} \\zeta_{nm} a_{23} a_{30} + a_{20} a_{31} - a_{21} a_{30}$$"
      ],
      "text/plain": [
       "<IPython.core.display.Math object>"
      ]
     },
     "metadata": {},
     "output_type": "display_data"
    },
    {
     "data": {
      "text/latex": [
       "$$s^1: \\omega_{nm} \\left(\\omega_{nm} a_{20} a_{33} - \\omega_{nm} a_{21} a_{32} + \\omega_{nm} a_{22} a_{31} - \\omega_{nm} a_{22} b_{31} k_\\delta - \\omega_{nm} a_{23} a_{30} + \\omega_{nm} a_{32} b_{21} k_\\delta + 2 \\zeta_{nm} a_{20} a_{31} - 2 \\zeta_{nm} a_{21} a_{30}\\right)$$"
      ],
      "text/plain": [
       "<IPython.core.display.Math object>"
      ]
     },
     "metadata": {},
     "output_type": "display_data"
    },
    {
     "data": {
      "text/latex": [
       "$$s^0: \\omega_{nm}^{2} \\left(a_{20} a_{31} - a_{20} b_{31} k_\\delta - a_{21} a_{30} + a_{30} b_{21} k_\\delta\\right)$$"
      ],
      "text/plain": [
       "<IPython.core.display.Math object>"
      ]
     },
     "metadata": {},
     "output_type": "display_data"
    }
   ],
   "source": [
    "for i, coeff in enumerate(char_eq_delta.coeffs()):\n",
    "    display(Math(r'$s^{}: {}$'.format(len(char_eq_delta.coeffs()) - i - 1, latex(simplify(coeff)))))"
   ]
  },
  {
   "cell_type": "code",
   "execution_count": 12,
   "metadata": {
    "collapsed": false,
    "scrolled": true
   },
   "outputs": [
    {
     "data": {
      "text/latex": [
       "$$s^6: 1$$"
      ],
      "text/plain": [
       "<IPython.core.display.Math object>"
      ]
     },
     "metadata": {},
     "output_type": "display_data"
    },
    {
     "data": {
      "text/latex": [
       "$$s^5: 2 \\omega_{nm} \\zeta_{nm} - a_{22} - a_{33}$$"
      ],
      "text/plain": [
       "<IPython.core.display.Math object>"
      ]
     },
     "metadata": {},
     "output_type": "display_data"
    },
    {
     "data": {
      "text/latex": [
       "$$s^4: \\omega_{nm}^{2} - 2 \\omega_{nm} \\zeta_{nm} a_{22} - 2 \\omega_{nm} \\zeta_{nm} a_{33} - a_{20} + a_{22} a_{33} - a_{23} a_{32} - a_{31}$$"
      ],
      "text/plain": [
       "<IPython.core.display.Math object>"
      ]
     },
     "metadata": {},
     "output_type": "display_data"
    },
    {
     "data": {
      "text/latex": [
       "$$s^3: - \\omega_{nm}^{2} a_{22} - \\omega_{nm}^{2} a_{33} + \\omega_{nm}^{2} b_{21} k_\\delta k_{\\dot{\\phi}} - 2 \\omega_{nm} \\zeta_{nm} a_{20} + 2 \\omega_{nm} \\zeta_{nm} a_{22} a_{33} - 2 \\omega_{nm} \\zeta_{nm} a_{23} a_{32} - 2 \\omega_{nm} \\zeta_{nm} a_{31} + a_{20} a_{33} - a_{21} a_{32} + a_{22} a_{31} - a_{23} a_{30}$$"
      ],
      "text/plain": [
       "<IPython.core.display.Math object>"
      ]
     },
     "metadata": {},
     "output_type": "display_data"
    },
    {
     "data": {
      "text/latex": [
       "$$s^2: - \\omega_{nm}^{2} a_{20} + \\omega_{nm}^{2} a_{22} a_{33} - \\omega_{nm}^{2} a_{23} a_{32} + \\omega_{nm}^{2} a_{23} b_{31} k_\\delta k_{\\dot{\\phi}} - \\omega_{nm}^{2} a_{31} - \\omega_{nm}^{2} a_{33} b_{21} k_\\delta k_{\\dot{\\phi}} + \\omega_{nm}^{2} b_{31} k_\\delta + 2 \\omega_{nm} \\zeta_{nm} a_{20} a_{33} - 2 \\omega_{nm} \\zeta_{nm} a_{21} a_{32} + 2 \\omega_{nm} \\zeta_{nm} a_{22} a_{31} - 2 \\omega_{nm} \\zeta_{nm} a_{23} a_{30} + a_{20} a_{31} - a_{21} a_{30}$$"
      ],
      "text/plain": [
       "<IPython.core.display.Math object>"
      ]
     },
     "metadata": {},
     "output_type": "display_data"
    },
    {
     "data": {
      "text/latex": [
       "$$s^1: \\omega_{nm} \\left(\\omega_{nm} a_{20} a_{33} - \\omega_{nm} a_{21} a_{32} + \\omega_{nm} a_{21} b_{31} k_\\delta k_{\\dot{\\phi}} + \\omega_{nm} a_{22} a_{31} - \\omega_{nm} a_{22} b_{31} k_\\delta - \\omega_{nm} a_{23} a_{30} - \\omega_{nm} a_{31} b_{21} k_\\delta k_{\\dot{\\phi}} + \\omega_{nm} a_{32} b_{21} k_\\delta + 2 \\zeta_{nm} a_{20} a_{31} - 2 \\zeta_{nm} a_{21} a_{30}\\right)$$"
      ],
      "text/plain": [
       "<IPython.core.display.Math object>"
      ]
     },
     "metadata": {},
     "output_type": "display_data"
    },
    {
     "data": {
      "text/latex": [
       "$$s^0: \\omega_{nm}^{2} \\left(a_{20} a_{31} - a_{20} b_{31} k_\\delta - a_{21} a_{30} + a_{30} b_{21} k_\\delta\\right)$$"
      ],
      "text/plain": [
       "<IPython.core.display.Math object>"
      ]
     },
     "metadata": {},
     "output_type": "display_data"
    }
   ],
   "source": [
    "for i, coeff in enumerate(char_eq_phidot.coeffs()):\n",
    "    display(Math(r'$s^{}: {}$'.format(len(char_eq_phidot.coeffs()) - i - 1, latex(simplify(coeff)))))"
   ]
  },
  {
   "cell_type": "markdown",
   "metadata": {},
   "source": [
    "# Solve for the gains\n",
    "\n",
    "There are two control gains, $k_\\delta$ and $k_{\\dot{\\phi}}$, that are the primary unknowns. We'd like to find the value of the two gains such that the weave poles translate desired locations in the imaginary plane through the first two loop closures. The constraint that we will impose is that these poles should have a specified damping ratio for each of the closed loops, $\\zeta_\\delta, \\zeta_\\dot{\\phi}$. In the process of solving for the gains, we will also solve for the natural frequency of the closed loop poles in each loop, $\\omega_\\delta, \\omega_\\dot{\\phi}$."
   ]
  },
  {
   "cell_type": "code",
   "execution_count": 13,
   "metadata": {
    "collapsed": false
   },
   "outputs": [],
   "source": [
    "omega_delta, zeta_delta = symbols('\\omega_\\delta, \\zeta_\\delta', real=True, positive=True)\n",
    "omega_phidot, zeta_phidot = symbols('\\omega_\\dot{\\phi}, \\zeta_\\dot{\\phi}', real=True, positive=True)"
   ]
  },
  {
   "cell_type": "markdown",
   "metadata": {},
   "source": [
    "In each of the closed looped systems we should find the pairs of poles that fit the following description: "
   ]
  },
  {
   "cell_type": "code",
   "execution_count": 14,
   "metadata": {
    "collapsed": false
   },
   "outputs": [
    {
     "data": {
      "image/png": "[encoded data removed]",
      "text/latex": [
       "$$\\operatorname{Poly}{\\left( \\omega_\\delta^{2} + 2 \\omega_\\delta \\zeta_\\delta s + s^{2}, s, domain=\\mathbb{Z}\\left[\\omega_\\delta, \\zeta_\\delta\\right] \\right)}$$"
      ],
      "text/plain": [
       "Poly(s**2 + 2*\\omega_\\delta*\\zeta_\\delta*s + \\omega_\\delta**2, s, domain='ZZ[\\\n",
       "omega_\\delta,\\zeta_\\delta]')"
      ]
     },
     "execution_count": 14,
     "metadata": {},
     "output_type": "execute_result"
    }
   ],
   "source": [
    "desired_second_order_delta = Poly((s**2 + 2 * zeta_delta * omega_delta * s + omega_delta**2), s)\n",
    "desired_second_order_delta"
   ]
  },
  {
   "cell_type": "code",
   "execution_count": 15,
   "metadata": {
    "collapsed": false
   },
   "outputs": [
    {
     "data": {
      "image/png": "[encoded data removed]",
      "text/latex": [
       "$$\\operatorname{Poly}{\\left( \\omega_\\dot{\\phi}^{2} + 2 \\omega_\\dot{\\phi} \\zeta_\\dot{\\phi} s + s^{2}, s, domain=\\mathbb{Z}\\left[\\omega_\\dot{\\phi}, \\zeta_\\dot{\\phi}\\right] \\right)}$$"
      ],
      "text/plain": [
       "Poly(s**2 + 2*\\omega_\\dot{\\phi}*\\zeta_\\dot{\\phi}*s + \\omega_\\dot{\\phi}**2, s, \n",
       "domain='ZZ[\\omega_\\dot{\\phi},\\zeta_\\dot{\\phi}]')"
      ]
     },
     "execution_count": 15,
     "metadata": {},
     "output_type": "execute_result"
    }
   ],
   "source": [
    "desired_second_order_phidot = Poly((s**2 + 2 * zeta_phidot * omega_phidot * s + omega_phidot**2), s)\n",
    "desired_second_order_phidot"
   ]
  },
  {
   "cell_type": "markdown",
   "metadata": {},
   "source": [
    "This pair of poles must be accompanied by four more poles to equate to the sixth order system described in the closed loop systems defined above. The desired sixth order systems with eight additional arbitrary coefficients are then:"
   ]
  },
  {
   "cell_type": "code",
   "execution_count": 16,
   "metadata": {
    "collapsed": false
   },
   "outputs": [
    {
     "data": {
      "image/png": "[encoded data removed]",
      "text/latex": [
       "$$\\operatorname{Poly}{\\left( \\omega_\\delta^{2} c_{0} + s^{6} + s^{5} \\left(2 \\omega_\\delta \\zeta_\\delta + c_{3}\\right) + s^{4} \\left(\\omega_\\delta^{2} + 2 \\omega_\\delta \\zeta_\\delta c_{3} + c_{2}\\right) + s^{3} \\left(\\omega_\\delta^{2} c_{3} + 2 \\omega_\\delta \\zeta_\\delta c_{2} + c_{1}\\right) + s^{2} \\left(\\omega_\\delta^{2} c_{2} + 2 \\omega_\\delta \\zeta_\\delta c_{1} + c_{0}\\right) + s \\left(\\omega_\\delta^{2} c_{1} + 2 \\omega_\\delta \\zeta_\\delta c_{0}\\right), s, domain=\\mathbb{Z}\\left[c_{0}, c_{1}, c_{2}, c_{3}, \\omega_\\delta, \\zeta_\\delta\\right] \\right)}$$"
      ],
      "text/plain": [
       "Poly(s**6 + (2*\\omega_\\delta*\\zeta_\\delta + c3)*s**5 + (\\omega_\\delta**2 + 2*\\\n",
       "omega_\\delta*\\zeta_\\delta*c3 + c2)*s**4 + (\\omega_\\delta**2*c3 + 2*\\omega_\\del\n",
       "ta*\\zeta_\\delta*c2 + c1)*s**3 + (\\omega_\\delta**2*c2 + 2*\\omega_\\delta*\\zeta_\\\n",
       "delta*c1 + c0)*s**2 + (\\omega_\\delta**2*c1 + 2*\\omega_\\delta*\\zeta_\\delta*c0)*\n",
       "s + \\omega_\\delta**2*c0, s, domain='ZZ[c0,c1,c2,c3,\\omega_\\delta,\\zeta_\\delta]\n",
       "')"
      ]
     },
     "execution_count": 16,
     "metadata": {},
     "output_type": "execute_result"
    }
   ],
   "source": [
    "c0, c1, c2, c3, c4, c5, c6, c7 = symbols('c0, c1, c2, c3, c4, c5, c6, c7')\n",
    "desired_six_order_delta = Poly(s**4 + c3 * s**3 + c2 * s**2 + c1 * s + c0, s) * desired_second_order_delta\n",
    "desired_six_order_delta"
   ]
  },
  {
   "cell_type": "code",
   "execution_count": 17,
   "metadata": {
    "collapsed": false
   },
   "outputs": [
    {
     "data": {
      "image/png": "[encoded data removed]",
      "text/latex": [
       "$$\\operatorname{Poly}{\\left( \\omega_\\dot{\\phi}^{2} c_{7} + s^{6} + s^{5} \\left(2 \\omega_\\dot{\\phi} \\zeta_\\dot{\\phi} + c_{4}\\right) + s^{4} \\left(\\omega_\\dot{\\phi}^{2} + 2 \\omega_\\dot{\\phi} \\zeta_\\dot{\\phi} c_{4} + c_{5}\\right) + s^{3} \\left(\\omega_\\dot{\\phi}^{2} c_{4} + 2 \\omega_\\dot{\\phi} \\zeta_\\dot{\\phi} c_{5} + c_{6}\\right) + s^{2} \\left(\\omega_\\dot{\\phi}^{2} c_{5} + 2 \\omega_\\dot{\\phi} \\zeta_\\dot{\\phi} c_{6} + c_{7}\\right) + s \\left(\\omega_\\dot{\\phi}^{2} c_{6} + 2 \\omega_\\dot{\\phi} \\zeta_\\dot{\\phi} c_{7}\\right), s, domain=\\mathbb{Z}\\left[c_{4}, c_{5}, c_{6}, c_{7}, \\omega_\\dot{\\phi}, \\zeta_\\dot{\\phi}\\right] \\right)}$$"
      ],
      "text/plain": [
       "Poly(s**6 + (2*\\omega_\\dot{\\phi}*\\zeta_\\dot{\\phi} + c4)*s**5 + (\\omega_\\dot{\\p\n",
       "hi}**2 + 2*\\omega_\\dot{\\phi}*\\zeta_\\dot{\\phi}*c4 + c5)*s**4 + (\\omega_\\dot{\\ph\n",
       "i}**2*c4 + 2*\\omega_\\dot{\\phi}*\\zeta_\\dot{\\phi}*c5 + c6)*s**3 + (\\omega_\\dot{\\\n",
       "phi}**2*c5 + 2*\\omega_\\dot{\\phi}*\\zeta_\\dot{\\phi}*c6 + c7)*s**2 + (\\omega_\\dot\n",
       "{\\phi}**2*c6 + 2*\\omega_\\dot{\\phi}*\\zeta_\\dot{\\phi}*c7)*s + \\omega_\\dot{\\phi}*\n",
       "*2*c7, s, domain='ZZ[c4,c5,c6,c7,\\omega_\\dot{\\phi},\\zeta_\\dot{\\phi}]')"
      ]
     },
     "execution_count": 17,
     "metadata": {},
     "output_type": "execute_result"
    }
   ],
   "source": [
    "desired_six_order_phidot = Poly(s**4 + c4 * s**3 + c5 * s**2 + c6 * s + c7, s) * desired_second_order_phidot\n",
    "desired_six_order_phidot"
   ]
  },
  {
   "cell_type": "markdown",
   "metadata": {},
   "source": [
    "The coefficients of the desired polynomial and the one formed from the closed loop system can then be substracted from each other to solve for the unknowns: $c_0, c_1, c_2, c_3, c_4, c_5, c_6, c_7, k_\\delta, k_{\\dot{\\phi}}, \\omega_\\delta, \\omega_\\dot{\\phi}$. This gives 12 nolinear equations in 12 unknowns."
   ]
  },
  {
   "cell_type": "code",
   "execution_count": 18,
   "metadata": {
    "collapsed": false
   },
   "outputs": [],
   "source": [
    "zero_delta = Matrix((char_eq_delta - desired_six_order_delta).coeffs())"
   ]
  },
  {
   "cell_type": "code",
   "execution_count": 19,
   "metadata": {
    "collapsed": false
   },
   "outputs": [],
   "source": [
    "zero_phidot = Matrix((char_eq_phidot - desired_six_order_phidot).coeffs())"
   ]
  },
  {
   "cell_type": "code",
   "execution_count": 20,
   "metadata": {
    "collapsed": false
   },
   "outputs": [
    {
     "data": {
      "text/latex": [
       "$$\\left[\\begin{matrix}- 2 \\omega_\\delta \\zeta_\\delta + 2 \\omega_{nm} \\zeta_{nm} - a_{22} - a_{33} - c_{3}\\\\- \\omega_\\delta^{2} - 2 \\omega_\\delta \\zeta_\\delta c_{3} + \\omega_{nm}^{2} - 2 \\omega_{nm} \\zeta_{nm} a_{22} - 2 \\omega_{nm} \\zeta_{nm} a_{33} - a_{20} + a_{22} a_{33} - a_{23} a_{32} - a_{31} - c_{2}\\\\- \\omega_\\delta^{2} c_{3} - 2 \\omega_\\delta \\zeta_\\delta c_{2} - \\omega_{nm}^{2} a_{22} - \\omega_{nm}^{2} a_{33} - 2 \\omega_{nm} \\zeta_{nm} a_{20} + 2 \\omega_{nm} \\zeta_{nm} a_{22} a_{33} - 2 \\omega_{nm} \\zeta_{nm} a_{23} a_{32} - 2 \\omega_{nm} \\zeta_{nm} a_{31} + a_{20} a_{33} - a_{21} a_{32} + a_{22} a_{31} - a_{23} a_{30} - c_{1}\\\\- \\omega_\\delta^{2} c_{2} - 2 \\omega_\\delta \\zeta_\\delta c_{1} - \\omega_{nm}^{2} a_{20} + \\omega_{nm}^{2} a_{22} a_{33} - \\omega_{nm}^{2} a_{23} a_{32} - \\omega_{nm}^{2} a_{31} + \\omega_{nm}^{2} b_{31} k_\\delta + 2 \\omega_{nm} \\zeta_{nm} a_{20} a_{33} - 2 \\omega_{nm} \\zeta_{nm} a_{21} a_{32} + 2 \\omega_{nm} \\zeta_{nm} a_{22} a_{31} - 2 \\omega_{nm} \\zeta_{nm} a_{23} a_{30} + a_{20} a_{31} - a_{21} a_{30} - c_{0}\\\\- \\omega_\\delta^{2} c_{1} - 2 \\omega_\\delta \\zeta_\\delta c_{0} + \\omega_{nm}^{2} a_{20} a_{33} - \\omega_{nm}^{2} a_{21} a_{32} + \\omega_{nm}^{2} a_{22} a_{31} - \\omega_{nm}^{2} a_{22} b_{31} k_\\delta - \\omega_{nm}^{2} a_{23} a_{30} + \\omega_{nm}^{2} a_{32} b_{21} k_\\delta + 2 \\omega_{nm} \\zeta_{nm} a_{20} a_{31} - 2 \\omega_{nm} \\zeta_{nm} a_{21} a_{30}\\\\- \\omega_\\delta^{2} c_{0} + \\omega_{nm}^{2} a_{20} a_{31} - \\omega_{nm}^{2} a_{20} b_{31} k_\\delta - \\omega_{nm}^{2} a_{21} a_{30} + \\omega_{nm}^{2} a_{30} b_{21} k_\\delta\\\\- 2 \\omega_\\dot{\\phi} \\zeta_\\dot{\\phi} + 2 \\omega_{nm} \\zeta_{nm} - a_{22} - a_{33} - c_{4}\\\\- \\omega_\\dot{\\phi}^{2} - 2 \\omega_\\dot{\\phi} \\zeta_\\dot{\\phi} c_{4} + \\omega_{nm}^{2} - 2 \\omega_{nm} \\zeta_{nm} a_{22} - 2 \\omega_{nm} \\zeta_{nm} a_{33} - a_{20} + a_{22} a_{33} - a_{23} a_{32} - a_{31} - c_{5}\\\\- \\omega_\\dot{\\phi}^{2} c_{4} - 2 \\omega_\\dot{\\phi} \\zeta_\\dot{\\phi} c_{5} - \\omega_{nm}^{2} a_{22} - \\omega_{nm}^{2} a_{33} + \\omega_{nm}^{2} b_{21} k_\\delta k_{\\dot{\\phi}} - 2 \\omega_{nm} \\zeta_{nm} a_{20} + 2 \\omega_{nm} \\zeta_{nm} a_{22} a_{33} - 2 \\omega_{nm} \\zeta_{nm} a_{23} a_{32} - 2 \\omega_{nm} \\zeta_{nm} a_{31} + a_{20} a_{33} - a_{21} a_{32} + a_{22} a_{31} - a_{23} a_{30} - c_{6}\\\\- \\omega_\\dot{\\phi}^{2} c_{5} - 2 \\omega_\\dot{\\phi} \\zeta_\\dot{\\phi} c_{6} - \\omega_{nm}^{2} a_{20} + \\omega_{nm}^{2} a_{22} a_{33} - \\omega_{nm}^{2} a_{23} a_{32} + \\omega_{nm}^{2} a_{23} b_{31} k_\\delta k_{\\dot{\\phi}} - \\omega_{nm}^{2} a_{31} - \\omega_{nm}^{2} a_{33} b_{21} k_\\delta k_{\\dot{\\phi}} + \\omega_{nm}^{2} b_{31} k_\\delta + 2 \\omega_{nm} \\zeta_{nm} a_{20} a_{33} - 2 \\omega_{nm} \\zeta_{nm} a_{21} a_{32} + 2 \\omega_{nm} \\zeta_{nm} a_{22} a_{31} - 2 \\omega_{nm} \\zeta_{nm} a_{23} a_{30} + a_{20} a_{31} - a_{21} a_{30} - c_{7}\\\\- \\omega_\\dot{\\phi}^{2} c_{6} - 2 \\omega_\\dot{\\phi} \\zeta_\\dot{\\phi} c_{7} + \\omega_{nm}^{2} a_{20} a_{33} - \\omega_{nm}^{2} a_{21} a_{32} + \\omega_{nm}^{2} a_{21} b_{31} k_\\delta k_{\\dot{\\phi}} + \\omega_{nm}^{2} a_{22} a_{31} - \\omega_{nm}^{2} a_{22} b_{31} k_\\delta - \\omega_{nm}^{2} a_{23} a_{30} - \\omega_{nm}^{2} a_{31} b_{21} k_\\delta k_{\\dot{\\phi}} + \\omega_{nm}^{2} a_{32} b_{21} k_\\delta + 2 \\omega_{nm} \\zeta_{nm} a_{20} a_{31} - 2 \\omega_{nm} \\zeta_{nm} a_{21} a_{30}\\\\- \\omega_\\dot{\\phi}^{2} c_{7} + \\omega_{nm}^{2} a_{20} a_{31} - \\omega_{nm}^{2} a_{20} b_{31} k_\\delta - \\omega_{nm}^{2} a_{21} a_{30} + \\omega_{nm}^{2} a_{30} b_{21} k_\\delta\\end{matrix}\\right]$$"
      ],
      "text/plain": [
       "⎡                                                                             \n",
       "⎢                                                                             \n",
       "⎢                                                                             \n",
       "⎢                                                                             \n",
       "⎢                                                                             \n",
       "⎢                                                                             \n",
       "⎢                                                                             \n",
       "⎢                                                                             \n",
       "⎢                                                                    2        \n",
       "⎢                                                     - \\omega_\\delta ⋅c₂ - 2⋅\n",
       "⎢                                                                             \n",
       "⎢                                                                             \n",
       "⎢                                                                             \n",
       "⎢                                                                             \n",
       "⎢                                                                             \n",
       "⎢                                                                             \n",
       "⎢                                                                             \n",
       "⎢                                                                             \n",
       "⎢                                                                             \n",
       "⎢                                                                             \n",
       "⎢                                                                             \n",
       "⎢                                                                             \n",
       "⎢                                                                           2 \n",
       "⎢                                                        - \\omega_\\dot{\\phi} ⋅\n",
       "⎢                                                                             \n",
       "⎢                   2                                                         \n",
       "⎢- \\omega_\\dot{\\phi} ⋅c₅ - 2⋅\\omega_\\dot{\\phi}⋅\\zeta_\\dot{\\phi}⋅c₆ - \\omega_{n\n",
       "⎢                                                                             \n",
       "⎢                                            2                                \n",
       "⎢                         - \\omega_\\dot{\\phi} ⋅c₆ - 2⋅\\omega_\\dot{\\phi}⋅\\zeta_\n",
       "⎢                                                                             \n",
       "⎢                                                                             \n",
       "⎣                                                                             \n",
       "\n",
       "                                                                              \n",
       "                                                                              \n",
       "                                                                          2   \n",
       "                                                           - \\omega_\\delta  - \n",
       "                                                                              \n",
       "                      2                                                   2   \n",
       "       - \\omega_\\delta ⋅c₃ - 2⋅\\omega_\\delta⋅\\zeta_\\delta⋅c₂ - \\omega_{nm} ⋅a₂\n",
       "                                                                              \n",
       "                                           2                  2               \n",
       "\\omega_\\delta⋅\\zeta_\\delta⋅c₁ - \\omega_{nm} ⋅a₂₀ + \\omega_{nm} ⋅a₂₂⋅a₃₃ - \\ome\n",
       "                                                                              \n",
       "                2                                                   2         \n",
       " - \\omega_\\delta ⋅c₁ - 2⋅\\omega_\\delta⋅\\zeta_\\delta⋅c₀ + \\omega_{nm} ⋅a₂₀⋅a₃₃ \n",
       "                                                                              \n",
       "                                                                              \n",
       "                                                                            - \n",
       "                                                                              \n",
       "                                                                              \n",
       "                                                                              \n",
       "                                                                        2     \n",
       "                                                     - \\omega_\\dot{\\phi}  - 2⋅\n",
       "                                                                              \n",
       "                                                          2                  2\n",
       "c₄ - 2⋅\\omega_\\dot{\\phi}⋅\\zeta_\\dot{\\phi}⋅c₅ - \\omega_{nm} ⋅a₂₂ - \\omega_{nm} \n",
       "                                                                              \n",
       "  2                  2                      2                      2          \n",
       "m} ⋅a₂₀ + \\omega_{nm} ⋅a₂₂⋅a₃₃ - \\omega_{nm} ⋅a₂₃⋅a₃₂ + \\omega_{nm} ⋅a₂₃⋅b₃₁⋅k\n",
       "                                                                              \n",
       "                           2                      2                      2    \n",
       "\\dot{\\phi}⋅c₇ + \\omega_{nm} ⋅a₂₀⋅a₃₃ - \\omega_{nm} ⋅a₂₁⋅a₃₂ + \\omega_{nm} ⋅a₂₁\n",
       "                                                                              \n",
       "                                                                              \n",
       "                                                                          - \\o\n",
       "\n",
       "                          -2⋅\\omega_\\delta⋅\\zeta_\\delta + 2⋅\\omega_{nm}⋅\\zeta_\n",
       "                                                                              \n",
       "                                             2                                \n",
       "2⋅\\omega_\\delta⋅\\zeta_\\delta⋅c₃ + \\omega_{nm}  - 2⋅\\omega_{nm}⋅\\zeta_{nm}⋅a₂₂ \n",
       "                                                                              \n",
       "               2                                                              \n",
       "₂ - \\omega_{nm} ⋅a₃₃ - 2⋅\\omega_{nm}⋅\\zeta_{nm}⋅a₂₀ + 2⋅\\omega_{nm}⋅\\zeta_{nm}\n",
       "                                                                              \n",
       "       2                      2                  2                            \n",
       "ga_{nm} ⋅a₂₃⋅a₃₂ - \\omega_{nm} ⋅a₃₁ + \\omega_{nm} ⋅b₃₁⋅k_\\delta + 2⋅\\omega_{nm\n",
       "                                                                              \n",
       "             2                      2                      2                  \n",
       "- \\omega_{nm} ⋅a₂₁⋅a₃₂ + \\omega_{nm} ⋅a₂₂⋅a₃₁ - \\omega_{nm} ⋅a₂₂⋅b₃₁⋅k_\\delta \n",
       "                                                                              \n",
       "             2                 2                      2                       \n",
       "\\omega_\\delta ⋅c₀ + \\omega_{nm} ⋅a₂₀⋅a₃₁ - \\omega_{nm} ⋅a₂₀⋅b₃₁⋅k_\\delta - \\om\n",
       "                                                                              \n",
       "                      -2⋅\\omega_\\dot{\\phi}⋅\\zeta_\\dot{\\phi} + 2⋅\\omega_{nm}⋅\\z\n",
       "                                                                              \n",
       "                                                   2                          \n",
       "\\omega_\\dot{\\phi}⋅\\zeta_\\dot{\\phi}⋅c₄ + \\omega_{nm}  - 2⋅\\omega_{nm}⋅\\zeta_{nm\n",
       "                                                                              \n",
       "                  2                                                           \n",
       "⋅a₃₃ + \\omega_{nm} ⋅b₂₁⋅k_\\delta⋅k_{\\dot{\\phi}} - 2⋅\\omega_{nm}⋅\\zeta_{nm}⋅a₂₀\n",
       "                                                                              \n",
       "                                    2                  2                      \n",
       "_\\delta⋅k_{\\dot{\\phi}} - \\omega_{nm} ⋅a₃₁ - \\omega_{nm} ⋅a₃₃⋅b₂₁⋅k_\\delta⋅k_{\\\n",
       "                                                                              \n",
       "                                          2                      2            \n",
       "⋅b₃₁⋅k_\\delta⋅k_{\\dot{\\phi}} + \\omega_{nm} ⋅a₂₂⋅a₃₁ - \\omega_{nm} ⋅a₂₂⋅b₃₁⋅k_\\\n",
       "                                                                              \n",
       "               2                 2                      2                     \n",
       "mega_\\dot{\\phi} ⋅c₇ + \\omega_{nm} ⋅a₂₀⋅a₃₁ - \\omega_{nm} ⋅a₂₀⋅b₃₁⋅k_\\delta - \\\n",
       "\n",
       "{nm} - a₂₂ - a₃₃ - c₃                                                         \n",
       "                                                                              \n",
       "                                                                              \n",
       "- 2⋅\\omega_{nm}⋅\\zeta_{nm}⋅a₃₃ - a₂₀ + a₂₂⋅a₃₃ - a₂₃⋅a₃₂ - a₃₁ - c₂           \n",
       "                                                                              \n",
       "                                                                              \n",
       "⋅a₂₂⋅a₃₃ - 2⋅\\omega_{nm}⋅\\zeta_{nm}⋅a₂₃⋅a₃₂ - 2⋅\\omega_{nm}⋅\\zeta_{nm}⋅a₃₁ + a\n",
       "                                                                              \n",
       "                                                                              \n",
       "}⋅\\zeta_{nm}⋅a₂₀⋅a₃₃ - 2⋅\\omega_{nm}⋅\\zeta_{nm}⋅a₂₁⋅a₃₂ + 2⋅\\omega_{nm}⋅\\zeta_\n",
       "                                                                              \n",
       "             2                      2                                         \n",
       "- \\omega_{nm} ⋅a₂₃⋅a₃₀ + \\omega_{nm} ⋅a₃₂⋅b₂₁⋅k_\\delta + 2⋅\\omega_{nm}⋅\\zeta_{\n",
       "                                                                              \n",
       "        2                      2                                              \n",
       "ega_{nm} ⋅a₂₁⋅a₃₀ + \\omega_{nm} ⋅a₃₀⋅b₂₁⋅k_\\delta                             \n",
       "                                                                              \n",
       "eta_{nm} - a₂₂ - a₃₃ - c₄                                                     \n",
       "                                                                              \n",
       "                                                                              \n",
       "}⋅a₂₂ - 2⋅\\omega_{nm}⋅\\zeta_{nm}⋅a₃₃ - a₂₀ + a₂₂⋅a₃₃ - a₂₃⋅a₃₂ - a₃₁ - c₅     \n",
       "                                                                              \n",
       "                                                                              \n",
       " + 2⋅\\omega_{nm}⋅\\zeta_{nm}⋅a₂₂⋅a₃₃ - 2⋅\\omega_{nm}⋅\\zeta_{nm}⋅a₂₃⋅a₃₂ - 2⋅\\om\n",
       "                                                                              \n",
       "                        2                                                     \n",
       "dot{\\phi}} + \\omega_{nm} ⋅b₃₁⋅k_\\delta + 2⋅\\omega_{nm}⋅\\zeta_{nm}⋅a₂₀⋅a₃₃ - 2⋅\n",
       "                                                                              \n",
       "                   2                      2                                   \n",
       "delta - \\omega_{nm} ⋅a₂₃⋅a₃₀ - \\omega_{nm} ⋅a₃₁⋅b₂₁⋅k_\\delta⋅k_{\\dot{\\phi}} + \n",
       "                                                                              \n",
       "          2                      2                                            \n",
       "omega_{nm} ⋅a₂₁⋅a₃₀ + \\omega_{nm} ⋅a₃₀⋅b₂₁⋅k_\\delta                           \n",
       "\n",
       "                                                                              \n",
       "                                                                              \n",
       "                                                                              \n",
       "                                                                              \n",
       "                                                                              \n",
       "                                                                              \n",
       "₂₀⋅a₃₃ - a₂₁⋅a₃₂ + a₂₂⋅a₃₁ - a₂₃⋅a₃₀ - c₁                                     \n",
       "                                                                              \n",
       "                                                                              \n",
       "{nm}⋅a₂₂⋅a₃₁ - 2⋅\\omega_{nm}⋅\\zeta_{nm}⋅a₂₃⋅a₃₀ + a₂₀⋅a₃₁ - a₂₁⋅a₃₀ - c₀      \n",
       "                                                                              \n",
       "                                                                              \n",
       "nm}⋅a₂₀⋅a₃₁ - 2⋅\\omega_{nm}⋅\\zeta_{nm}⋅a₂₁⋅a₃₀                                \n",
       "                                                                              \n",
       "                                                                              \n",
       "                                                                              \n",
       "                                                                              \n",
       "                                                                              \n",
       "                                                                              \n",
       "                                                                              \n",
       "                                                                              \n",
       "                                                                              \n",
       "                                                                              \n",
       "ega_{nm}⋅\\zeta_{nm}⋅a₃₁ + a₂₀⋅a₃₃ - a₂₁⋅a₃₂ + a₂₂⋅a₃₁ - a₂₃⋅a₃₀ - c₆          \n",
       "                                                                              \n",
       "                                                                              \n",
       "\\omega_{nm}⋅\\zeta_{nm}⋅a₂₁⋅a₃₂ + 2⋅\\omega_{nm}⋅\\zeta_{nm}⋅a₂₂⋅a₃₁ - 2⋅\\omega_{\n",
       "                                                                              \n",
       "           2                                                                  \n",
       "\\omega_{nm} ⋅a₃₂⋅b₂₁⋅k_\\delta + 2⋅\\omega_{nm}⋅\\zeta_{nm}⋅a₂₀⋅a₃₁ - 2⋅\\omega_{n\n",
       "                                                                              \n",
       "                                                                              \n",
       "                                                                              \n",
       "\n",
       "                                               ⎤\n",
       "                                               ⎥\n",
       "                                               ⎥\n",
       "                                               ⎥\n",
       "                                               ⎥\n",
       "                                               ⎥\n",
       "                                               ⎥\n",
       "                                               ⎥\n",
       "                                               ⎥\n",
       "                                               ⎥\n",
       "                                               ⎥\n",
       "                                               ⎥\n",
       "                                               ⎥\n",
       "                                               ⎥\n",
       "                                               ⎥\n",
       "                                               ⎥\n",
       "                                               ⎥\n",
       "                                               ⎥\n",
       "                                               ⎥\n",
       "                                               ⎥\n",
       "                                               ⎥\n",
       "                                               ⎥\n",
       "                                               ⎥\n",
       "                                               ⎥\n",
       "                                               ⎥\n",
       "                                               ⎥\n",
       "nm}⋅\\zeta_{nm}⋅a₂₃⋅a₃₀ + a₂₀⋅a₃₁ - a₂₁⋅a₃₀ - c₇⎥\n",
       "                                               ⎥\n",
       "                                               ⎥\n",
       "m}⋅\\zeta_{nm}⋅a₂₁⋅a₃₀                          ⎥\n",
       "                                               ⎥\n",
       "                                               ⎥\n",
       "                                               ⎦"
      ]
     },
     "execution_count": 20,
     "metadata": {},
     "output_type": "execute_result"
    }
   ],
   "source": [
    "zero_all = zero_delta.col_join(zero_phidot)\n",
    "zero_all"
   ]
  },
  {
   "cell_type": "markdown",
   "metadata": {},
   "source": [
    "The following loads in the numerical parameters for the benchmark bicycle traveling at 5 m/s, for futher use."
   ]
  },
  {
   "cell_type": "code",
   "execution_count": 21,
   "metadata": {
    "collapsed": false
   },
   "outputs": [],
   "source": [
    "A_benchmark, B_benchmark = bicycle.benchmark_state_space(*bicycle.benchmark_matrices(), 5.0, 9.81)"
   ]
  },
  {
   "cell_type": "code",
   "execution_count": 22,
   "metadata": {
    "collapsed": false
   },
   "outputs": [
    {
     "data": {
      "text/plain": [
       "(array([[  0.        ,   0.        ,   1.        ,   0.        ],\n",
       "        [  0.        ,   0.        ,   0.        ,   1.        ],\n",
       "        [  9.48977445, -22.85146663,  -0.52761225,  -1.65257699],\n",
       "        [ 11.71947687, -18.38412373,  18.38402617, -15.42432764]]),\n",
       " array([[ 0.        ,  0.        ],\n",
       "        [ 0.        ,  0.        ],\n",
       "        [ 0.01593498, -0.12409203],\n",
       "        [-0.12409203,  4.32384018]]))"
      ]
     },
     "execution_count": 22,
     "metadata": {},
     "output_type": "execute_result"
    }
   ],
   "source": [
    "A_benchmark, B_benchmark"
   ]
  },
  {
   "cell_type": "markdown",
   "metadata": {},
   "source": [
    "Create a dictionary of the known parameters that can be used to substitute the numerical values for the benchmark bicycle."
   ]
  },
  {
   "cell_type": "code",
   "execution_count": 23,
   "metadata": {
    "collapsed": false
   },
   "outputs": [
    {
     "data": {
      "image/png": "[encoded data removed]",
      "text/latex": [
       "$$\\left \\{ \\omega_{nm} : 30, \\quad \\zeta_\\delta : 0.15, \\quad \\zeta_\\dot{\\phi} : 0.1, \\quad \\zeta_{nm} : 0.707, \\quad a_{20} : 9.48977444677, \\quad a_{21} : -22.8514666252, \\quad a_{22} : -0.527612249028, \\quad a_{23} : -1.65257699496, \\quad a_{30} : 11.719476872, \\quad a_{31} : -18.3841237318, \\quad a_{32} : 18.3840261666, \\quad a_{33} : -15.4243276372, \\quad b_{21} : -0.124092025412, \\quad b_{31} : 4.3238401808\\right \\}$$"
      ],
      "text/plain": [
       "{\\omega_{nm}: 30, \\zeta_\\delta: 0.15, \\zeta_\\dot{\\phi}: 0.1, \\zeta_{nm}: 0.707\n",
       ", a₂₀: 9.48977444677, a₂₁: -22.8514666252, a₂₂: -0.527612249028, a₂₃: -1.65257\n",
       "699496, a₃₀: 11.719476872, a₃₁: -18.3841237318, a₃₂: 18.3840261666, a₃₃: -15.4\n",
       "243276372, b₂₁: -0.124092025412, b₃₁: 4.3238401808}"
      ]
     },
     "execution_count": 23,
     "metadata": {},
     "output_type": "execute_result"
    }
   ],
   "source": [
    "par = {k: v for k, v in zip(b['A'], A_benchmark.flatten()) if isinstance(k, Symbol)}\n",
    "par[omega] = 30\n",
    "par[zeta] = 0.707\n",
    "par[zeta_delta] = 0.15\n",
    "par[zeta_phidot] = 0.1\n",
    "par[b['B'][2, 1]] = B_benchmark[2, 1]\n",
    "par[b['B'][3, 1]] = B_benchmark[3, 1]\n",
    "par"
   ]
  },
  {
   "cell_type": "markdown",
   "metadata": {},
   "source": [
    "The following shows the form of the twelve equations that must be solved to find the gains, the frequencies, and the other coefficients."
   ]
  },
  {
   "cell_type": "code",
   "execution_count": 24,
   "metadata": {
    "collapsed": false
   },
   "outputs": [
    {
     "data": {
      "text/latex": [
       "$$\\left[\\begin{matrix}- 0.3 \\omega_\\delta - c_{3} + 58.3719398861938\\\\- \\omega_\\delta^{2} - 0.3 \\omega_\\delta c_{3} - c_{2} + 1624.09472216942\\\\- \\omega_\\delta^{2} c_{3} - 0.3 \\omega_\\delta c_{2} - c_{1} + 16670.819288228\\\\- \\omega_\\delta^{2} c_{2} - 0.3 \\omega_\\delta c_{1} - c_{0} + 3891.45616272381 k_\\delta + 55610.0242428841\\\\- \\omega_\\delta^{2} c_{1} - 0.3 \\omega_\\delta c_{0} - 9.09494701772928 \\cdot 10^{-13} k_\\delta + 276475.776481344\\\\- \\omega_\\delta^{2} c_{0} - 38237.9055133813 k_\\delta + 84011.44228978\\\\- 0.2 \\omega_\\dot{\\phi} - c_{4} + 58.3719398861938\\\\- \\omega_\\dot{\\phi}^{2} - 0.2 \\omega_\\dot{\\phi} c_{4} - c_{5} + 1624.09472216942\\\\- \\omega_\\dot{\\phi}^{2} c_{4} - 0.2 \\omega_\\dot{\\phi} c_{5} - c_{6} - 111.682822870417 k_\\delta k_{\\dot{\\phi}} + 16670.819288228\\\\- \\omega_\\dot{\\phi}^{2} c_{5} - 0.2 \\omega_\\dot{\\phi} c_{6} - c_{7} - 8153.56338281556 k_\\delta k_{\\dot{\\phi}} + 3891.45616272381 k_\\delta + 55610.0242428841\\\\- \\omega_\\dot{\\phi}^{2} c_{6} - 0.2 \\omega_\\dot{\\phi} c_{7} - 90978.6714602982 k_\\delta k_{\\dot{\\phi}} - 9.09494701772928 \\cdot 10^{-13} k_\\delta + 276475.776481344\\\\- \\omega_\\dot{\\phi}^{2} c_{7} - 38237.9055133813 k_\\delta + 84011.44228978\\end{matrix}\\right]$$"
      ],
      "text/plain": [
       "⎡                                                   -0.3⋅\\omega_\\delta - c₃ + \n",
       "⎢                                                                             \n",
       "⎢                                                        2                    \n",
       "⎢                                         - \\omega_\\delta  - 0.3⋅\\omega_\\delta\n",
       "⎢                                                                             \n",
       "⎢                                                       2                     \n",
       "⎢                                        - \\omega_\\delta ⋅c₃ - 0.3⋅\\omega_\\del\n",
       "⎢                                                                             \n",
       "⎢                                        2                                    \n",
       "⎢                         - \\omega_\\delta ⋅c₂ - 0.3⋅\\omega_\\delta⋅c₁ - c₀ + 38\n",
       "⎢                                                                             \n",
       "⎢                                         2                                   \n",
       "⎢                          - \\omega_\\delta ⋅c₁ - 0.3⋅\\omega_\\delta⋅c₀ - 9.0949\n",
       "⎢                                                                             \n",
       "⎢                                                       2                     \n",
       "⎢                                        - \\omega_\\delta ⋅c₀ - 38237.905513381\n",
       "⎢                                                                             \n",
       "⎢                                                 -0.2⋅\\omega_\\dot{\\phi} - c₄ \n",
       "⎢                                                                             \n",
       "⎢                                                        2                    \n",
       "⎢                                     - \\omega_\\dot{\\phi}  - 0.2⋅\\omega_\\dot{\\\n",
       "⎢                                                                             \n",
       "⎢                                 2                                           \n",
       "⎢              - \\omega_\\dot{\\phi} ⋅c₄ - 0.2⋅\\omega_\\dot{\\phi}⋅c₅ - c₆ - 111.6\n",
       "⎢                                                                             \n",
       "⎢                   2                                                         \n",
       "⎢- \\omega_\\dot{\\phi} ⋅c₅ - 0.2⋅\\omega_\\dot{\\phi}⋅c₆ - c₇ - 8153.56338281556⋅k_\n",
       "⎢                                                                             \n",
       "⎢                   2                                                         \n",
       "⎢- \\omega_\\dot{\\phi} ⋅c₆ - 0.2⋅\\omega_\\dot{\\phi}⋅c₇ - 90978.6714602982⋅k_\\delt\n",
       "⎢                                                                             \n",
       "⎢                                                         2                   \n",
       "⎣                                      - \\omega_\\dot{\\phi} ⋅c₇ - 38237.9055133\n",
       "\n",
       "58.3719398861938                                                    ⎤\n",
       "                                                                    ⎥\n",
       "                                                                    ⎥\n",
       "⋅c₃ - c₂ + 1624.09472216942                                         ⎥\n",
       "                                                                    ⎥\n",
       "                                                                    ⎥\n",
       "ta⋅c₂ - c₁ + 16670.819288228                                        ⎥\n",
       "                                                                    ⎥\n",
       "                                                                    ⎥\n",
       "91.45616272381⋅k_\\delta + 55610.0242428841                          ⎥\n",
       "                                                                    ⎥\n",
       "                                                                    ⎥\n",
       "4701772928e-13⋅k_\\delta + 276475.776481344                          ⎥\n",
       "                                                                    ⎥\n",
       "                                                                    ⎥\n",
       "3⋅k_\\delta + 84011.44228978                                         ⎥\n",
       "                                                                    ⎥\n",
       "+ 58.3719398861938                                                  ⎥\n",
       "                                                                    ⎥\n",
       "                                                                    ⎥\n",
       "phi}⋅c₄ - c₅ + 1624.09472216942                                     ⎥\n",
       "                                                                    ⎥\n",
       "                                                                    ⎥\n",
       "82822870417⋅k_\\delta⋅k_{\\dot{\\phi}} + 16670.819288228               ⎥\n",
       "                                                                    ⎥\n",
       "                                                                    ⎥\n",
       "\\delta⋅k_{\\dot{\\phi}} + 3891.45616272381⋅k_\\delta + 55610.0242428841⎥\n",
       "                                                                    ⎥\n",
       "                                                                    ⎥\n",
       "a⋅k_{\\dot{\\phi}} - 9.09494701772928e-13⋅k_\\delta + 276475.776481344 ⎥\n",
       "                                                                    ⎥\n",
       "                                                                    ⎥\n",
       "813⋅k_\\delta + 84011.44228978                                       ⎦"
      ]
     },
     "execution_count": 24,
     "metadata": {},
     "output_type": "execute_result"
    }
   ],
   "source": [
    "zero_all.subs(par)"
   ]
  },
  {
   "cell_type": "markdown",
   "metadata": {},
   "source": [
    "The Jacobian wrt to the unknowns will also be useful for finding the solution to the set of equations."
   ]
  },
  {
   "cell_type": "code",
   "execution_count": 25,
   "metadata": {
    "collapsed": false
   },
   "outputs": [],
   "source": [
    "unknowns = [c0, c1, c2, c3, c4, c5, c6, c7, k_delta, k_phi_dot, omega_delta, omega_phidot]"
   ]
  },
  {
   "cell_type": "code",
   "execution_count": 26,
   "metadata": {
    "collapsed": false
   },
   "outputs": [
    {
     "data": {
      "text/latex": [
       "$$\\left[\\begin{array}{cccccccccccc}0 & 0 & 0 & -1 & 0 & 0 & 0 & 0 & 0 & 0 & - 2 \\zeta_\\delta & 0\\\\0 & 0 & -1 & - 2 \\omega_\\delta \\zeta_\\delta & 0 & 0 & 0 & 0 & 0 & 0 & - 2 \\omega_\\delta - 2 \\zeta_\\delta c_{3} & 0\\\\0 & -1 & - 2 \\omega_\\delta \\zeta_\\delta & - \\omega_\\delta^{2} & 0 & 0 & 0 & 0 & 0 & 0 & - 2 \\omega_\\delta c_{3} - 2 \\zeta_\\delta c_{2} & 0\\\\-1 & - 2 \\omega_\\delta \\zeta_\\delta & - \\omega_\\delta^{2} & 0 & 0 & 0 & 0 & 0 & \\omega_{nm}^{2} b_{31} & 0 & - 2 \\omega_\\delta c_{2} - 2 \\zeta_\\delta c_{1} & 0\\\\- 2 \\omega_\\delta \\zeta_\\delta & - \\omega_\\delta^{2} & 0 & 0 & 0 & 0 & 0 & 0 & - \\omega_{nm}^{2} a_{22} b_{31} + \\omega_{nm}^{2} a_{32} b_{21} & 0 & - 2 \\omega_\\delta c_{1} - 2 \\zeta_\\delta c_{0} & 0\\\\- \\omega_\\delta^{2} & 0 & 0 & 0 & 0 & 0 & 0 & 0 & - \\omega_{nm}^{2} a_{20} b_{31} + \\omega_{nm}^{2} a_{30} b_{21} & 0 & - 2 \\omega_\\delta c_{0} & 0\\\\0 & 0 & 0 & 0 & -1 & 0 & 0 & 0 & 0 & 0 & 0 & - 2 \\zeta_\\dot{\\phi}\\\\0 & 0 & 0 & 0 & - 2 \\omega_\\dot{\\phi} \\zeta_\\dot{\\phi} & -1 & 0 & 0 & 0 & 0 & 0 & - 2 \\omega_\\dot{\\phi} - 2 \\zeta_\\dot{\\phi} c_{4}\\\\0 & 0 & 0 & 0 & - \\omega_\\dot{\\phi}^{2} & - 2 \\omega_\\dot{\\phi} \\zeta_\\dot{\\phi} & -1 & 0 & \\omega_{nm}^{2} b_{21} k_{\\dot{\\phi}} & \\omega_{nm}^{2} b_{21} k_\\delta & 0 & - 2 \\omega_\\dot{\\phi} c_{4} - 2 \\zeta_\\dot{\\phi} c_{5}\\\\0 & 0 & 0 & 0 & 0 & - \\omega_\\dot{\\phi}^{2} & - 2 \\omega_\\dot{\\phi} \\zeta_\\dot{\\phi} & -1 & \\omega_{nm}^{2} a_{23} b_{31} k_{\\dot{\\phi}} - \\omega_{nm}^{2} a_{33} b_{21} k_{\\dot{\\phi}} + \\omega_{nm}^{2} b_{31} & \\omega_{nm}^{2} a_{23} b_{31} k_\\delta - \\omega_{nm}^{2} a_{33} b_{21} k_\\delta & 0 & - 2 \\omega_\\dot{\\phi} c_{5} - 2 \\zeta_\\dot{\\phi} c_{6}\\\\0 & 0 & 0 & 0 & 0 & 0 & - \\omega_\\dot{\\phi}^{2} & - 2 \\omega_\\dot{\\phi} \\zeta_\\dot{\\phi} & \\omega_{nm}^{2} a_{21} b_{31} k_{\\dot{\\phi}} - \\omega_{nm}^{2} a_{22} b_{31} - \\omega_{nm}^{2} a_{31} b_{21} k_{\\dot{\\phi}} + \\omega_{nm}^{2} a_{32} b_{21} & \\omega_{nm}^{2} a_{21} b_{31} k_\\delta - \\omega_{nm}^{2} a_{31} b_{21} k_\\delta & 0 & - 2 \\omega_\\dot{\\phi} c_{6} - 2 \\zeta_\\dot{\\phi} c_{7}\\\\0 & 0 & 0 & 0 & 0 & 0 & 0 & - \\omega_\\dot{\\phi}^{2} & - \\omega_{nm}^{2} a_{20} b_{31} + \\omega_{nm}^{2} a_{30} b_{21} & 0 & 0 & - 2 \\omega_\\dot{\\phi} c_{7}\\end{array}\\right]$$"
      ],
      "text/plain": [
       "⎡              0                              0                              0\n",
       "⎢                                                                             \n",
       "⎢              0                              0                             -1\n",
       "⎢                                                                             \n",
       "⎢                                                                             \n",
       "⎢              0                             -1                -2⋅\\omega_\\delt\n",
       "⎢                                                                             \n",
       "⎢                                                                             \n",
       "⎢             -1                -2⋅\\omega_\\delta⋅\\zeta_\\delta         -\\omega_\n",
       "⎢                                                                             \n",
       "⎢                                                    2                        \n",
       "⎢-2⋅\\omega_\\delta⋅\\zeta_\\delta         -\\omega_\\delta                        0\n",
       "⎢                                                                             \n",
       "⎢                     2                                                       \n",
       "⎢       -\\omega_\\delta                        0                              0\n",
       "⎢                                                                             \n",
       "⎢              0                              0                              0\n",
       "⎢                                                                             \n",
       "⎢              0                              0                              0\n",
       "⎢                                                                             \n",
       "⎢                                                                             \n",
       "⎢              0                              0                              0\n",
       "⎢                                                                             \n",
       "⎢                                                                             \n",
       "⎢              0                              0                              0\n",
       "⎢                                                                             \n",
       "⎢                                                                             \n",
       "⎢              0                              0                              0\n",
       "⎢                                                                             \n",
       "⎢                                                                             \n",
       "⎣              0                              0                              0\n",
       "\n",
       "                             -1                                  0            \n",
       "                                                                              \n",
       "                -2⋅\\omega_\\delta⋅\\zeta_\\delta                    0            \n",
       "                                                                              \n",
       "                                     2                                        \n",
       "a⋅\\zeta_\\delta         -\\omega_\\delta                            0            \n",
       "                                                                              \n",
       "      2                                                                       \n",
       "\\delta                        0                                  0            \n",
       "                                                                              \n",
       "                                                                              \n",
       "                              0                                  0            \n",
       "                                                                              \n",
       "                                                                              \n",
       "                              0                                  0            \n",
       "                                                                              \n",
       "                              0                                 -1            \n",
       "                                                                              \n",
       "                              0                -2⋅\\omega_\\dot{\\phi}⋅\\zeta_\\dot\n",
       "                                                                              \n",
       "                                                                          2   \n",
       "                              0                         -\\omega_\\dot{\\phi}    \n",
       "                                                                              \n",
       "                                                                              \n",
       "                              0                                  0            \n",
       "                                                                              \n",
       "                                                                              \n",
       "                              0                                  0            \n",
       "                                                                              \n",
       "                                                                              \n",
       "                              0                                  0            \n",
       "\n",
       "                          0                                      0            \n",
       "                                                                              \n",
       "                          0                                      0            \n",
       "                                                                              \n",
       "                                                                              \n",
       "                          0                                      0            \n",
       "                                                                              \n",
       "                                                                              \n",
       "                          0                                      0            \n",
       "                                                                              \n",
       "                                                                              \n",
       "                          0                                      0            \n",
       "                                                                              \n",
       "                                                                              \n",
       "                          0                                      0            \n",
       "                                                                              \n",
       "                          0                                      0            \n",
       "                                                                              \n",
       "{\\phi}                   -1                                      0            \n",
       "                                                                              \n",
       "                                                                              \n",
       "        -2⋅\\omega_\\dot{\\phi}⋅\\zeta_\\dot{\\phi}                   -1            \n",
       "                                                                              \n",
       "                                   2                                          \n",
       "                 -\\omega_\\dot{\\phi}            -2⋅\\omega_\\dot{\\phi}⋅\\zeta_\\dot\n",
       "                                                                              \n",
       "                                                                          2   \n",
       "                          0                             -\\omega_\\dot{\\phi}    \n",
       "                                                                              \n",
       "                                                                              \n",
       "                          0                                      0            \n",
       "\n",
       "                          0                                                   \n",
       "                                                                              \n",
       "                          0                                                   \n",
       "                                                                              \n",
       "                                                                              \n",
       "                          0                                                   \n",
       "                                                                              \n",
       "                                                                              \n",
       "                          0                                                   \n",
       "                                                                              \n",
       "                                                                              \n",
       "                          0                                                   \n",
       "                                                                              \n",
       "                                                                              \n",
       "                          0                                                   \n",
       "                                                                              \n",
       "                          0                                                   \n",
       "                                                                              \n",
       "                          0                                                   \n",
       "                                                                              \n",
       "                                                                              \n",
       "                          0                                                   \n",
       "                                                                              \n",
       "                                                                       2      \n",
       "{\\phi}                   -1                                 \\omega_{nm} ⋅a₂₃⋅b\n",
       "                                                                              \n",
       "                                                          2                   \n",
       "        -2⋅\\omega_\\dot{\\phi}⋅\\zeta_\\dot{\\phi}  \\omega_{nm} ⋅a₂₁⋅b₃₁⋅k_{\\dot{\\p\n",
       "                                                                              \n",
       "                                   2                                          \n",
       "                 -\\omega_\\dot{\\phi}                                           \n",
       "\n",
       "                            0                                                 \n",
       "                                                                              \n",
       "                            0                                                 \n",
       "                                                                              \n",
       "                                                                              \n",
       "                            0                                                 \n",
       "                                                                              \n",
       "                               2                                              \n",
       "                    \\omega_{nm} ⋅b₃₁                                          \n",
       "                                                                              \n",
       "                   2                      2                                   \n",
       "      - \\omega_{nm} ⋅a₂₂⋅b₃₁ + \\omega_{nm} ⋅a₃₂⋅b₂₁                           \n",
       "                                                                              \n",
       "                   2                      2                                   \n",
       "      - \\omega_{nm} ⋅a₂₀⋅b₃₁ + \\omega_{nm} ⋅a₃₀⋅b₂₁                           \n",
       "                                                                              \n",
       "                            0                                                 \n",
       "                                                                              \n",
       "                            0                                                 \n",
       "                                                                              \n",
       "                        2                                                     \n",
       "             \\omega_{nm} ⋅b₂₁⋅k_{\\dot{\\phi}}                                  \n",
       "                                                                              \n",
       "                               2                                     2        \n",
       "₃₁⋅k_{\\dot{\\phi}} - \\omega_{nm} ⋅a₃₃⋅b₂₁⋅k_{\\dot{\\phi}} + \\omega_{nm} ⋅b₃₁    \n",
       "                                                                              \n",
       "                  2                      2                                    \n",
       "hi}} - \\omega_{nm} ⋅a₂₂⋅b₃₁ - \\omega_{nm} ⋅a₃₁⋅b₂₁⋅k_{\\dot{\\phi}} + \\omega_{nm\n",
       "                                                                              \n",
       "                   2                      2                                   \n",
       "      - \\omega_{nm} ⋅a₂₀⋅b₃₁ + \\omega_{nm} ⋅a₃₀⋅b₂₁                           \n",
       "\n",
       "                                          0                                   \n",
       "                                                                              \n",
       "                                          0                                 -2\n",
       "                                                                              \n",
       "                                                                              \n",
       "                                          0                                -2⋅\n",
       "                                                                              \n",
       "                                                                              \n",
       "                                          0                                -2⋅\n",
       "                                                                              \n",
       "                                                                              \n",
       "                                          0                                -2⋅\n",
       "                                                                              \n",
       "                                                                              \n",
       "                                          0                                   \n",
       "                                                                              \n",
       "                                          0                                   \n",
       "                                                                              \n",
       "                                          0                                   \n",
       "                                                                              \n",
       "                                         2                                    \n",
       "                              \\omega_{nm} ⋅b₂₁⋅k_\\delta                       \n",
       "                                                                              \n",
       "                       2                               2                      \n",
       "            \\omega_{nm} ⋅a₂₃⋅b₃₁⋅k_\\delta - \\omega_{nm} ⋅a₃₃⋅b₂₁⋅k_\\delta     \n",
       "                                                                              \n",
       " 2                     2                               2                      \n",
       "} ⋅a₃₂⋅b₂₁  \\omega_{nm} ⋅a₂₁⋅b₃₁⋅k_\\delta - \\omega_{nm} ⋅a₃₁⋅b₂₁⋅k_\\delta     \n",
       "                                                                              \n",
       "                                                                              \n",
       "                                          0                                   \n",
       "\n",
       "         -2⋅\\zeta_\\delta                                     0                \n",
       "                                                                              \n",
       "⋅\\omega_\\delta - 2⋅\\zeta_\\delta⋅c₃                           0                \n",
       "                                                                              \n",
       "                                                                              \n",
       "\\omega_\\delta⋅c₃ - 2⋅\\zeta_\\delta⋅c₂                         0                \n",
       "                                                                              \n",
       "                                                                              \n",
       "\\omega_\\delta⋅c₂ - 2⋅\\zeta_\\delta⋅c₁                         0                \n",
       "                                                                              \n",
       "                                                                              \n",
       "\\omega_\\delta⋅c₁ - 2⋅\\zeta_\\delta⋅c₀                         0                \n",
       "                                                                              \n",
       "                                                                              \n",
       "       -2⋅\\omega_\\delta⋅c₀                                   0                \n",
       "                                                                              \n",
       "                0                                   -2⋅\\zeta_\\dot{\\phi}       \n",
       "                                                                              \n",
       "                0                      -2⋅\\omega_\\dot{\\phi} - 2⋅\\zeta_\\dot{\\ph\n",
       "                                                                              \n",
       "                                                                              \n",
       "                0                     -2⋅\\omega_\\dot{\\phi}⋅c₄ - 2⋅\\zeta_\\dot{\\\n",
       "                                                                              \n",
       "                                                                              \n",
       "                0                     -2⋅\\omega_\\dot{\\phi}⋅c₅ - 2⋅\\zeta_\\dot{\\\n",
       "                                                                              \n",
       "                                                                              \n",
       "                0                     -2⋅\\omega_\\dot{\\phi}⋅c₆ - 2⋅\\zeta_\\dot{\\\n",
       "                                                                              \n",
       "                                                                              \n",
       "                0                                 -2⋅\\omega_\\dot{\\phi}⋅c₇     \n",
       "\n",
       "       ⎤\n",
       "       ⎥\n",
       "       ⎥\n",
       "       ⎥\n",
       "       ⎥\n",
       "       ⎥\n",
       "       ⎥\n",
       "       ⎥\n",
       "       ⎥\n",
       "       ⎥\n",
       "       ⎥\n",
       "       ⎥\n",
       "       ⎥\n",
       "       ⎥\n",
       "       ⎥\n",
       "       ⎥\n",
       "       ⎥\n",
       "       ⎥\n",
       "i}⋅c₄  ⎥\n",
       "       ⎥\n",
       "       ⎥\n",
       "phi}⋅c₅⎥\n",
       "       ⎥\n",
       "       ⎥\n",
       "phi}⋅c₆⎥\n",
       "       ⎥\n",
       "       ⎥\n",
       "phi}⋅c₇⎥\n",
       "       ⎥\n",
       "       ⎥\n",
       "       ⎦"
      ]
     },
     "execution_count": 26,
     "metadata": {},
     "output_type": "execute_result"
    }
   ],
   "source": [
    "jacobian = zero_all.jacobian(unknowns)\n",
    "jacobian"
   ]
  },
  {
   "cell_type": "code",
   "execution_count": 27,
   "metadata": {
    "collapsed": false
   },
   "outputs": [],
   "source": [
    "knowns = list(ordered(zero_all.free_symbols.difference(unknowns)))"
   ]
  },
  {
   "cell_type": "code",
   "execution_count": 28,
   "metadata": {
    "collapsed": false
   },
   "outputs": [
    {
     "data": {
      "image/png": "[encoded data removed]",
      "text/latex": [
       "$$\\left [ \\omega_{nm}, \\quad \\zeta_\\delta, \\quad \\zeta_\\dot{\\phi}, \\quad \\zeta_{nm}, \\quad a_{20}, \\quad a_{21}, \\quad a_{22}, \\quad a_{23}, \\quad a_{30}, \\quad a_{31}, \\quad a_{32}, \\quad a_{33}, \\quad b_{21}, \\quad b_{31}\\right ]$$"
      ],
      "text/plain": [
       "[\\omega_{nm}, \\zeta_\\delta, \\zeta_\\dot{\\phi}, \\zeta_{nm}, a₂₀, a₂₁, a₂₂, a₂₃, \n",
       "a₃₀, a₃₁, a₃₂, a₃₃, b₂₁, b₃₁]"
      ]
     },
     "execution_count": 28,
     "metadata": {},
     "output_type": "execute_result"
    }
   ],
   "source": [
    "knowns"
   ]
  },
  {
   "cell_type": "code",
   "execution_count": 29,
   "metadata": {
    "collapsed": false
   },
   "outputs": [
    {
     "name": "stdout",
     "output_type": "stream",
     "text": [
      "MutableDenseMatrix([[-2*\\omega_\\delta*\\zeta_\\delta + 2*\\omega_{nm}*\\zeta_{nm} - a_22 - a_33 - c3], [-\\omega_\\delta**2 - 2*\\omega_\\delta*\\zeta_\\delta*c3 + \\omega_{nm}**2 - 2*\\omega_{nm}*\\zeta_{nm}*a_22 - 2*\\omega_{nm}*\\zeta_{nm}*a_33 - a_20 + a_22*a_33 - a_23*a_32 - a_31 - c2], [-\\omega_\\delta**2*c3 - 2*\\omega_\\delta*\\zeta_\\delta*c2 - \\omega_{nm}**2*a_22 - \\omega_{nm}**2*a_33 - 2*\\omega_{nm}*\\zeta_{nm}*a_20 + 2*\\omega_{nm}*\\zeta_{nm}*a_22*a_33 - 2*\\omega_{nm}*\\zeta_{nm}*a_23*a_32 - 2*\\omega_{nm}*\\zeta_{nm}*a_31 + a_20*a_33 - a_21*a_32 + a_22*a_31 - a_23*a_30 - c1], [-\\omega_\\delta**2*c2 - 2*\\omega_\\delta*\\zeta_\\delta*c1 - \\omega_{nm}**2*a_20 + \\omega_{nm}**2*a_22*a_33 - \\omega_{nm}**2*a_23*a_32 - \\omega_{nm}**2*a_31 + \\omega_{nm}**2*b_31*k_\\delta + 2*\\omega_{nm}*\\zeta_{nm}*a_20*a_33 - 2*\\omega_{nm}*\\zeta_{nm}*a_21*a_32 + 2*\\omega_{nm}*\\zeta_{nm}*a_22*a_31 - 2*\\omega_{nm}*\\zeta_{nm}*a_23*a_30 + a_20*a_31 - a_21*a_30 - c0], [-\\omega_\\delta**2*c1 - 2*\\omega_\\delta*\\zeta_\\delta*c0 + \\omega_{nm}**2*a_20*a_33 - \\omega_{nm}**2*a_21*a_32 + \\omega_{nm}**2*a_22*a_31 - \\omega_{nm}**2*a_22*b_31*k_\\delta - \\omega_{nm}**2*a_23*a_30 + \\omega_{nm}**2*a_32*b_21*k_\\delta + 2*\\omega_{nm}*\\zeta_{nm}*a_20*a_31 - 2*\\omega_{nm}*\\zeta_{nm}*a_21*a_30], [-\\omega_\\delta**2*c0 + \\omega_{nm}**2*a_20*a_31 - \\omega_{nm}**2*a_20*b_31*k_\\delta - \\omega_{nm}**2*a_21*a_30 + \\omega_{nm}**2*a_30*b_21*k_\\delta], [-2*\\omega_\\dot{\\phi}*\\zeta_\\dot{\\phi} + 2*\\omega_{nm}*\\zeta_{nm} - a_22 - a_33 - c4], [-\\omega_\\dot{\\phi}**2 - 2*\\omega_\\dot{\\phi}*\\zeta_\\dot{\\phi}*c4 + \\omega_{nm}**2 - 2*\\omega_{nm}*\\zeta_{nm}*a_22 - 2*\\omega_{nm}*\\zeta_{nm}*a_33 - a_20 + a_22*a_33 - a_23*a_32 - a_31 - c5], [-\\omega_\\dot{\\phi}**2*c4 - 2*\\omega_\\dot{\\phi}*\\zeta_\\dot{\\phi}*c5 - \\omega_{nm}**2*a_22 - \\omega_{nm}**2*a_33 + \\omega_{nm}**2*b_21*k_\\delta*k_{\\dot{\\phi}} - 2*\\omega_{nm}*\\zeta_{nm}*a_20 + 2*\\omega_{nm}*\\zeta_{nm}*a_22*a_33 - 2*\\omega_{nm}*\\zeta_{nm}*a_23*a_32 - 2*\\omega_{nm}*\\zeta_{nm}*a_31 + a_20*a_33 - a_21*a_32 + a_22*a_31 - a_23*a_30 - c6], [-\\omega_\\dot{\\phi}**2*c5 - 2*\\omega_\\dot{\\phi}*\\zeta_\\dot{\\phi}*c6 - \\omega_{nm}**2*a_20 + \\omega_{nm}**2*a_22*a_33 - \\omega_{nm}**2*a_23*a_32 + \\omega_{nm}**2*a_23*b_31*k_\\delta*k_{\\dot{\\phi}} - \\omega_{nm}**2*a_31 - \\omega_{nm}**2*a_33*b_21*k_\\delta*k_{\\dot{\\phi}} + \\omega_{nm}**2*b_31*k_\\delta + 2*\\omega_{nm}*\\zeta_{nm}*a_20*a_33 - 2*\\omega_{nm}*\\zeta_{nm}*a_21*a_32 + 2*\\omega_{nm}*\\zeta_{nm}*a_22*a_31 - 2*\\omega_{nm}*\\zeta_{nm}*a_23*a_30 + a_20*a_31 - a_21*a_30 - c7], [-\\omega_\\dot{\\phi}**2*c6 - 2*\\omega_\\dot{\\phi}*\\zeta_\\dot{\\phi}*c7 + \\omega_{nm}**2*a_20*a_33 - \\omega_{nm}**2*a_21*a_32 + \\omega_{nm}**2*a_21*b_31*k_\\delta*k_{\\dot{\\phi}} + \\omega_{nm}**2*a_22*a_31 - \\omega_{nm}**2*a_22*b_31*k_\\delta - \\omega_{nm}**2*a_23*a_30 - \\omega_{nm}**2*a_31*b_21*k_\\delta*k_{\\dot{\\phi}} + \\omega_{nm}**2*a_32*b_21*k_\\delta + 2*\\omega_{nm}*\\zeta_{nm}*a_20*a_31 - 2*\\omega_{nm}*\\zeta_{nm}*a_21*a_30], [-\\omega_\\dot{\\phi}**2*c7 + \\omega_{nm}**2*a_20*a_31 - \\omega_{nm}**2*a_20*b_31*k_\\delta - \\omega_{nm}**2*a_21*a_30 + \\omega_{nm}**2*a_30*b_21*k_\\delta]])\n"
     ]
    }
   ],
   "source": [
    "from sympy.printing.lambdarepr import lambdarepr\n",
    "print(lambdarepr(zero_all))"
   ]
  },
  {
   "cell_type": "markdown",
   "metadata": {},
   "source": [
    "Now, two numerical functions that evaluate the equations and its Jacobian can be created."
   ]
  },
  {
   "cell_type": "code",
   "execution_count": 30,
   "metadata": {
    "collapsed": false
   },
   "outputs": [],
   "source": [
    "f_zero = lambdify(unknowns + knowns, zero_all)"
   ]
  },
  {
   "cell_type": "code",
   "execution_count": 31,
   "metadata": {
    "collapsed": false
   },
   "outputs": [],
   "source": [
    "f_jac_zero = lambdify(unknowns + knowns, jacobian)"
   ]
  },
  {
   "cell_type": "code",
   "execution_count": 32,
   "metadata": {
    "collapsed": false
   },
   "outputs": [
    {
     "data": {
      "text/plain": [
       "array([[-1.84765844],\n",
       "       [-2.61857305],\n",
       "       [-0.43179863],\n",
       "       [-0.88098273],\n",
       "       [-0.3669605 ],\n",
       "       [-0.09742701],\n",
       "       [-2.02564766],\n",
       "       [-2.98335775],\n",
       "       [-0.12913183],\n",
       "       [-0.74780759],\n",
       "       [-0.09327239],\n",
       "       [-0.4550624 ]])"
      ]
     },
     "execution_count": 32,
     "metadata": {},
     "output_type": "execute_result"
    }
   ],
   "source": [
    "f_zero(*np.random.random(len(unknowns + knowns)))"
   ]
  },
  {
   "cell_type": "code",
   "execution_count": 33,
   "metadata": {
    "collapsed": false
   },
   "outputs": [
    {
     "data": {
      "text/plain": [
       "array([[ 0.        ,  0.        ,  0.        , -1.        ,  0.        ,\n",
       "         0.        ,  0.        ,  0.        ,  0.        ,  0.        ,\n",
       "        -0.46803676,  0.        ],\n",
       "       [ 0.        ,  0.        , -1.        , -0.06096901,  0.        ,\n",
       "         0.        ,  0.        ,  0.        ,  0.        ,  0.        ,\n",
       "        -0.30079785,  0.        ],\n",
       "       [ 0.        , -1.        , -0.06096901, -0.01696908,  0.        ,\n",
       "         0.        ,  0.        ,  0.        ,  0.        ,  0.        ,\n",
       "        -0.18784355,  0.        ],\n",
       "       [-1.        , -0.06096901, -0.01696908,  0.        ,  0.        ,\n",
       "         0.        ,  0.        ,  0.        ,  0.31132162,  0.        ,\n",
       "        -0.54950381,  0.        ],\n",
       "       [-0.06096901, -0.01696908,  0.        ,  0.        ,  0.        ,\n",
       "         0.        ,  0.        ,  0.        ,  0.10884181,  0.        ,\n",
       "        -0.71106939,  0.        ],\n",
       "       [-0.01696908,  0.        ,  0.        ,  0.        ,  0.        ,\n",
       "         0.        ,  0.        ,  0.        ,  0.12016005,  0.        ,\n",
       "        -0.25408071,  0.        ],\n",
       "       [ 0.        ,  0.        ,  0.        ,  0.        , -1.        ,\n",
       "         0.        ,  0.        ,  0.        ,  0.        ,  0.        ,\n",
       "         0.        , -1.1971293 ],\n",
       "       [ 0.        ,  0.        ,  0.        ,  0.        , -0.25735424,\n",
       "        -1.        ,  0.        ,  0.        ,  0.        ,  0.        ,\n",
       "         0.        , -1.11472111],\n",
       "       [ 0.        ,  0.        ,  0.        ,  0.        , -0.04621474,\n",
       "        -0.25735424, -1.        ,  0.        ,  0.17415213,  0.15109275,\n",
       "         0.        , -0.48560613],\n",
       "       [ 0.        ,  0.        ,  0.        ,  0.        ,  0.        ,\n",
       "        -0.04621474, -0.25735424, -1.        ,  0.3212505 ,  0.0086142 ,\n",
       "         0.        , -1.06357964],\n",
       "       [ 0.        ,  0.        ,  0.        ,  0.        ,  0.        ,\n",
       "         0.        , -0.04621474, -0.25735424,  0.1844087 ,  0.06556113,\n",
       "         0.        , -1.31631616],\n",
       "       [ 0.        ,  0.        ,  0.        ,  0.        ,  0.        ,\n",
       "         0.        ,  0.        , -0.04621474,  0.12016005,  0.        ,\n",
       "         0.        , -0.34666995]])"
      ]
     },
     "execution_count": 33,
     "metadata": {},
     "output_type": "execute_result"
    }
   ],
   "source": [
    "f_jac_zero(*np.random.random(len(unknowns + knowns)))"
   ]
  },
  {
   "cell_type": "markdown",
   "metadata": {},
   "source": [
    "Here we create a wrapper for the functions that allow us to pass in the variables in a more convenient form."
   ]
  },
  {
   "cell_type": "code",
   "execution_count": 34,
   "metadata": {
    "collapsed": true
   },
   "outputs": [],
   "source": [
    "def fsolve_zero(unknowns, A, B, omega_nm, zeta_delta, zeta_phidot, zeta_nm):\n",
    "    args = np.hstack((unknowns, omega_nm, zeta_delta, zeta_phidot, zeta_nm, A[2:, :].flatten(), B[2:, 1].flatten()))\n",
    "    return f_zero(*args).squeeze()           "
   ]
  },
  {
   "cell_type": "code",
   "execution_count": 35,
   "metadata": {
    "collapsed": true
   },
   "outputs": [],
   "source": [
    "def fsolve_jac_zero(unknowns, A, B, omega_nm, zeta_delta, zeta_phidot, zeta_nm):\n",
    "    args = np.hstack((unknowns, omega_nm, zeta_delta, zeta_phidot, zeta_nm, A[2:, :].flatten(), B[2:, 1].flatten()))\n",
    "    return f_jac_zero(*args).squeeze()           "
   ]
  },
  {
   "cell_type": "markdown",
   "metadata": {},
   "source": [
    "At this point, `fsolve` can be used to find the solution starting with a guess."
   ]
  },
  {
   "cell_type": "code",
   "execution_count": 36,
   "metadata": {
    "collapsed": true
   },
   "outputs": [],
   "source": [
    "guess = np.hstack((np.random.random(8), 45.0, -0.05, 14.0, 14.0))"
   ]
  },
  {
   "cell_type": "code",
   "execution_count": 37,
   "metadata": {
    "collapsed": false
   },
   "outputs": [],
   "source": [
    "res = fsolve(fsolve_zero, guess, args=(A_benchmark, B_benchmark, 30, 0.1289, 0.0855, 0.707), fprime=fsolve_jac_zero)"
   ]
  },
  {
   "cell_type": "code",
   "execution_count": 38,
   "metadata": {
    "collapsed": false
   },
   "outputs": [
    {
     "data": {
      "text/plain": [
       "array([ -8.71798244e+03,   1.58227411e+03,   1.23258658e+03,\n",
       "         5.47761600e+01,   5.59477325e+01,   1.28748836e+03,\n",
       "         2.57663234e+03,  -8.43896177e+03,   4.65520391e+01,\n",
       "        -5.21602768e-02,   1.39479436e+01,   1.41766516e+01])"
      ]
     },
     "execution_count": 38,
     "metadata": {},
     "output_type": "execute_result"
    }
   ],
   "source": [
    "res"
   ]
  },
  {
   "cell_type": "code",
   "execution_count": 39,
   "metadata": {
    "collapsed": false
   },
   "outputs": [
    {
     "data": {
      "text/plain": [
       "array([  7.10542736e-15,   1.58638613e-09,   4.83598797e-08,\n",
       "        -2.57489097e-06,  -1.18671945e-04,   9.37446021e-05,\n",
       "         0.00000000e+00,  -4.86579665e-10,  -3.40160113e-08,\n",
       "         2.17042179e-06,   1.80584323e-04,  -5.17540611e-05])"
      ]
     },
     "execution_count": 39,
     "metadata": {},
     "output_type": "execute_result"
    }
   ],
   "source": [
    "fsolve_zero(res, A_benchmark, B_benchmark, 30, 0.1289, 0.0855, 0.707)"
   ]
  },
  {
   "cell_type": "code",
   "execution_count": 40,
   "metadata": {
    "collapsed": false
   },
   "outputs": [
    {
     "data": {
      "image/png": "[encoded data removed]",
      "text/latex": [
       "$$\\left \\{ \\omega_\\delta : 13.947943586, \\quad \\omega_\\dot{\\phi} : 14.1766516229, \\quad c_{0} : -8717.98243582, \\quad c_{1} : 1582.27410673, \\quad c_{2} : 1232.58657904, \\quad c_{3} : 54.7761600297, \\quad c_{4} : 55.9477324587, \\quad c_{5} : 1287.48836235, \\quad c_{6} : 2576.63233748, \\quad c_{7} : -8438.9617749, \\quad k_\\delta : 46.5520390577, \\quad k_{\\dot{\\phi}} : -0.0521602768014\\right \\}$$"
      ],
      "text/plain": [
       "{\\omega_\\delta: 13.947943586, \\omega_\\dot{\\phi}: 14.1766516229, c₀: -8717.9824\n",
       "3582, c₁: 1582.27410673, c₂: 1232.58657904, c₃: 54.7761600297, c₄: 55.94773245\n",
       "87, c₅: 1287.48836235, c₆: 2576.63233748, c₇: -8438.9617749, k_\\delta: 46.5520\n",
       "390577, k_{\\dot{\\phi}}: -0.0521602768014}"
      ]
     },
     "execution_count": 40,
     "metadata": {},
     "output_type": "execute_result"
    }
   ],
   "source": [
    "sol = {k: v for k, v in zip(unknowns, res)}\n",
    "sol"
   ]
  },
  {
   "cell_type": "markdown",
   "metadata": {},
   "source": [
    "# Generate a Matlab function"
   ]
  },
  {
   "cell_type": "code",
   "execution_count": 41,
   "metadata": {
    "collapsed": true
   },
   "outputs": [],
   "source": [
    "m_func_template = '''\\\n",
    "function [k_delta, k_phi_dot] = compute_inner_gains(A, B, omega_nm, zeta_nm, zeta_delta, zeta_phidot)\n",
    "% function [k_delta, k_phi_dot] = compute_inner_gains(A, B, omega_nm, zeta_nm, zeta_delta, zeta_phidot)\n",
    "% Returns the steer and roll rate gains given the state and input\n",
    "% matrices of the bicycle, the neuromuscular block's natural\n",
    "% frequency and damping ratio, and the desired closed loop damping\n",
    "% ratio of the signature neuromuscular peak in each of the closed loops.\n",
    "%\n",
    "%   Parameters\n",
    "%   ==========\n",
    "%\n",
    "%   A : double, size 11 x 11\n",
    "%       The state matrix for a linear Whipple bicycle model, where\n",
    "%       the 4th, 7th, 9th, and 11th states are [roll angle, steer angle, roll angular rate,\n",
    "%       steer angular rate].\n",
    "%   B : double, size 11 x 3\n",
    "%       The input matrix for a linear Whipple bicycle model, where\n",
    "%       the 2nd input is [steer torque].\n",
    "%   omega_nm : double, size 1 x 1\n",
    "%       The natural frequency of the neuromuscular model.\n",
    "%   zeta_nm : double, size 1 x 1\n",
    "%       The damping ratio of the neuromuscular model.\n",
    "%   zeta_delta : double, size 1 x 1\n",
    "%       The damping ratio of the desired closed loop pole.\n",
    "%   zeta_phidot : double, size 1 x 1\n",
    "%       The damping ratio of the desired closed loop pole.\n",
    "%\n",
    "%   Returns\n",
    "%   =======\n",
    "%   k_delta : float\n",
    "%       The steer angle feedback gain.\n",
    "%   k_phi_dot : float\n",
    "%       The roll rate feedback gain.\n",
    "\n",
    "    knowns = [omega_nm, zeta_delta, zeta_phidot, zeta_nm, reshape(A([9, 11], [4, 7, 9, 11]).', 1, []), reshape(B([9, 11], 2).', 1, [])];\n",
    "\n",
    "    func = @(unknowns) eval_func(unknowns, knowns);\n",
    "\n",
    "    % TODO : This guess comes from the known solution for the Benchmark bike\n",
    "    % at 5 m/s, this should be made more robust.\n",
    "    guess = [-8.71798244e3, 1.58227411e3, 1.23258658e3, 5.47761600e1, 5.59477325e1, 1.28748836e3, 2.57663234e3, -8.43896178e3, 4.65520391e1, -5.21602768e-2, 1.39479436e1, 1.41766516e1];\n",
    "\n",
    "    options = optimoptions(@fsolve, 'Jacobian', 'on'); % Note that this is different in newer matlab versions.\n",
    "    sol = fsolve(func, guess, options);\n",
    "\n",
    "    k_delta = sol(9);\n",
    "    k_phi_dot = sol(10);\n",
    "\n",
    "function sexprs = eval_sub_exprs(unknowns, knowns, sexprs)\n",
    "\n",
    "    {unknowns_knowns_expansion}\n",
    "\n",
    "    {sub_exprs}\n",
    "\n",
    "function [zero, zero_jac] = eval_func(unknowns, knowns)\n",
    "\n",
    "    {unknowns_knowns_expansion}\n",
    "\n",
    "    sexprs = zeros({num_sub_exprs});\n",
    "    sexprs = eval_sub_exprs(unknowns, knowns, sexprs);\n",
    "\n",
    "    {zero}\n",
    "    \n",
    "    if nargout > 1\n",
    "    \n",
    "        {zero_jac}\n",
    "    \n",
    "    end\n",
    "'''"
   ]
  },
  {
   "cell_type": "code",
   "execution_count": 42,
   "metadata": {
    "collapsed": true
   },
   "outputs": [],
   "source": [
    "def matlab_vector():\n",
    "    start = 1\n",
    "    while True:\n",
    "        name = 'sexprs({})'.format(start)\n",
    "        s = Symbol(name)\n",
    "        yield s\n",
    "        start += 1"
   ]
  },
  {
   "cell_type": "code",
   "execution_count": 43,
   "metadata": {
    "collapsed": false
   },
   "outputs": [],
   "source": [
    "sub_exprs, main_exprs = cse((zero_all, jacobian), symbols=matlab_vector())"
   ]
  },
  {
   "cell_type": "code",
   "execution_count": 44,
   "metadata": {
    "collapsed": false
   },
   "outputs": [],
   "source": [
    "sub_exprs_txt = [re.sub(r'sexprs_(\\d*)_', r'sexprs(\\1)', octave_code(y, assign_to=x)) for x, y in sub_exprs]"
   ]
  },
  {
   "cell_type": "code",
   "execution_count": 45,
   "metadata": {
    "collapsed": false
   },
   "outputs": [],
   "source": [
    "main_exprs_txt = [re.sub(r'sexprs_(\\d*)_', r'sexprs(\\1)', octave_code(expr, assign_to=var))\n",
    "                  for var, expr in zip(['zero', 'zero_jac'], main_exprs)]"
   ]
  },
  {
   "cell_type": "code",
   "execution_count": 46,
   "metadata": {
    "collapsed": false
   },
   "outputs": [],
   "source": [
    "expand_unknowns_knowns = ([octave_code(Symbol('unknowns({})'.format(i + 1)), assign_to=s) for i, s in enumerate(unknowns)] +\n",
    " [octave_code(Symbol('knowns({})'.format(i + 1)), assign_to=s) for i, s in enumerate(knowns)])\n",
    "expand_unknowns_knowns = [re.sub(r'knowns_(\\d*)_', r'knowns(\\1)', t) for t in expand_unknowns_knowns]"
   ]
  },
  {
   "cell_type": "code",
   "execution_count": 47,
   "metadata": {
    "collapsed": false,
    "scrolled": true
   },
   "outputs": [
    {
     "name": "stdout",
     "output_type": "stream",
     "text": [
      "function [k_delta, k_phi_dot] = compute_inner_gains(A, B, omega_nm, zeta_nm, zeta_delta, zeta_phidot)\n",
      "% function [k_delta, k_phi_dot] = compute_inner_gains(A, B, omega_nm, zeta_nm, zeta_delta, zeta_phidot)\n",
      "% Returns the steer and roll rate gains given the state and input\n",
      "% matrices of the bicycle, the neuromuscular block's natural\n",
      "% frequency and damping ratio, and the desired closed loop damping\n",
      "% ratio of the signature neuromuscular peak in each of the closed loops.\n",
      "%\n",
      "%   Parameters\n",
      "%   ==========\n",
      "%\n",
      "%   A : double, size 11 x 11\n",
      "%       The state matrix for a linear Whipple bicycle model, where\n",
      "%       the 4th, 7th, 9th, and 11th states are [roll angle, steer angle, roll angular rate,\n",
      "%       steer angular rate].\n",
      "%   B : double, size 11 x 3\n",
      "%       The input matrix for a linear Whipple bicycle model, where\n",
      "%       the 2nd input is [steer torque].\n",
      "%   omega_nm : double, size 1 x 1\n",
      "%       The natural frequency of the neuromuscular model.\n",
      "%   zeta_nm : double, size 1 x 1\n",
      "%       The damping ratio of the neuromuscular model.\n",
      "%   zeta_delta : double, size 1 x 1\n",
      "%       The damping ratio of the desired closed loop pole.\n",
      "%   zeta_phidot : double, size 1 x 1\n",
      "%       The damping ratio of the desired closed loop pole.\n",
      "%\n",
      "%   Returns\n",
      "%   =======\n",
      "%   k_delta : float\n",
      "%       The steer angle feedback gain.\n",
      "%   k_phi_dot : float\n",
      "%       The roll rate feedback gain.\n",
      "\n",
      "    knowns = [omega_nm, zeta_delta, zeta_phidot, zeta_nm, reshape(A([9, 11], [4, 7, 9, 11]).', 1, []), reshape(B([9, 11], 2).', 1, [])];\n",
      "\n",
      "    func = @(unknowns) eval_func(unknowns, knowns);\n",
      "\n",
      "    % TODO : This guess comes from the known solution for the Benchmark bike\n",
      "    % at 5 m/s, this should be made more robust.\n",
      "    guess = [-8.71798244e3, 1.58227411e3, 1.23258658e3, 5.47761600e1, 5.59477325e1, 1.28748836e3, 2.57663234e3, -8.43896178e3, 4.65520391e1, -5.21602768e-2, 1.39479436e1, 1.41766516e1];\n",
      "\n",
      "    options = optimoptions(@fsolve, 'Jacobian', 'on'); % Note that this is different in newer matlab versions.\n",
      "    sol = fsolve(func, guess, options);\n",
      "\n",
      "    k_delta = sol(9);\n",
      "    k_phi_dot = sol(10);\n",
      "\n",
      "function sexprs = eval_sub_exprs(unknowns, knowns, sexprs)\n",
      "\n",
      "    c0 = unknowns(1);\n",
      "    c1 = unknowns(2);\n",
      "    c2 = unknowns(3);\n",
      "    c3 = unknowns(4);\n",
      "    c4 = unknowns(5);\n",
      "    c5 = unknowns(6);\n",
      "    c6 = unknowns(7);\n",
      "    c7 = unknowns(8);\n",
      "    k_\\delta = unknowns(9);\n",
      "    k_{\\dot{\\phi}} = unknowns(10);\n",
      "    \\omega_\\delta = unknowns(11);\n",
      "    \\omega_\\dot{\\phi} = unknowns(12);\n",
      "    \\omega_{nm} = knowns(1);\n",
      "    \\zeta_\\delta = knowns(2);\n",
      "    \\zeta_\\dot{\\phi} = knowns(3);\n",
      "    \\zeta_{nm} = knowns(4);\n",
      "    a_20 = knowns(5);\n",
      "    a_21 = knowns(6);\n",
      "    a_22 = knowns(7);\n",
      "    a_23 = knowns(8);\n",
      "    a_30 = knowns(9);\n",
      "    a_31 = knowns(10);\n",
      "    a_32 = knowns(11);\n",
      "    a_33 = knowns(12);\n",
      "    b_21 = knowns(13);\n",
      "    b_31 = knowns(14);\n",
      "\n",
      "    sexprs(1) = 2*\\omega_\\delta;\n",
      "    sexprs(2) = \\zeta_\\delta.*sexprs(1);\n",
      "    sexprs(3) = -sexprs(2);\n",
      "    sexprs(4) = 2*\\omega_{nm}.*\\zeta_{nm};\n",
      "    sexprs(5) = -a_22 - a_33 + sexprs(4);\n",
      "    sexprs(6) = \\omega_\\delta.^2;\n",
      "    sexprs(7) = -sexprs(6);\n",
      "    sexprs(8) = \\omega_{nm}.^2;\n",
      "    sexprs(9) = a_22.*a_33;\n",
      "    sexprs(10) = a_23.*a_32;\n",
      "    sexprs(11) = -a_20 - a_22.*sexprs(4) - a_31 - a_33.*sexprs(4) - sexprs(10) + sexprs(8) + sexprs(9);\n",
      "    sexprs(12) = a_20.*a_33;\n",
      "    sexprs(13) = a_22.*a_31;\n",
      "    sexprs(14) = a_21.*a_32;\n",
      "    sexprs(15) = a_23.*a_30;\n",
      "    sexprs(16) = a_22.*sexprs(8);\n",
      "    sexprs(17) = -a_20.*sexprs(4) - a_31.*sexprs(4) - a_33.*sexprs(8) - sexprs(10).*sexprs(4) + sexprs(12) + sexprs(13) - sexprs(14) - sexprs(15) - sexprs(16) + sexprs(4).*sexprs(9);\n",
      "    sexprs(18) = a_20.*a_31;\n",
      "    sexprs(19) = a_21.*a_30;\n",
      "    sexprs(20) = a_20.*sexprs(8);\n",
      "    sexprs(21) = b_31.*sexprs(8);\n",
      "    sexprs(22) = k_\\delta.*sexprs(21);\n",
      "    sexprs(23) = -a_31.*sexprs(8) - sexprs(10).*sexprs(8) + sexprs(12).*sexprs(4) + sexprs(13).*sexprs(4) - sexprs(14).*sexprs(4) - sexprs(15).*sexprs(4) + sexprs(18) - sexprs(19) - sexprs(20) + sexprs(22) + sexprs(8).*sexprs(9);\n",
      "    sexprs(24) = b_21.*sexprs(8);\n",
      "    sexprs(25) = a_32.*sexprs(24);\n",
      "    sexprs(26) = b_31.*sexprs(16);\n",
      "    sexprs(27) = k_\\delta.*sexprs(25) - k_\\delta.*sexprs(26) + sexprs(12).*sexprs(8) + sexprs(13).*sexprs(8) - sexprs(14).*sexprs(8) - sexprs(15).*sexprs(8) + sexprs(18).*sexprs(4) - sexprs(19).*sexprs(4);\n",
      "    sexprs(28) = a_30.*sexprs(24);\n",
      "    sexprs(29) = b_31.*sexprs(20);\n",
      "    sexprs(30) = k_\\delta.*sexprs(28) - k_\\delta.*sexprs(29) + sexprs(18).*sexprs(8) - sexprs(19).*sexprs(8);\n",
      "    sexprs(31) = 2*\\omega_\\dot{\\phi};\n",
      "    sexprs(32) = \\zeta_\\dot{\\phi}.*sexprs(31);\n",
      "    sexprs(33) = -sexprs(32);\n",
      "    sexprs(34) = \\omega_\\dot{\\phi}.^2;\n",
      "    sexprs(35) = -sexprs(34);\n",
      "    sexprs(36) = k_\\delta.*sexprs(24);\n",
      "    sexprs(37) = a_23.*sexprs(22);\n",
      "    sexprs(38) = a_33.*b_21.*sexprs(8);\n",
      "    sexprs(39) = k_\\delta.*sexprs(38);\n",
      "    sexprs(40) = a_21.*sexprs(22);\n",
      "    sexprs(41) = a_31.*b_21.*sexprs(8);\n",
      "    sexprs(42) = k_\\delta.*sexprs(41);\n",
      "    sexprs(43) = 2*\\zeta_\\delta;\n",
      "    sexprs(44) = sexprs(25) - sexprs(26);\n",
      "    sexprs(45) = sexprs(28) - sexprs(29);\n",
      "    sexprs(46) = 2*\\zeta_\\dot{\\phi};\n",
      "    sexprs(47) = b_31.*k_{\\dot{\\phi}}.*sexprs(8);\n",
      "\n",
      "function [zero, zero_jac] = eval_func(unknowns, knowns)\n",
      "\n",
      "    c0 = unknowns(1);\n",
      "    c1 = unknowns(2);\n",
      "    c2 = unknowns(3);\n",
      "    c3 = unknowns(4);\n",
      "    c4 = unknowns(5);\n",
      "    c5 = unknowns(6);\n",
      "    c6 = unknowns(7);\n",
      "    c7 = unknowns(8);\n",
      "    k_\\delta = unknowns(9);\n",
      "    k_{\\dot{\\phi}} = unknowns(10);\n",
      "    \\omega_\\delta = unknowns(11);\n",
      "    \\omega_\\dot{\\phi} = unknowns(12);\n",
      "    \\omega_{nm} = knowns(1);\n",
      "    \\zeta_\\delta = knowns(2);\n",
      "    \\zeta_\\dot{\\phi} = knowns(3);\n",
      "    \\zeta_{nm} = knowns(4);\n",
      "    a_20 = knowns(5);\n",
      "    a_21 = knowns(6);\n",
      "    a_22 = knowns(7);\n",
      "    a_23 = knowns(8);\n",
      "    a_30 = knowns(9);\n",
      "    a_31 = knowns(10);\n",
      "    a_32 = knowns(11);\n",
      "    a_33 = knowns(12);\n",
      "    b_21 = knowns(13);\n",
      "    b_31 = knowns(14);\n",
      "\n",
      "    sexprs = zeros(47);\n",
      "    sexprs = eval_sub_exprs(unknowns, knowns, sexprs);\n",
      "\n",
      "    zero = [-c3 + sexprs(3) + sexprs(5); -c2 - c3.*sexprs(2) + sexprs(11) + sexprs(7); -c1 - c2.*sexprs(2) - c3.*sexprs(6) + sexprs(17); -c0 - c1.*sexprs(2) - c2.*sexprs(6) + sexprs(23); -c0.*sexprs(2) - c1.*sexprs(6) + sexprs(27); -c0.*sexprs(6) + sexprs(30); -c4 + sexprs(33) + sexprs(5); -c4.*sexprs(32) - c5 + sexprs(11) + sexprs(35); -c4.*sexprs(34) - c5.*sexprs(32) - c6 + k_{\\dot{\\phi}}.*sexprs(36) + sexprs(17); -c5.*sexprs(34) - c6.*sexprs(32) - c7 + k_{\\dot{\\phi}}.*sexprs(37) - k_{\\dot{\\phi}}.*sexprs(39) + sexprs(23); -c6.*sexprs(34) - c7.*sexprs(32) + k_{\\dot{\\phi}}.*sexprs(40) - k_{\\dot{\\phi}}.*sexprs(42) + sexprs(27); -c7.*sexprs(34) + sexprs(30)];\n",
      "    \n",
      "    if nargout > 1\n",
      "    \n",
      "        zero_jac = [        0         0         0        -1          0          0          0          0                                                          0                       0                     -sexprs(43)                                0;\n",
      "0         0        -1 sexprs(3)          0          0          0          0                                                          0                       0     -c3.*sexprs(43) - sexprs(1)                                0;\n",
      "0        -1 sexprs(3) sexprs(7)          0          0          0          0                                                          0                       0 -c2.*sexprs(43) - c3.*sexprs(1)                                0;\n",
      "-1 sexprs(3) sexprs(7)         0          0          0          0          0                                                 sexprs(21)                       0 -c1.*sexprs(43) - c2.*sexprs(1)                                0;\n",
      "sexprs(3) sexprs(7)         0         0          0          0          0          0                                                 sexprs(44)                       0 -c0.*sexprs(43) - c1.*sexprs(1)                                0;\n",
      "sexprs(7)         0         0         0          0          0          0          0                                                 sexprs(45)                       0                  -c0.*sexprs(1)                                0;\n",
      "0         0         0         0         -1          0          0          0                                                          0                       0                               0                      -sexprs(46);\n",
      "0         0         0         0 sexprs(33)         -1          0          0                                                          0                       0                               0     -c4.*sexprs(46) - sexprs(31);\n",
      "0         0         0         0 sexprs(35) sexprs(33)         -1          0                                 k_{\\dot{\\phi}}.*sexprs(24)              sexprs(36)                               0 -c4.*sexprs(31) - c5.*sexprs(46);\n",
      "0         0         0         0          0 sexprs(35) sexprs(33)         -1 a_23.*sexprs(47) - k_{\\dot{\\phi}}.*sexprs(38) + sexprs(21) sexprs(37) - sexprs(39)                               0 -c5.*sexprs(31) - c6.*sexprs(46);\n",
      "0         0         0         0          0          0 sexprs(35) sexprs(33) a_21.*sexprs(47) - k_{\\dot{\\phi}}.*sexprs(41) + sexprs(44) sexprs(40) - sexprs(42)                               0 -c6.*sexprs(31) - c7.*sexprs(46);\n",
      "0         0         0         0          0          0          0 sexprs(35)                                                 sexprs(45)                       0                               0                  -c7.*sexprs(31)];\n",
      "    \n",
      "    end\n",
      "\n"
     ]
    }
   ],
   "source": [
    "m_func_txt = m_func_template.format(\n",
    "                                    sub_exprs='\\n    '.join(sub_exprs_txt),\n",
    "                                    num_sub_exprs=len(sub_exprs_txt),\n",
    "                                    unknowns_knowns_expansion='\\n    '.join(expand_unknowns_knowns),\n",
    "                                    zero=main_exprs_txt[0],\n",
    "                                    zero_jac=main_exprs_txt[1])\n",
    "print(m_func_txt)"
   ]
  },
  {
   "cell_type": "code",
   "execution_count": 48,
   "metadata": {
    "collapsed": true
   },
   "outputs": [],
   "source": [
    "with open('../src/compute_inner_gains.m', 'w') as f:\n",
    "    f.write(m_func_txt)"
   ]
  },
  {
   "cell_type": "markdown",
   "metadata": {},
   "source": [
    "# Generate a Python Function"
   ]
  },
  {
   "cell_type": "code",
   "execution_count": 49,
   "metadata": {
    "collapsed": true
   },
   "outputs": [],
   "source": [
    "py_func_template = '''\\\n",
    "def compute_inner_gains(A, B, omega_nm, zeta_nm, zeta_delta, zeta_phidot):\n",
    "    \"\"\"Returns the steer and roll rate gains given the state and input matrices\n",
    "    of the bicycle, the neuromuscular block's natural frequency and damping\n",
    "    ratio, and the desired closed loop damping ratio of the signature\n",
    "    neuromuscular peak in each of the closed loops.\n",
    "\n",
    "    Parameters\n",
    "    ==========\n",
    "\n",
    "    A : array_like, shape(4, 4)\n",
    "        The state matrix for a linear Whipple bicycle model, where states are\n",
    "        [roll angle, steer angle, roll angular rate, steer angular rate].\n",
    "    B : array_like, shape(4, 2)\n",
    "        The input matrix for a linear Whipple bicycle model, where\n",
    "        the 2nd input is [steer torque].\n",
    "    omega_nm : float\n",
    "        The natural frequency of the neuromuscular model.\n",
    "    zeta_nm : float\n",
    "        The damping ratio of the neuromuscular model.\n",
    "    zeta_delta : float\n",
    "        The damping ratio of the desired closed loop pole.\n",
    "    zeta_phidot : float\n",
    "        The damping ratio of the desired closed loop pole.\n",
    "\n",
    "    Returns\n",
    "    =======\n",
    "    k_delta : float\n",
    "        The steer angle feedback gain.\n",
    "    k_phi_dot : float\n",
    "        The roll rate feedback gain.\n",
    "\n",
    "    \"\"\"\n",
    "\n",
    "    knowns = [omega_nm, zeta_delta, zeta_phidot, zeta_nm, reshape(A([9, 11], [4, 7, 9, 11]).', 1, []), reshape(B([9, 11], 2).', 1, [])];\n",
    "\n",
    "    % TODO : This guess comes from the known solution for the Benchmark bike\n",
    "    % at 5 m/s, this should be made more robust.\n",
    "    guess = np.array([-8.71798244e3, 1.58227411e3, 1.23258658e3, 5.47761600e1,\n",
    "                      5.59477325e1, 1.28748836e3, 2.57663234e3, -8.43896178e3,\n",
    "                      4.65520391e1, -5.21602768e-2, 1.39479436e1, 1.41766516e1])\n",
    "    \n",
    "    sexprs = np.zeros({num_sub_exprs});\n",
    "\n",
    "    res = fsolve(eval_zero, guess, fprime=eval_jacobian, args=(knowns, sexprs))\n",
    "    \n",
    "    k_delta = res(8)\n",
    "    k_phidot = res(9)\n",
    "\n",
    "    return k_delta, k_phidot\n",
    "    \n",
    "\n",
    "def eval_sub_exprs(unknowns, knowns, sexprs):\n",
    "\n",
    "    {unknowns_knowns_expansion}\n",
    "\n",
    "    {sub_exprs}\n",
    "    \n",
    "    return sexprs\n",
    "   \n",
    "   \n",
    "def eval_zero(unknowns, knowns, sexprs):\n",
    "\n",
    "    update_sub_exprs(unknowns, knowns, sexprs)\n",
    "\n",
    "    {zero}\n",
    "\n",
    "    return zero\n",
    "    \n",
    "    \n",
    "def eval_jacobian(unknowns, knowns):\n",
    "\n",
    "    {unknowns_knowns_expansion}\n",
    "\n",
    "    sexprs = eval_sub_exprs(unknowns, knowns, sexprs);\n",
    "\n",
    "    {zero_jac}\n",
    "\n",
    "'''"
   ]
  },
  {
   "cell_type": "code",
   "execution_count": 50,
   "metadata": {
    "collapsed": false
   },
   "outputs": [
    {
     "name": "stdout",
     "output_type": "stream",
     "text": [
      "# packages in environment at /home/moorepants/miniconda3/envs/bmd2016:\n",
      "#\n",
      "Using Anaconda API: https://api.anaconda.org\n",
      "cairo                     1.12.18                       6  \n",
      "uncertainties             2.4.8                    py35_0    conda-forge\n",
      "cycler                    0.10.0                   py35_0  \n",
      "decorator                 4.0.10                   py35_0  \n",
      "dill                      0.2.5                    py35_0  \n",
      "entrypoints               0.2.2                    py35_0  \n",
      "fontconfig                2.11.1                        6  \n",
      "freetype                  2.5.5                         1  \n",
      "glib                      2.43.0                        1  \n",
      "harfbuzz                  0.9.39                        1  \n",
      "ipykernel                 4.3.1                    py35_0  \n",
      "ipython                   5.0.0                    py35_0  \n",
      "ipython-notebook          4.0.4                    py35_0  \n",
      "ipython_genutils          0.1.0                    py35_0  \n",
      "jinja2                    2.8                      py35_1  \n",
      "jsonschema                2.5.1                    py35_0  \n",
      "jupyter_client            4.3.0                    py35_0  \n",
      "jupyter_core              4.1.0                    py35_0  \n",
      "libffi                    3.2.1                         0  \n",
      "libgfortran               3.0.0                         1  \n",
      "libpng                    1.6.22                        0  \n",
      "libsodium                 1.0.10                        0  \n",
      "libxml2                   2.9.2                         0  \n",
      "markupsafe                0.23                     py35_2  \n",
      "matplotlib                1.5.1               np111py35_0  \n",
      "mistune                   0.7.2                    py35_0  \n",
      "mkl                       11.3.3                        0  \n",
      "dynamicisttoolkit         0.5.0                    py35_0    moorepants\n",
      "mpmath                    0.19                     py35_1  \n",
      "nbconvert                 4.2.0                    py35_0  \n",
      "nbformat                  4.0.1                    py35_0  \n",
      "notebook                  4.2.1                    py35_0  \n",
      "numpy                     1.11.1                   py35_0  \n",
      "openssl                   1.0.2h                        1  \n",
      "pango                     1.39.0                        1  \n",
      "path.py                   8.2.1                    py35_0  \n",
      "pexpect                   4.0.1                    py35_0  \n",
      "pickleshare               0.7.2                    py35_0  \n",
      "pip                       8.1.2                    py35_0  \n",
      "pixman                    0.32.6                        0  \n",
      "prompt_toolkit            1.0.3                    py35_0  \n",
      "ptyprocess                0.5.1                    py35_0  \n",
      "pygments                  2.1.3                    py35_0  \n",
      "pyparsing                 2.1.4                    py35_0  \n",
      "pyqt                      4.11.4                   py35_4  \n",
      "python                    3.5.2                         0  \n",
      "python-dateutil           2.5.3                    py35_0  \n",
      "pytz                      2016.6.1                 py35_0  \n",
      "pyyaml                    3.11                     py35_4  \n",
      "pyzmq                     15.3.0                   py35_0  \n",
      "qt                        4.8.7                         4  \n",
      "readline                  6.2                           2  \n",
      "scipy                     0.17.1              np111py35_1  \n",
      "setuptools                23.0.0                   py35_0  \n",
      "simplegeneric             0.8.1                    py35_1  \n",
      "sip                       4.18                     py35_0  \n",
      "six                       1.10.0                   py35_0  \n",
      "sqlite                    3.13.0                        0  \n",
      "terminado                 0.6                      py35_0  \n",
      "tk                        8.5.18                        0  \n",
      "tornado                   4.4.1                    py35_0  \n",
      "traitlets                 4.2.2                    py35_0  \n",
      "wcwidth                   0.1.7                    py35_0  \n",
      "wheel                     0.29.0                   py35_0  \n",
      "xz                        5.2.2                         0  \n",
      "yaml                      0.1.6                         0  \n",
      "zeromq                    4.1.4                         0  \n",
      "zlib                      1.2.8                         3  \n"
     ]
    }
   ],
   "source": [
    "!conda list"
   ]
  }
 ],
 "metadata": {
  "kernelspec": {
   "display_name": "Python 3",
   "language": "python",
   "name": "python3"
  },
  "language_info": {
   "codemirror_mode": {
    "name": "ipython",
    "version": 3
   },
   "file_extension": ".py",
   "mimetype": "text/x-python",
   "name": "python",
   "nbconvert_exporter": "python",
   "pygments_lexer": "ipython3",
   "version": "3.5.2"
  }
 },
 "nbformat": 4,
 "nbformat_minor": 0
}
