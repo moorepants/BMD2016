{
 "cells": [
  {
   "cell_type": "markdown",
   "metadata": {
    "nbpresent": {
     "id": "40a60bb3-b809-4acc-bf1b-a66025df2850"
    },
    "slideshow": {
     "slide_type": "slide"
    }
   },
   "source": [
    "# An Optimal Handling Bicycle\n",
    "\n",
    "Jason K. Moore, Mont Hubbard, Ronald A. Hess  \n",
    "University of California, Davis\n",
    "\n",
    "BMD 2016 Milwaukee, Wisconsin, September 21-23\n",
    "\n",
    "[CC-BY-4.0](https://creativecommons.org/licenses/by/4.0/)"
   ]
  },
  {
   "cell_type": "markdown",
   "metadata": {
    "slideshow": {
     "slide_type": "slide"
    }
   },
   "source": [
    "![](https://upload.wikimedia.org/wikipedia/commons/8/84/Bicycle_evolution-en.svg)\n",
    "<p style=\"font-size:0.5em;\">CC BY 3.0 (http://creativecommons.org/licenses/by/3.0)], via Wikimedia Commons</p>"
   ]
  },
  {
   "cell_type": "markdown",
   "metadata": {
    "nbpresent": {
     "id": "b0b4bc95-a60c-4215-9346-7e6bbc7344f7"
    },
    "slideshow": {
     "slide_type": "notes"
    }
   },
   "source": [
    "<img src=\"bicycle-type-chart.jpg\" width=800px>\n",
    "©[Pop Chart Lab](https://www.popchartlab.com/products/the-evolution-of-bicycles)"
   ]
  },
  {
   "cell_type": "markdown",
   "metadata": {
    "slideshow": {
     "slide_type": "notes"
    }
   },
   "source": [
    "## Notes\n",
    "\n",
    "The evolution of the bicycle has brought us a great deal of different designs but, in general, they do not vary drasticly from from the so called safety bicycle of the late 1800s. Riders of all the designs you see here will likely be able to tell you that one design is preferable for manueravibilty. For example, a velodrome racer chooses bicycles that have slightly different geometry than a road racing bicycle."
   ]
  },
  {
   "cell_type": "markdown",
   "metadata": {
    "nbpresent": {
     "id": "77111e6c-8569-44e1-a733-ed2b2c2a5f10"
    },
    "slideshow": {
     "slide_type": "slide"
    }
   },
   "source": [
    "![](wacky-bicycles/wacky-bicycles.gif)"
   ]
  },
  {
   "cell_type": "markdown",
   "metadata": {
    "slideshow": {
     "slide_type": "notes"
    }
   },
   "source": [
    "## Notes\n",
    "\n",
    "It turns out there are bicycles that have more abnormal geometry. For as long as bicycles have existed, enthusiasts have experimented with variations on the design. One might ask whether any of these designs is more manuerable than others. When the physical properties of the vehicle are this much different it doesn't take an expert cyclist to detect good handling from bad."
   ]
  },
  {
   "cell_type": "markdown",
   "metadata": {
    "nbpresent": {
     "id": "1ca2afec-b5e9-43da-9866-4c38066d8ed2"
    },
    "slideshow": {
     "slide_type": "slide"
    }
   },
   "source": [
    "# Bicycle Designers' Holy Grail\n",
    "\n",
    "How can a vehicle designer decide whether changes to the vehicle's geometry, layout, components, or control system are better or worse for the human's intended use of the vehicle?\n",
    "\n",
    "# Our Goal\n",
    "\n",
    "Develop an analytical method to simultaneously predict the human's perception of handling and the human's ability to perform adequately."
   ]
  },
  {
   "cell_type": "markdown",
   "metadata": {
    "slideshow": {
     "slide_type": "notes"
    }
   },
   "source": [
    "## Notes\n",
    "\n",
    "Ideally a designer of bicycles, or any vehicle, would like to know how the physical parameters of the vehicle affect its performance. Some aspects are more well studied, for example how suspension makes a bicycle more comfortable to ride or what the optimal crank design is to provide maximum power. But our understanding of how geometry, mass, inertia, tire properties affect the manuerability, in particular lateral handling, of single track vehicles isn't all that clear. In this talk I'm going to present a method of quantifying the lateral handling qualities of a bicycle and exploring bicycle designs that give different handling, ultimately searching for an optimal handling bicycle."
   ]
  },
  {
   "cell_type": "markdown",
   "metadata": {
    "nbpresent": {
     "id": "1f7e2eba-86e5-4aa4-ac0c-e1549fc0ffc6"
    },
    "slideshow": {
     "slide_type": "slide"
    }
   },
   "source": [
    "# What is handling?\n",
    "\n",
    "General definition:\n",
    "\n",
    "> The ease and precision with which the human can complete a given control task.\n",
    "\n",
    "**ease** is a measure of both human perception of ease and physiological measures of ease\n",
    "\n",
    "**precision** is the objective measurements to perform specific tasks"
   ]
  },
  {
   "cell_type": "markdown",
   "metadata": {
    "slideshow": {
     "slide_type": "notes"
    }
   },
   "source": [
    "## Notes\n",
    "\n",
    "- lateral control authority"
   ]
  },
  {
   "cell_type": "markdown",
   "metadata": {
    "slideshow": {
     "slide_type": "slide"
    }
   },
   "source": [
    "# Our Method\n",
    "\n",
    "**1) The Plant**: Construct a linear open loop vehicle/rider model\n",
    "\n",
    "**2) The Controller**: Design a human-like compensatory feedback control structure\n",
    "\n",
    "**3) Choose the Gains**: Given the plant's parameter values, choose controller parameter values for human-like control.\n",
    "\n",
    "**4) Handling Quality Metric**: Estimate the activity in the inner roll tracking loop for handling predictions.\n",
    "\n",
    "<p style=\"font-size:0.5em;\">Hess, Ronald, Jason K. Moore, and Mont Hubbard. “Modeling the Manually Controlled Bicycle.” IEEE Transactions on Systems, Man, and Cybernetics - Part A: Systems and Humans 42, no. 3 (May 2012): 545–57. doi:10.1109/TSMCA.2011.2164244.</p>"
   ]
  },
  {
   "cell_type": "markdown",
   "metadata": {
    "slideshow": {
     "slide_type": "slide"
    }
   },
   "source": [
    "# 1) Plant\n",
    "\n",
    "> The plant describes the open loop dynamics of the system\n",
    "\n",
    "## Our plant is defined as:\n",
    "\n",
    "> open loop vehicle dynamics of the bicycle combined with open loop biomechanical dynamics of the rider\n",
    "\n",
    "**Inputs**: Rider Compensation Error  \n",
    "\n",
    "**Outputs**: Vehicle/Rider States  "
   ]
  },
  {
   "cell_type": "markdown",
   "metadata": {
    "nbpresent": {
     "id": "ae78db8f-b97f-4e03-9a98-f5bb4380d6a2"
    },
    "slideshow": {
     "slide_type": "slide"
    }
   },
   "source": [
    "# Whipple Bicycle Model\n",
    "\n",
    "Simplest bicycle model that exhibits both non-minimum phase behavior and open loop stability.\n",
    "\n",
    "$$\n",
    "\\mathbf{M}\\ddot{\\mathbf{q}} + v\\mathbf{C}_1\\dot{\\mathbf{q}} +\n",
    "\\left[ g \\mathbf{K}_0 + v^2 \\mathbf{K}_2 \\right] \\mathbf{q} = \\mathbf{F}\n",
    "$$\n",
    "\n",
    "<table>\n",
    "  <tr>\n",
    "    <td>\n",
    "      <img width=300px src=\"F1.large.jpg\" style=\"float:left;\" />\n",
    "    </td>\n",
    "    <td>\n",
    "      <img width=300px src=\"F2.large.jpg\" style=\"float:right;\" />\n",
    "    </td>\n",
    "  </tr>\n",
    "</table>\n",
    "\n",
    "<p style=\"font-size:0.5em;\">Meijaard, J. P., Jim M. Papadopoulos, Andy Ruina, and A. L. Schwab. “Linearized Dynamics Equations for the Balance and Steer of a Bicycle: A Benchmark and Review.” Proceedings of the Royal Society A: Mathematical, Physical and Engineering Sciences 463, no. 2084 (August 2007): 1955–82.</p>"
   ]
  },
  {
   "cell_type": "markdown",
   "metadata": {
    "nbpresent": {
     "id": "6dcbef74-6183-4bc6-a82e-94f3b6778b68"
    },
    "slideshow": {
     "slide_type": "slide"
    }
   },
   "source": [
    "# Simple Neuromuscular Model\n",
    "\n",
    "Simple representation of limb dynamics as a second order underdamped system with sufficient bandwidth.\n",
    "\n",
    "**Input**: Rider Compensation Error  \n",
    "**Output**: Steer Torque\n",
    "\n",
    "\n",
    "$$\n",
    "G_{nm}(s) = \\frac{\\omega_{nm}^2}{s^2 + 2\\zeta_{nm}\\omega_{nm}s + \\omega_{nm}^2}\n",
    "$$\n",
    "where\n",
    "$$\\omega_{nm}=30 \\textrm{ rad/s} \\\\\n",
    "\\zeta_{nm}=0.707$$"
   ]
  },
  {
   "cell_type": "markdown",
   "metadata": {
    "slideshow": {
     "slide_type": "notes"
    }
   },
   "source": [
    "30 rad/s choice\n",
    "\n",
    "when you close the loops the neuromuscular peaking is right where you select\n",
    "\n",
    "0.35 s may be typical tau values\n",
    "\n",
    "phase effects from this model will be similiar to the explicit tau in the crossover model, plus we get neuromuscular peaking"
   ]
  },
  {
   "cell_type": "markdown",
   "metadata": {
    "slideshow": {
     "slide_type": "slide"
    }
   },
   "source": [
    "# 2) Controller Design Requirements\n",
    "\n",
    "1. Control is compensatory in nature with no feed-forward or preview elements.\n",
    "2. Roll stabilization is the primary task, with path following addressed in the outer loops. The\n",
    "   system should be stable in roll before closing the path following loops.\n",
    "3. The input to the bicycle model is steer torque, $T_\\delta$ (as opposed to steer angle, $\\delta$)."
   ]
  },
  {
   "cell_type": "markdown",
   "metadata": {
    "nbpresent": {
     "id": "8379d29b-e9f7-4b26-9a96-593a60d6e6ba"
    },
    "slideshow": {
     "slide_type": "slide"
    }
   },
   "source": [
    "# Continued...\n",
    "\n",
    "<ol start=\"4\">\n",
    "  <li>The closed roll rate loop should exhibit similarities to the rate feedback loops found in more\n",
    "   general laboratory tracking tasks of a human operator.</li>\n",
    "  <li>The system should be simple. In our case, only simple gains are needed to stabilize the\n",
    "   system and close all the loops.</li>\n",
    "  <li>We should see evidence of the crossover model in the roll, heading, and lateral deviation\n",
    "   loops.</li>\n",
    "</ol>"
   ]
  },
  {
   "cell_type": "markdown",
   "metadata": {
    "nbpresent": {
     "id": "26d56ceb-bb8e-48c7-89a7-5ec5cc93b4be"
    },
    "slideshow": {
     "slide_type": "slide"
    }
   },
   "source": [
    "# Crossover Model\n",
    "\n",
    "The human adopts a control behavior such that the open loop system behaves as an integrator at a desired crossover frequency with a neuromuscular delay.\n",
    "\n",
    "$$\n",
    "G_{human}G_{plant}(s) = \\frac{\\omega_c e^{-\\tau_e s}}{s}\n",
    "$$\n",
    "\n",
    "The crossover frequency is correlated to the human's agressiveness.\n",
    "\n",
    "<p style=\"font-size: 0.5em;\">McRuer, D. T., and E. Krendel. “Mathematical Models of Human Pilot Behavior.” Advisory Group on Aerospace Research and Development, January 1974.</p>"
   ]
  },
  {
   "cell_type": "markdown",
   "metadata": {
    "slideshow": {
     "slide_type": "slide"
    }
   },
   "source": [
    "# Inner Loops\n",
    "\n",
    "The three primary sequential feedback loops required to command a roll angle.\n",
    "\n",
    "![](inner-loops.png)"
   ]
  },
  {
   "cell_type": "markdown",
   "metadata": {
    "nbpresent": {
     "id": "3daeec1e-63b3-444a-80a7-f5e3cf42c4c8"
    },
    "slideshow": {
     "slide_type": "slide"
    }
   },
   "source": [
    "# Outer Loops\n",
    "\n",
    "The outer two sequential feedback loops required to command heading and front wheel \n",
    "lateral deviation.\n",
    "\n",
    "![](outer-loops.png)"
   ]
  },
  {
   "cell_type": "markdown",
   "metadata": {
    "slideshow": {
     "slide_type": "slide"
    }
   },
   "source": [
    "# 3) Gain Selection\n",
    "\n",
    "- Inner two gains are selected such that steer and roll loops each have pole pairs with a 0.15 damping ratio.\n",
    "- Outer gains are selected such that the crossover model holds starting at 2 rad/s."
   ]
  },
  {
   "cell_type": "markdown",
   "metadata": {
    "slideshow": {
     "slide_type": "slide"
    }
   },
   "source": [
    "# Closed Loop Simulations\n",
    "\n",
    "The controller is robust for a wide variety of plant values and ensures that task performance is a constant.\n",
    "\n",
    "![](benchmark-sim.png)"
   ]
  },
  {
   "cell_type": "markdown",
   "metadata": {
    "nbpresent": {
     "id": "818e4250-fa28-47e0-8c1f-7fa313d1f982"
    },
    "slideshow": {
     "slide_type": "slide"
    }
   },
   "source": [
    "# Controller Validation Experiments\n",
    "\n",
    "![](davis-experiment.jpg)"
   ]
  },
  {
   "cell_type": "markdown",
   "metadata": {
    "slideshow": {
     "slide_type": "slide"
    }
   },
   "source": [
    "# Controller Validation Results\n",
    "\n",
    "The controller captures the linear portion of control\n",
    "\n",
    "![](rider-id-treadmill-run.png)\n",
    "\n",
    "<p style=\"font-size: 0.5em;\">Moore, Jason K. “Human Control of a Bicycle.” Doctor of Philosophy, University of California, 2012. http://moorepants.github.com/dissertation.</p>"
   ]
  },
  {
   "cell_type": "markdown",
   "metadata": {
    "slideshow": {
     "slide_type": "notes"
    }
   },
   "source": [
    "## Notes\n",
    "\n",
    "We could incorporate remnant in the model.\n",
    "\n",
    "If there were no perturbations you would see the remnant."
   ]
  },
  {
   "cell_type": "markdown",
   "metadata": {
    "slideshow": {
     "slide_type": "slide"
    }
   },
   "source": [
    "# 4) Handling Quality Metric\n",
    "\n",
    "> rate control of any \"primary vehicle response variable\" is of fundamental importance from the standpoint of perceived vehicle handling qualities\n",
    "\n",
    "$$\n",
    "HQM = \\left|\\frac{\\dot{\\phi}(s)}{\\phi_c(s)}\\right| \\frac{1}{|k_\\phi|}\n",
    "$$\n",
    "\n",
    "The HQM defined above is a simple task independent measure that reflects the power in the human's roll rate feedback loop."
   ]
  },
  {
   "cell_type": "markdown",
   "metadata": {
    "slideshow": {
     "slide_type": "slide"
    }
   },
   "source": [
    "# Previous Aircraft Findings\n",
    "\n",
    "![](hqm-various-plants.png)\n",
    "\n",
    "<p style=\"font-size: 0.5em;\">Hess, R. A. “Simplified Approach for Modelling Pilot Pursuit Control Behavior in Multi-Loop Flight Control Tasks.” Proceedings of the Institute of Mechanical Engineers, Part G., Journal of Aerospace Engineering 220, no. 2 (April 2006): 85–102.</p>"
   ]
  },
  {
   "cell_type": "markdown",
   "metadata": {
    "slideshow": {
     "slide_type": "notes"
    }
   },
   "source": [
    "## Notes\n",
    "\n",
    "Cooper Harper is used by pilots to subjectively rate aircraft handling (bo derek scale, movie \"ten\"). High values of HQM are poor.\n",
    "\n",
    "Ralph Smith found that the rms value rate feedback value inversely correlated with Cooper Harper ratings.\n",
    "\n",
    "Ron tried to test the hypothesis by letting pilots test these different plants in the figure to show the correlation of his simplified estimate of the rate feedback to Cooper Harper.\n",
    "\n",
    "The figures shows the comparison in handling difficult of each of these plants."
   ]
  },
  {
   "cell_type": "markdown",
   "metadata": {
    "slideshow": {
     "slide_type": "slide"
    }
   },
   "source": [
    "# Comparison of common bicycles\n",
    "\n",
    "![](six-bicycles.jpg)"
   ]
  },
  {
   "cell_type": "markdown",
   "metadata": {
    "slideshow": {
     "slide_type": "slide"
    }
   },
   "source": [
    "![](hqm-normal-bicycle-comparison.jpg)\n",
    "\n",
    "<p style=\"font-size: 0.5em;\">Hess, Ronald, Jason K. Moore, and Mont Hubbard. “Modeling the Manually Controlled Bicycle.” IEEE Transactions on Systems, Man, and Cybernetics - Part A: Systems and Humans 42, no. 3 (May 2012): 545–57. doi:10.1109/TSMCA.2011.2164244.</p>"
   ]
  },
  {
   "cell_type": "markdown",
   "metadata": {
    "slideshow": {
     "slide_type": "notes"
    }
   },
   "source": [
    "## Notes\n",
    "\n",
    "Show the six bikes."
   ]
  },
  {
   "cell_type": "markdown",
   "metadata": {
    "slideshow": {
     "slide_type": "slide"
    }
   },
   "source": [
    "# Realizations\n",
    "\n",
    "- The handling quality metric decreases with speed all of the investigated bicycle designs.\n",
    "- Variations in physical parameters affect handling in different relative amounts depending on speed.\n",
    "\n",
    "<img src=\"hqm-vs-speed.png\" width=400px />"
   ]
  },
  {
   "cell_type": "markdown",
   "metadata": {
    "slideshow": {
     "slide_type": "notes"
    }
   },
   "source": [
    "## Notes\n",
    "\n",
    "Say somehting more about speed dependence.\n",
    "\n"
   ]
  },
  {
   "cell_type": "markdown",
   "metadata": {
    "slideshow": {
     "slide_type": "slide"
    }
   },
   "source": [
    "## Summary of HQM Method\n",
    "\n",
    "1. The human selects their \"gains\" such that they can perform tasks as good as possible.\n",
    "2. The activity in the roll rate feedback loop indicates how well the vehicle handles.\n",
    "\n",
    "**We now have a single value, max(HQM), that predicts handling.**"
   ]
  },
  {
   "cell_type": "markdown",
   "metadata": {
    "slideshow": {
     "slide_type": "notes"
    }
   },
   "source": [
    "Reiterate what the whole system we have in place is and what it returns.\n",
    "\n",
    "human chooses gains to perform the task\n",
    "hqm measures how well the do it (peak high = band handling)"
   ]
  },
  {
   "cell_type": "markdown",
   "metadata": {
    "slideshow": {
     "slide_type": "slide"
    }
   },
   "source": [
    "# What is bad handling?\n",
    "\n",
    "So, I built this bicycle this past year..."
   ]
  },
  {
   "cell_type": "markdown",
   "metadata": {
    "slideshow": {
     "slide_type": "slide"
    }
   },
   "source": [
    "![](falkor.jpg)"
   ]
  },
  {
   "cell_type": "markdown",
   "metadata": {
    "collapsed": true,
    "slideshow": {
     "slide_type": "notes"
    }
   },
   "source": [
    "Don't say the fatigue stuff, just talk about difference in low speed control and high speed."
   ]
  },
  {
   "cell_type": "markdown",
   "metadata": {
    "slideshow": {
     "slide_type": "slide"
    }
   },
   "source": [
    "# How does Falkor Handle?\n",
    "\n",
    "![](falkor-results.png)"
   ]
  },
  {
   "cell_type": "markdown",
   "metadata": {
    "slideshow": {
     "slide_type": "slide"
    }
   },
   "source": [
    "# Falkor's Eigenvalues\n",
    "\n",
    "![](falkor-eig.png)"
   ]
  },
  {
   "cell_type": "markdown",
   "metadata": {
    "slideshow": {
     "slide_type": "slide"
    }
   },
   "source": [
    "# Optimal Handling?\n",
    "\n",
    "Can we discover the set of physical parameters that minimize the handling quality metric?\n",
    "\n",
    "![](typical-bicycle-geometry.png)"
   ]
  },
  {
   "cell_type": "markdown",
   "metadata": {
    "slideshow": {
     "slide_type": "slide"
    }
   },
   "source": [
    "# Optimal Problem Formulation\n",
    "<br>\n",
    "$$\n",
    "  \\begin{aligned}\n",
    "    & \\underset{p}{\\text{minimize}} & & max(\\textrm{HQM}(p)) \\\\\n",
    "    & \\text{subject to} & & \\\\\n",
    "    & & & -\\infty <  c < \\infty \\\\\n",
    "    & & & \\frac{m_H x_H + m_B x_B}{m_H + m_B} \\leq w < \\infty \\\\\n",
    "    & & & -\\pi / 2 \\leq \\lambda \\leq \\pi/2 \\\\\n",
    "    & & & 0 < r_F < \\infty\n",
    "  \\end{aligned}\n",
    "$$\n",
    "$$\n",
    "  p = [c, w, r_F, \\lambda]\n",
    "$$"
   ]
  },
  {
   "cell_type": "markdown",
   "metadata": {
    "slideshow": {
     "slide_type": "slide"
    }
   },
   "source": [
    "# An Optimal Bicycle \n",
    "\n",
    "![](example-optimal-bicycle.png)"
   ]
  },
  {
   "cell_type": "markdown",
   "metadata": {
    "slideshow": {
     "slide_type": "slide"
    }
   },
   "source": [
    "# Handling and Stability\n",
    "\n",
    "![](optimal-05-eig.png)"
   ]
  },
  {
   "cell_type": "markdown",
   "metadata": {
    "slideshow": {
     "slide_type": "slide"
    }
   },
   "source": [
    "# Does this bicycle exist?\n",
    "\n",
    "<table>\n",
    "  <tr>\n",
    "    <td><img src=\"optimal-05-geometry.png\" /></td>\n",
    "    <td><img src=\"negative-trail-low-rider.jpg\" /></td>\n",
    "  </tr>\n",
    "</table>"
   ]
  },
  {
   "cell_type": "markdown",
   "metadata": {
    "slideshow": {
     "slide_type": "slide"
    }
   },
   "source": [
    "# Optimal Bicycle Simulation\n",
    "![](optimal-05-sim.png)\n"
   ]
  },
  {
   "cell_type": "markdown",
   "metadata": {
    "slideshow": {
     "slide_type": "slide"
    }
   },
   "source": [
    "# Optimal Bicycles at Various Speeds\n",
    "\n",
    "![](optimal-bicycles.png)"
   ]
  },
  {
   "cell_type": "markdown",
   "metadata": {
    "slideshow": {
     "slide_type": "slide"
    }
   },
   "source": [
    "# Conclusions\n",
    "\n",
    "- There is evidence that our handling quality metric correlates to actual handling.\n",
    "- In general, handling is a strong function of speed regardless of the particular physical design.\n",
    "- The handling of typical safety-style bicycles is a strong function of physical parameters but only at low speeds.\n",
    "- Unitutive geometry results from the optimal handling based design process.\n",
    "- We saw little evidence that open loop stability of the plant correlates with handling."
   ]
  },
  {
   "cell_type": "markdown",
   "metadata": {
    "slideshow": {
     "slide_type": "notes"
    }
   },
   "source": [
    "## Notes\n",
    "\n",
    "- evidence from simple laboratory tracking tasks, aircraft experiments, and two bicycles shown here.\n",
    "- \n",
    "  - The optimal design for 4 m/s is a counter example.\n",
    "\n"
   ]
  },
  {
   "cell_type": "markdown",
   "metadata": {
    "slideshow": {
     "slide_type": "slide"
    }
   },
   "source": [
    "# More info\n",
    "\n",
    "- Find me on social media as **@moorepants**\n",
    "- Website: http://moorepants.info\n",
    "- Slides are available at https://github.com/moorepants/BMD2016\n",
    "- Paper is available on Figshare: https://dx.doi.org/10.6084/m9.figshare.3806310.v1"
   ]
  }
 ],
 "metadata": {
  "anaconda-cloud": {},
  "celltoolbar": "Slideshow",
  "kernelspec": {
   "display_name": "Python [conda root]",
   "language": "python",
   "name": "conda-root-py"
  },
  "language_info": {
   "codemirror_mode": {
    "name": "ipython",
    "version": 3
   },
   "file_extension": ".py",
   "mimetype": "text/x-python",
   "name": "python",
   "nbconvert_exporter": "python",
   "pygments_lexer": "ipython3",
   "version": "3.5.2"
  },
  "nbpresent": {
   "slides": {
    "019f21f0-664a-41a9-915b-dfa933ea0c6d": {
     "id": "019f21f0-664a-41a9-915b-dfa933ea0c6d",
     "layout": "grid",
     "prev": "2d1fecb4-c3e2-435c-af59-909100387ed4",
     "regions": {
      "353fba60-1d52-40ab-91b0-ff81e298f2b9": {
       "attrs": {
        "height": 0.8333333333333334,
        "pad": 0.01,
        "width": 0.8333333333333334,
        "x": 0.08333333333333333,
        "y": 0.08333333333333333
       },
       "content": {
        "cell": "818e4250-fa28-47e0-8c1f-7fa313d1f982",
        "part": "source"
       },
       "height": 0.9,
       "id": "353fba60-1d52-40ab-91b0-ff81e298f2b9",
       "width": 0.9,
       "x": 0.05,
       "y": 0.05
      }
     },
     "theme": null
    },
    "12bf1c3b-5d54-42e1-aba1-7979e104a44a": {
     "id": "12bf1c3b-5d54-42e1-aba1-7979e104a44a",
     "prev": "8cc034ec-8b8e-4139-af42-eda535accba2",
     "regions": {
      "44491140-339c-418b-95f6-315870992a87": {
       "attrs": {
        "height": 0.7935067523172435,
        "width": 0.8529945553539019,
        "x": 0.07441016333938294,
        "y": 0.11615245316773322
       },
       "content": {
        "cell": "1ca2afec-b5e9-43da-9866-4c38066d8ed2",
        "part": "source"
       },
       "id": "44491140-339c-418b-95f6-315870992a87"
      }
     }
    },
    "21f342bb-71af-41d0-9b95-9d557742753d": {
     "id": "21f342bb-71af-41d0-9b95-9d557742753d",
     "prev": "019f21f0-664a-41a9-915b-dfa933ea0c6d",
     "regions": {},
     "theme": null
    },
    "2d1fecb4-c3e2-435c-af59-909100387ed4": {
     "id": "2d1fecb4-c3e2-435c-af59-909100387ed4",
     "layout": "grid",
     "prev": "4031985e-e435-4105-862f-8b590f0b87a8",
     "regions": {
      "0f591e33-ca04-4593-b969-27c9582279ba": {
       "attrs": {
        "height": 0.8333333333333334,
        "pad": 0.16000000000000006,
        "treemap:weight": 1,
        "width": 0.8333333333333334,
        "x": 0.08333333333333333,
        "y": 0.08333333333333333
       },
       "content": {
        "cell": "b0b4bc95-a60c-4215-9346-7e6bbc7344f7",
        "part": "source"
       },
       "height": 0.96,
       "id": "0f591e33-ca04-4593-b969-27c9582279ba",
       "pad": 0.16,
       "width": 0.96,
       "x": 0.02,
       "y": 0.02
      }
     }
    },
    "3e3b60f1-4ca1-4a69-9440-f73ce192916a": {
     "id": "3e3b60f1-4ca1-4a69-9440-f73ce192916a",
     "layout": "grid",
     "prev": "21f342bb-71af-41d0-9b95-9d557742753d",
     "regions": {
      "60e53a6d-3e8f-4bc8-8519-d75026b7308b": {
       "attrs": {
        "height": 0.8333333333333334,
        "pad": 0.01,
        "treemap:weight": 1,
        "width": 0.8333333333333334,
        "x": 0.08333333333333333,
        "y": 0.08333333333333333
       },
       "content": {
        "cell": "ed3f4684-3f03-44d7-90e1-bb25ac4f0a45",
        "part": "source"
       },
       "height": 0.18,
       "id": "60e53a6d-3e8f-4bc8-8519-d75026b7308b",
       "width": 0.98,
       "y": 0
      }
     }
    },
    "3ed7d04a-d864-489b-b080-8d381d7f8b38": {
     "id": "3ed7d04a-d864-489b-b080-8d381d7f8b38",
     "prev": "3e3b60f1-4ca1-4a69-9440-f73ce192916a",
     "regions": {
      "c60f7770-66c5-4fb3-920e-4ed77ac7067e": {
       "attrs": {
        "height": 0.8,
        "width": 0.45,
        "x": 0.5,
        "y": 0.1
       },
       "content": {
        "cell": "ae78db8f-b97f-4e03-9a98-f5bb4380d6a2",
        "part": "source"
       },
       "id": "c60f7770-66c5-4fb3-920e-4ed77ac7067e"
      },
      "ef7ac71f-1089-407f-840a-3034f153d515": {
       "attrs": {
        "height": 0.8,
        "width": 0.45,
        "x": 0.05,
        "y": 0.1
       },
       "content": {
        "cell": "226adb9f-1981-4c1f-ae23-70b55a28f601",
        "part": "source"
       },
       "id": "ef7ac71f-1089-407f-840a-3034f153d515"
      }
     }
    },
    "4031985e-e435-4105-862f-8b590f0b87a8": {
     "id": "4031985e-e435-4105-862f-8b590f0b87a8",
     "layout": "grid",
     "prev": null,
     "regions": {
      "b43d88ff-76df-4f64-9ae5-8351ecbe057f": {
       "attrs": {
        "height": 0.1672289698605488,
        "pad": 0.01,
        "width": 0.25,
        "x": 0.08333333333333333,
        "y": 0.7494376968061178
       },
       "content": {
        "cell": "4b217dff-7607-4ba9-87db-3aa84c459da2",
        "part": "source"
       },
       "id": "b43d88ff-76df-4f64-9ae5-8351ecbe057f"
      },
      "c043cbaa-8f9c-4b3b-aa17-eb0cd957b8f7": {
       "attrs": {
        "height": 0.16666666666666666,
        "pad": 0.01,
        "width": 0.582995951417004,
        "x": 0.33367071524966263,
        "y": 0.75
       },
       "content": {
        "cell": "839bc023-c717-401a-adea-eaaa625a476f",
        "part": "source"
       },
       "id": "c043cbaa-8f9c-4b3b-aa17-eb0cd957b8f7"
      },
      "c8bc1c1b-39ee-4a31-b716-6745a2c68ae3": {
       "attrs": {
        "height": 0.6666666666666666,
        "pad": 0.01,
        "width": 0.8333333333333334,
        "x": 0.08333333333333333,
        "y": 0.08333333333333333
       },
       "content": {
        "cell": "40a60bb3-b809-4acc-bf1b-a66025df2850",
        "part": "source"
       },
       "id": "c8bc1c1b-39ee-4a31-b716-6745a2c68ae3"
      }
     },
     "theme": null
    },
    "602b1a88-7ee7-405b-9116-5ce88451de55": {
     "id": "602b1a88-7ee7-405b-9116-5ce88451de55",
     "layout": "grid",
     "prev": "3ed7d04a-d864-489b-b080-8d381d7f8b38",
     "regions": {
      "988ed016-0293-410a-ac8b-d9c877fe34f2": {
       "attrs": {
        "height": 0.8333333333333334,
        "pad": 0.01,
        "width": 0.8333333333333334,
        "x": 0.08333333333333333,
        "y": 0.08333333333333333
       },
       "content": {
        "cell": "6dcbef74-6183-4bc6-a82e-94f3b6778b68",
        "part": "source"
       },
       "height": 0.9,
       "id": "988ed016-0293-410a-ac8b-d9c877fe34f2",
       "width": 0.9,
       "x": 0.05,
       "y": 0.05
      }
     },
     "theme": null
    },
    "65578064-67c9-40ef-999b-b5c927b4510a": {
     "id": "65578064-67c9-40ef-999b-b5c927b4510a",
     "layout": "grid",
     "prev": "12bf1c3b-5d54-42e1-aba1-7979e104a44a",
     "regions": {
      "c8248781-e91b-4c47-a9b1-439157422b6b": {
       "attrs": {
        "height": 0.8333333333333334,
        "pad": 0.01,
        "width": 0.8333333333333334,
        "x": 0.08333333333333333,
        "y": 0.08333333333333333
       },
       "content": {
        "cell": "1f7e2eba-86e5-4aa4-ac0c-e1549fc0ffc6",
        "part": "source"
       },
       "height": 0.9,
       "id": "c8248781-e91b-4c47-a9b1-439157422b6b",
       "width": 0.9,
       "x": 0.05,
       "y": 0.05
      }
     },
     "theme": null
    },
    "844d9ed1-ee1b-47e1-89f4-f97963bcf68f": {
     "id": "844d9ed1-ee1b-47e1-89f4-f97963bcf68f",
     "layout": "grid",
     "prev": "602b1a88-7ee7-405b-9116-5ce88451de55",
     "regions": {
      "5b642897-785e-4781-9cd8-11c035ca1359": {
       "attrs": {
        "height": 0.8333333333333334,
        "pad": 0.01,
        "width": 0.8333333333333334,
        "x": 0.08333333333333333,
        "y": 0.08333333333333333
       },
       "content": {
        "cell": "26d56ceb-bb8e-48c7-89a7-5ec5cc93b4be",
        "part": "source"
       },
       "id": "5b642897-785e-4781-9cd8-11c035ca1359"
      }
     }
    },
    "8cc034ec-8b8e-4139-af42-eda535accba2": {
     "id": "8cc034ec-8b8e-4139-af42-eda535accba2",
     "layout": "grid",
     "prev": "f466267a-5d87-4c58-b7fb-b81c0a59e2f1",
     "regions": {
      "bce11397-bf2e-46e0-95a2-bd47ce3cefa1": {
       "attrs": {
        "height": 0.8333333333333334,
        "pad": 0.01,
        "width": 0.8333333333333334,
        "x": 0.08333333333333333,
        "y": 0.08333333333333333
       },
       "height": 0.9,
       "id": "bce11397-bf2e-46e0-95a2-bd47ce3cefa1",
       "width": 0.9,
       "x": 0.05,
       "y": 0.05
      }
     },
     "theme": null
    },
    "f0315a02-dc64-45b3-a089-4e8b4ce0ead4": {
     "id": "f0315a02-dc64-45b3-a089-4e8b4ce0ead4",
     "layout": "grid",
     "prev": "844d9ed1-ee1b-47e1-89f4-f97963bcf68f",
     "regions": {
      "fdb4c0ea-43ea-40a5-a25e-95674f349574": {
       "attrs": {
        "height": 0.8333333333333334,
        "pad": 0.01,
        "treemap:weight": 1,
        "width": 0.8333333333333334,
        "x": 0.08333333333333333,
        "y": 0.08333333333333333
       },
       "content": {
        "cell": "77111e6c-8569-44e1-a733-ed2b2c2a5f10",
        "part": "source"
       },
       "height": 0.18,
       "id": "fdb4c0ea-43ea-40a5-a25e-95674f349574",
       "width": 0.98,
       "y": 0
      }
     }
    },
    "f466267a-5d87-4c58-b7fb-b81c0a59e2f1": {
     "id": "f466267a-5d87-4c58-b7fb-b81c0a59e2f1",
     "layout": "grid",
     "prev": "f0315a02-dc64-45b3-a089-4e8b4ce0ead4",
     "regions": {
      "1f3dcad8-1b1b-4c55-af47-e0850b5f1d5c": {
       "attrs": {
        "height": 0.8333333333333334,
        "pad": 0.01,
        "width": 0.8333333333333334,
        "x": 0.08333333333333333,
        "y": 0.08333333333333333
       },
       "content": {
        "cell": "3daeec1e-63b3-444a-80a7-f5e3cf42c4c8",
        "part": "source"
       },
       "height": 0.9,
       "id": "1f3dcad8-1b1b-4c55-af47-e0850b5f1d5c",
       "width": 0.9,
       "x": 0.05,
       "y": 0.05
      }
     },
     "theme": null
    }
   },
   "themes": {
    "default": "65d3a675-ce21-4a21-87f8-66b1a6a85709",
    "theme": {
     "0db2a142-abc2-48c2-a105-77aac30875f3": {
      "backgrounds": {
       "backgroundColor": {
        "background-color": "backgroundColor",
        "id": "backgroundColor"
       }
      },
      "id": "0db2a142-abc2-48c2-a105-77aac30875f3",
      "palette": {
       "backgroundColor": {
        "id": "backgroundColor",
        "rgb": [
         17,
         17,
         17
        ]
       },
       "headingColor": {
        "id": "headingColor",
        "rgb": [
         238,
         238,
         238
        ]
       },
       "linkColor": {
        "id": "linkColor",
        "rgb": [
         231,
         173,
         82
        ]
       },
       "mainColor": {
        "id": "mainColor",
        "rgb": [
         238,
         238,
         238
        ]
       }
      },
      "rules": {
       "a": {
        "color": "linkColor"
       },
       "h1": {
        "color": "headingColor",
        "font-family": "Montserrat",
        "font-size": 7
       },
       "h2": {
        "color": "headingColor",
        "font-family": "Montserrat",
        "font-size": 5
       },
       "h3": {
        "color": "headingColor",
        "font-family": "Montserrat",
        "font-size": 3.75
       },
       "h4": {
        "color": "headingColor",
        "font-family": "Montserrat",
        "font-size": 3
       },
       "h5": {
        "color": "headingColor",
        "font-family": "Montserrat"
       },
       "h6": {
        "color": "headingColor",
        "font-family": "Montserrat"
       },
       "h7": {
        "color": "headingColor",
        "font-family": "Montserrat"
       },
       "li": {
        "color": "mainColor",
        "font-family": "Open Sans",
        "font-size": 4
       },
       "p": {
        "color": "mainColor",
        "font-family": "Open Sans",
        "font-size": 4
       }
      },
      "text-base": {
       "color": "mainColor",
       "font-family": "Open Sans",
       "font-size": 4
      }
     },
     "0f6cd840-bfd6-4beb-80d8-ad6a56674ab0": {
      "backgrounds": {
       "backgroundColor": {
        "background-color": "backgroundColor",
        "id": "backgroundColor"
       }
      },
      "id": "0f6cd840-bfd6-4beb-80d8-ad6a56674ab0",
      "palette": {
       "backgroundColor": {
        "id": "backgroundColor",
        "rgb": [
         240,
         241,
         235
        ]
       },
       "headingColor": {
        "id": "headingColor",
        "rgb": [
         56,
         61,
         61
        ]
       },
       "linkColor": {
        "id": "linkColor",
        "rgb": [
         81,
         72,
         61
        ]
       },
       "mainColor": {
        "id": "mainColor",
        "rgb": [
         0,
         0,
         0
        ]
       }
      },
      "rules": {
       "a": {
        "color": "linkColor"
       },
       "h1": {
        "color": "headingColor",
        "font-family": "EB Garamond",
        "font-size": 7
       },
       "h2": {
        "color": "headingColor",
        "font-family": "EB Garamond",
        "font-size": 5
       },
       "h3": {
        "color": "headingColor",
        "font-family": "EB Garamond",
        "font-size": 3.75
       },
       "h4": {
        "color": "headingColor",
        "font-family": "EB Garamond",
        "font-size": 3
       },
       "h5": {
        "color": "headingColor",
        "font-family": "EB Garamond"
       },
       "h6": {
        "color": "headingColor",
        "font-family": "EB Garamond"
       },
       "h7": {
        "color": "headingColor",
        "font-family": "EB Garamond"
       },
       "li": {
        "color": "mainColor",
        "font-family": "EB Garamond",
        "font-size": 5
       },
       "p": {
        "color": "mainColor",
        "font-family": "EB Garamond",
        "font-size": 5
       }
      },
      "text-base": {
       "color": "mainColor",
       "font-family": "EB Garamond",
       "font-size": 5
      }
     },
     "1e6db866-69db-4565-a3a0-d8209cd38804": {
      "backgrounds": {
       "backgroundColor": {
        "background-color": "backgroundColor",
        "id": "backgroundColor"
       }
      },
      "id": "1e6db866-69db-4565-a3a0-d8209cd38804",
      "palette": {
       "backgroundColor": {
        "id": "backgroundColor",
        "rgb": [
         256,
         256,
         256
        ]
       },
       "headingColor": {
        "id": "headingColor",
        "rgb": [
         0,
         0,
         0
        ]
       },
       "linkColor": {
        "id": "linkColor",
        "rgb": [
         0,
         0,
         139
        ]
       },
       "mainColor": {
        "id": "mainColor",
        "rgb": [
         0,
         0,
         0
        ]
       }
      },
      "rules": {
       "a": {
        "color": "linkColor"
       },
       "h1": {
        "color": "headingColor",
        "font-family": "News Cycle",
        "font-size": 7
       },
       "h2": {
        "color": "headingColor",
        "font-family": "News Cycle",
        "font-size": 5
       },
       "h3": {
        "color": "headingColor",
        "font-family": "News Cycle",
        "font-size": 3.75
       },
       "h4": {
        "color": "headingColor",
        "font-family": "News Cycle",
        "font-size": 3
       },
       "h5": {
        "color": "headingColor",
        "font-family": "News Cycle"
       },
       "h6": {
        "color": "headingColor",
        "font-family": "News Cycle"
       },
       "h7": {
        "color": "headingColor",
        "font-family": "News Cycle"
       },
       "li": {
        "color": "mainColor",
        "font-family": "Lato",
        "font-size": 5
       },
       "p": {
        "color": "mainColor",
        "font-family": "Lato",
        "font-size": 5
       }
      },
      "text-base": {
       "color": "mainColor",
       "font-family": "Lato",
       "font-size": 5
      }
     },
     "3585f001-f312-47eb-9423-b5b81e7313b3": {
      "backgrounds": {
       "backgroundColor": {
        "background-color": "backgroundColor",
        "id": "backgroundColor"
       }
      },
      "id": "3585f001-f312-47eb-9423-b5b81e7313b3",
      "palette": {
       "backgroundColor": {
        "id": "backgroundColor",
        "rgb": [
         34,
         34,
         34
        ]
       },
       "headingColor": {
        "id": "headingColor",
        "rgb": [
         256,
         256,
         256
        ]
       },
       "linkColor": {
        "id": "linkColor",
        "rgb": [
         66,
         175,
         250
        ]
       },
       "mainColor": {
        "id": "mainColor",
        "rgb": [
         256,
         256,
         256
        ]
       }
      },
      "rules": {
       "a": {
        "color": "linkColor"
       },
       "h1": {
        "color": "headingColor",
        "font-family": "Source Sans Pro",
        "font-size": 5.25
       },
       "h2": {
        "color": "headingColor",
        "font-family": "Source Sans Pro",
        "font-size": 4
       },
       "h3": {
        "color": "headingColor",
        "font-family": "Source Sans Pro",
        "font-size": 3.5
       },
       "h4": {
        "color": "headingColor",
        "font-family": "Source Sans Pro",
        "font-size": 3
       },
       "h5": {
        "color": "headingColor",
        "font-family": "Source Sans Pro"
       },
       "h6": {
        "color": "headingColor",
        "font-family": "Source Sans Pro"
       },
       "h7": {
        "color": "headingColor",
        "font-family": "Source Sans Pro"
       },
       "li": {
        "color": "mainColor",
        "font-family": "Source Sans Pro",
        "font-size": 6
       },
       "p": {
        "color": "mainColor",
        "font-family": "Source Sans Pro",
        "font-size": 6
       }
      },
      "text-base": {
       "color": "mainColor",
       "font-family": "Source Sans Pro",
       "font-size": 6
      }
     },
     "44d29c5e-27bb-4186-9d61-5645bfdcff1f": {
      "backgrounds": {
       "backgroundColor": {
        "background-color": "backgroundColor",
        "id": "backgroundColor"
       }
      },
      "id": "44d29c5e-27bb-4186-9d61-5645bfdcff1f",
      "palette": {
       "backgroundColor": {
        "id": "backgroundColor",
        "rgb": [
         256,
         256,
         256
        ]
       },
       "headingColor": {
        "id": "headingColor",
        "rgb": [
         34,
         34,
         34
        ]
       },
       "linkColor": {
        "id": "linkColor",
        "rgb": [
         42,
         118,
         221
        ]
       },
       "mainColor": {
        "id": "mainColor",
        "rgb": [
         34,
         34,
         34
        ]
       }
      },
      "rules": {
       "a": {
        "color": "linkColor"
       },
       "h1": {
        "color": "headingColor",
        "font-family": "Source Sans Pro",
        "font-size": 5.25
       },
       "h2": {
        "color": "headingColor",
        "font-family": "Source Sans Pro",
        "font-size": 4
       },
       "h3": {
        "color": "headingColor",
        "font-family": "Source Sans Pro",
        "font-size": 3.5
       },
       "h4": {
        "color": "headingColor",
        "font-family": "Source Sans Pro",
        "font-size": 3
       },
       "h5": {
        "color": "headingColor",
        "font-family": "Source Sans Pro"
       },
       "h6": {
        "color": "headingColor",
        "font-family": "Source Sans Pro"
       },
       "h7": {
        "color": "headingColor",
        "font-family": "Source Sans Pro"
       },
       "li": {
        "color": "mainColor",
        "font-family": "Source Sans Pro",
        "font-size": 6
       },
       "p": {
        "color": "mainColor",
        "font-family": "Source Sans Pro",
        "font-size": 6
       }
      },
      "text-base": {
       "color": "mainColor",
       "font-family": "Source Sans Pro",
       "font-size": 6
      }
     },
     "4fc167aa-cb94-4cdb-a7ca-e46f89bddb31": {
      "backgrounds": {
       "backgroundColor": {
        "background-color": "backgroundColor",
        "id": "backgroundColor"
       }
      },
      "id": "4fc167aa-cb94-4cdb-a7ca-e46f89bddb31",
      "palette": {
       "backgroundColor": {
        "id": "backgroundColor",
        "rgb": [
         43,
         43,
         43
        ]
       },
       "headingColor": {
        "id": "headingColor",
        "rgb": [
         238,
         238,
         238
        ]
       },
       "linkColor": {
        "id": "linkColor",
        "rgb": [
         19,
         218,
         236
        ]
       },
       "mainColor": {
        "id": "mainColor",
        "rgb": [
         238,
         238,
         238
        ]
       }
      },
      "rules": {
       "a": {
        "color": "linkColor"
       },
       "h1": {
        "color": "headingColor",
        "font-family": "Oswald",
        "font-size": 7
       },
       "h2": {
        "color": "headingColor",
        "font-family": "Oswald",
        "font-size": 5
       },
       "h3": {
        "color": "headingColor",
        "font-family": "Oswald",
        "font-size": 3.75
       },
       "h4": {
        "color": "headingColor",
        "font-family": "Oswald",
        "font-size": 3
       },
       "h5": {
        "color": "headingColor",
        "font-family": "Oswald"
       },
       "h6": {
        "color": "headingColor",
        "font-family": "Oswald"
       },
       "h7": {
        "color": "headingColor",
        "font-family": "Oswald"
       },
       "li": {
        "color": "mainColor",
        "font-family": "Lato",
        "font-size": 5
       },
       "p": {
        "color": "mainColor",
        "font-family": "Lato",
        "font-size": 5
       }
      },
      "text-base": {
       "color": "mainColor",
       "font-family": "Lato",
       "font-size": 5
      }
     },
     "65d3a675-ce21-4a21-87f8-66b1a6a85709": {
      "id": "65d3a675-ce21-4a21-87f8-66b1a6a85709",
      "palette": {
       "19cc588f-0593-49c9-9f4b-e4d7cc113b1c": {
        "id": "19cc588f-0593-49c9-9f4b-e4d7cc113b1c",
        "rgb": [
         252,
         252,
         252
        ]
       },
       "31af15d2-7e15-44c5-ab5e-e04b16a89eff": {
        "id": "31af15d2-7e15-44c5-ab5e-e04b16a89eff",
        "rgb": [
         68,
         68,
         68
        ]
       },
       "50f92c45-a630-455b-aec3-788680ec7410": {
        "id": "50f92c45-a630-455b-aec3-788680ec7410",
        "rgb": [
         155,
         177,
         192
        ]
       },
       "c5cc3653-2ee1-402a-aba2-7caae1da4f6c": {
        "id": "c5cc3653-2ee1-402a-aba2-7caae1da4f6c",
        "rgb": [
         43,
         126,
         184
        ]
       },
       "efa7f048-9acb-414c-8b04-a26811511a21": {
        "id": "efa7f048-9acb-414c-8b04-a26811511a21",
        "rgb": [
         25.118061674008803,
         73.60176211453744,
         107.4819383259912
        ]
       }
      },
      "rules": {
       "blockquote": {
        "color": "50f92c45-a630-455b-aec3-788680ec7410"
       },
       "code": {
        "font-family": "Anonymous Pro"
       },
       "h1": {
        "color": "c5cc3653-2ee1-402a-aba2-7caae1da4f6c",
        "font-family": "Lato",
        "font-size": 8
       },
       "h2": {
        "color": "c5cc3653-2ee1-402a-aba2-7caae1da4f6c",
        "font-family": "Lato",
        "font-size": 6
       },
       "h3": {
        "color": "50f92c45-a630-455b-aec3-788680ec7410",
        "font-family": "Lato",
        "font-size": 5.5
       },
       "h4": {
        "color": "c5cc3653-2ee1-402a-aba2-7caae1da4f6c",
        "font-family": "Lato",
        "font-size": 5
       },
       "h5": {
        "font-family": "Lato"
       },
       "h6": {
        "font-family": "Lato"
       },
       "h7": {
        "font-family": "Lato"
       },
       "pre": {
        "font-family": "Anonymous Pro",
        "font-size": 4
       }
      },
      "text-base": {
       "font-family": "Merriweather",
       "font-size": 4
      }
     },
     "73ac5aca-4f40-41c2-89d7-548fb387c0e2": {
      "backgrounds": {
       "backgroundColor": {
        "background-color": "backgroundColor",
        "id": "backgroundColor"
       }
      },
      "id": "73ac5aca-4f40-41c2-89d7-548fb387c0e2",
      "palette": {
       "backgroundColor": {
        "id": "backgroundColor",
        "rgb": [
         34,
         34,
         34
        ]
       },
       "headingColor": {
        "id": "headingColor",
        "rgb": [
         238,
         238,
         238
        ]
       },
       "linkColor": {
        "id": "linkColor",
        "rgb": [
         170,
         34,
         51
        ]
       },
       "mainColor": {
        "id": "mainColor",
        "rgb": [
         238,
         238,
         238
        ]
       }
      },
      "rules": {
       "a": {
        "color": "linkColor"
       },
       "h1": {
        "color": "headingColor",
        "font-family": "Ubuntu",
        "font-size": 7
       },
       "h2": {
        "color": "headingColor",
        "font-family": "Ubuntu",
        "font-size": 5
       },
       "h3": {
        "color": "headingColor",
        "font-family": "Ubuntu",
        "font-size": 3.75
       },
       "h4": {
        "color": "headingColor",
        "font-family": "Ubuntu",
        "font-size": 3
       },
       "h5": {
        "color": "headingColor",
        "font-family": "Ubuntu"
       },
       "h6": {
        "color": "headingColor",
        "font-family": "Ubuntu"
       },
       "h7": {
        "color": "headingColor",
        "font-family": "Ubuntu"
       },
       "li": {
        "color": "mainColor",
        "font-family": "Ubuntu",
        "font-size": 5
       },
       "p": {
        "color": "mainColor",
        "font-family": "Ubuntu",
        "font-size": 5
       }
      },
      "text-base": {
       "color": "mainColor",
       "font-family": "Ubuntu",
       "font-size": 5
      }
     },
     "8ca1b036-a630-401c-b22c-15554bc53e48": {
      "backgrounds": {
       "backgroundColor": {
        "background-color": "backgroundColor",
        "id": "backgroundColor"
       }
      },
      "id": "8ca1b036-a630-401c-b22c-15554bc53e48",
      "palette": {
       "backgroundColor": {
        "id": "backgroundColor",
        "rgb": [
         253,
         246,
         227
        ]
       },
       "headingColor": {
        "id": "headingColor",
        "rgb": [
         88,
         110,
         117
        ]
       },
       "linkColor": {
        "id": "linkColor",
        "rgb": [
         38,
         139,
         210
        ]
       },
       "mainColor": {
        "id": "mainColor",
        "rgb": [
         101,
         123,
         131
        ]
       }
      },
      "rules": {
       "a": {
        "color": "linkColor"
       },
       "h1": {
        "color": "headingColor",
        "font-family": "Oswald",
        "font-size": 7
       },
       "h2": {
        "color": "headingColor",
        "font-family": "Oswald",
        "font-size": 5
       },
       "h3": {
        "color": "headingColor",
        "font-family": "Oswald",
        "font-size": 3.75
       },
       "h4": {
        "color": "headingColor",
        "font-family": "Oswald",
        "font-size": 3
       },
       "h5": {
        "color": "headingColor",
        "font-family": "Oswald"
       },
       "h6": {
        "color": "headingColor",
        "font-family": "Oswald"
       },
       "h7": {
        "color": "headingColor",
        "font-family": "Oswald"
       },
       "li": {
        "color": "mainColor",
        "font-family": "Lato",
        "font-size": 5
       },
       "p": {
        "color": "mainColor",
        "font-family": "Lato",
        "font-size": 5
       }
      },
      "text-base": {
       "color": "mainColor",
       "font-family": "Lato",
       "font-size": 5
      }
     },
     "cbf20650-8c02-43a2-a1b8-a57ddd636fe1": {
      "backgrounds": {
       "backgroundColor": {
        "background-color": "backgroundColor",
        "id": "backgroundColor"
       }
      },
      "id": "cbf20650-8c02-43a2-a1b8-a57ddd636fe1",
      "palette": {
       "backgroundColor": {
        "id": "backgroundColor",
        "rgb": [
         247,
         243,
         222
        ]
       },
       "headingColor": {
        "id": "headingColor",
        "rgb": [
         51,
         51,
         51
        ]
       },
       "linkColor": {
        "id": "linkColor",
        "rgb": [
         139,
         116,
         61
        ]
       },
       "mainColor": {
        "id": "mainColor",
        "rgb": [
         51,
         51,
         51
        ]
       }
      },
      "rules": {
       "a": {
        "color": "linkColor"
       },
       "h1": {
        "color": "headingColor",
        "font-family": "Oswald",
        "font-size": 7
       },
       "h2": {
        "color": "headingColor",
        "font-family": "Oswald",
        "font-size": 5
       },
       "h3": {
        "color": "headingColor",
        "font-family": "Oswald",
        "font-size": 3.75
       },
       "h4": {
        "color": "headingColor",
        "font-family": "Oswald",
        "font-size": 3
       },
       "h5": {
        "color": "headingColor",
        "font-family": "Oswald"
       },
       "h6": {
        "color": "headingColor",
        "font-family": "Oswald"
       },
       "h7": {
        "color": "headingColor",
        "font-family": "Oswald"
       },
       "li": {
        "color": "mainColor",
        "font-family": "Lato",
        "font-size": 5
       },
       "p": {
        "color": "mainColor",
        "font-family": "Lato",
        "font-size": 5
       }
      },
      "text-base": {
       "color": "mainColor",
       "font-family": "Lato",
       "font-size": 5
      }
     },
     "dabb66a4-1036-4506-b36f-0e44cab43dee": {
      "backgrounds": {
       "backgroundColor": {
        "background-color": "backgroundColor",
        "id": "backgroundColor"
       }
      },
      "id": "dabb66a4-1036-4506-b36f-0e44cab43dee",
      "palette": {
       "backgroundColor": {
        "id": "backgroundColor",
        "rgb": [
         247,
         251,
         252
        ]
       },
       "headingColor": {
        "id": "headingColor",
        "rgb": [
         51,
         51,
         51
        ]
       },
       "linkColor": {
        "id": "linkColor",
        "rgb": [
         59,
         117,
         158
        ]
       },
       "mainColor": {
        "id": "mainColor",
        "rgb": [
         51,
         51,
         51
        ]
       }
      },
      "rules": {
       "a": {
        "color": "linkColor"
       },
       "h1": {
        "color": "headingColor",
        "font-family": "Quicksand",
        "font-size": 7
       },
       "h2": {
        "color": "headingColor",
        "font-family": "Quicksand",
        "font-size": 5
       },
       "h3": {
        "color": "headingColor",
        "font-family": "Quicksand",
        "font-size": 3.75
       },
       "h4": {
        "color": "headingColor",
        "font-family": "Quicksand",
        "font-size": 3
       },
       "h5": {
        "color": "headingColor",
        "font-family": "Quicksand"
       },
       "h6": {
        "color": "headingColor",
        "font-family": "Quicksand"
       },
       "h7": {
        "color": "headingColor",
        "font-family": "Quicksand"
       },
       "li": {
        "color": "mainColor",
        "font-family": "Open Sans",
        "font-size": 5
       },
       "p": {
        "color": "mainColor",
        "font-family": "Open Sans",
        "font-size": 5
       }
      },
      "text-base": {
       "color": "mainColor",
       "font-family": "Open Sans",
       "font-size": 5
      }
     },
     "dd3539c9-bfdc-47c3-925a-4651825f6ec5": {
      "backgrounds": {
       "dc7afa04-bf90-40b1-82a5-726e3cff5267": {
        "background-color": "31af15d2-7e15-44c5-ab5e-e04b16a89eff",
        "id": "dc7afa04-bf90-40b1-82a5-726e3cff5267"
       }
      },
      "id": "dd3539c9-bfdc-47c3-925a-4651825f6ec5",
      "palette": {
       "19cc588f-0593-49c9-9f4b-e4d7cc113b1c": {
        "id": "19cc588f-0593-49c9-9f4b-e4d7cc113b1c",
        "rgb": [
         252,
         252,
         252
        ]
       },
       "31af15d2-7e15-44c5-ab5e-e04b16a89eff": {
        "id": "31af15d2-7e15-44c5-ab5e-e04b16a89eff",
        "rgb": [
         68,
         68,
         68
        ]
       },
       "50f92c45-a630-455b-aec3-788680ec7410": {
        "id": "50f92c45-a630-455b-aec3-788680ec7410",
        "rgb": [
         197,
         226,
         245
        ]
       },
       "c5cc3653-2ee1-402a-aba2-7caae1da4f6c": {
        "id": "c5cc3653-2ee1-402a-aba2-7caae1da4f6c",
        "rgb": [
         43,
         126,
         184
        ]
       },
       "efa7f048-9acb-414c-8b04-a26811511a21": {
        "id": "efa7f048-9acb-414c-8b04-a26811511a21",
        "rgb": [
         25.118061674008803,
         73.60176211453744,
         107.4819383259912
        ]
       }
      },
      "rules": {
       "a": {
        "color": "19cc588f-0593-49c9-9f4b-e4d7cc113b1c"
       },
       "blockquote": {
        "color": "50f92c45-a630-455b-aec3-788680ec7410",
        "font-size": 3
       },
       "code": {
        "font-family": "Anonymous Pro"
       },
       "h1": {
        "color": "19cc588f-0593-49c9-9f4b-e4d7cc113b1c",
        "font-family": "Merriweather",
        "font-size": 8
       },
       "h2": {
        "color": "19cc588f-0593-49c9-9f4b-e4d7cc113b1c",
        "font-family": "Merriweather",
        "font-size": 6
       },
       "h3": {
        "color": "50f92c45-a630-455b-aec3-788680ec7410",
        "font-family": "Lato",
        "font-size": 5.5
       },
       "h4": {
        "color": "c5cc3653-2ee1-402a-aba2-7caae1da4f6c",
        "font-family": "Lato",
        "font-size": 5
       },
       "h5": {
        "font-family": "Lato"
       },
       "h6": {
        "font-family": "Lato"
       },
       "h7": {
        "font-family": "Lato"
       },
       "li": {
        "color": "50f92c45-a630-455b-aec3-788680ec7410",
        "font-size": 3.25
       },
       "pre": {
        "font-family": "Anonymous Pro",
        "font-size": 4
       }
      },
      "text-base": {
       "color": "19cc588f-0593-49c9-9f4b-e4d7cc113b1c",
       "font-family": "Lato",
       "font-size": 4
      }
     }
    }
   }
  }
 },
 "nbformat": 4,
 "nbformat_minor": 1
}
